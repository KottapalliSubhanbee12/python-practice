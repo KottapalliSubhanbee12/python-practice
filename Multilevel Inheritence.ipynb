{
 "cells": [
  {
   "cell_type": "code",
   "execution_count": 43,
   "id": "5e2002c0-2043-402e-aaaf-587626c9e107",
   "metadata": {},
   "outputs": [
    {
     "name": "stdin",
     "output_type": "stream",
     "text": [
      " subbu\n",
      " 11\n",
      " 20\n",
      " 30\n"
     ]
    },
    {
     "ename": "NameError",
     "evalue": "name 'Temporary_Staff' is not defined",
     "output_type": "error",
     "traceback": [
      "\u001b[1;31m---------------------------------------------------------------------------\u001b[0m",
      "\u001b[1;31mNameError\u001b[0m                                 Traceback (most recent call last)",
      "Cell \u001b[1;32mIn[43], line 33\u001b[0m\n\u001b[0;32m     31\u001b[0m days_worked\u001b[38;5;241m=\u001b[39m\u001b[38;5;28mint\u001b[39m(\u001b[38;5;28minput\u001b[39m())\n\u001b[0;32m     32\u001b[0m hoursworked\u001b[38;5;241m=\u001b[39m\u001b[38;5;28mint\u001b[39m(\u001b[38;5;28minput\u001b[39m())\n\u001b[1;32m---> 33\u001b[0m Temporary_staff \u001b[38;5;241m=\u001b[39m Temporary_Staff(name, Id, days, hoursworked)\n\u001b[0;32m     36\u001b[0m Temporary_staff\u001b[38;5;241m.\u001b[39mdisplay()\n",
      "\u001b[1;31mNameError\u001b[0m: name 'Temporary_Staff' is not defined"
     ]
    }
   ],
   "source": [
    "class Person():\n",
    "    def __init__(self,name):\n",
    "        super().__init__()\n",
    "        self.name= personname\n",
    "    def display_data(self):\n",
    "        print(self.name)\n",
    "\n",
    "class Staff():\n",
    "    def __init__(self,id):\n",
    "        super().__init__()\n",
    "        self.id=id\n",
    "    def display_data(self):\n",
    "        print(self.id)\n",
    "\n",
    "class Temporary_staff():\n",
    "    def __init__(self,name,id,days,hoursworked):\n",
    "        super().__init__()\n",
    "        self.days=days\n",
    "        self.hoursworked=hoursworked\n",
    "    def Salary(self):\n",
    "        salary=days*hoursworked*150\n",
    "        return salary\n",
    "    def display(self):\n",
    "        super().display()\n",
    "        print(\" no.of Days:\",days)\n",
    "        print(\"Hoursworked:\",hoursworked)\n",
    "        print(\"Total Salary :\",self.salary())\n",
    "\n",
    "name=input()\n",
    "id=int(input())\n",
    "days_worked=int(input())\n",
    "hoursworked=int(input())\n",
    "Temporary_staff = Temporary_Staff(name, Id, days, hoursworked)\n",
    "\n",
    "\n",
    "Temporary_staff.display()\n",
    "        \n",
    "\n"
   ]
  },
  {
   "cell_type": "code",
   "execution_count": 47,
   "id": "e3fdea18-033c-453b-bfb1-81fbcdc084b4",
   "metadata": {},
   "outputs": [
    {
     "name": "stdin",
     "output_type": "stream",
     "text": [
      "Enter name:  subbu\n",
      "Enter ID:  11\n",
      "Enter number of days worked:  20\n",
      "Enter hours worked per day:  30\n"
     ]
    },
    {
     "ename": "TypeError",
     "evalue": "TemporaryStaff() takes no arguments",
     "output_type": "error",
     "traceback": [
      "\u001b[1;31m---------------------------------------------------------------------------\u001b[0m",
      "\u001b[1;31mTypeError\u001b[0m                                 Traceback (most recent call last)",
      "Cell \u001b[1;32mIn[47], line 42\u001b[0m\n\u001b[0;32m     39\u001b[0m days \u001b[38;5;241m=\u001b[39m \u001b[38;5;28mint\u001b[39m(\u001b[38;5;28minput\u001b[39m(\u001b[38;5;124m\"\u001b[39m\u001b[38;5;124mEnter number of days worked: \u001b[39m\u001b[38;5;124m\"\u001b[39m))\n\u001b[0;32m     40\u001b[0m hoursworked \u001b[38;5;241m=\u001b[39m \u001b[38;5;28mint\u001b[39m(\u001b[38;5;28minput\u001b[39m(\u001b[38;5;124m\"\u001b[39m\u001b[38;5;124mEnter hours worked per day: \u001b[39m\u001b[38;5;124m\"\u001b[39m))\n\u001b[1;32m---> 42\u001b[0m Temporary_staff \u001b[38;5;241m=\u001b[39m TemporaryStaff(name, Id, days, hoursworked)\n\u001b[0;32m     45\u001b[0m Temporary_staff\u001b[38;5;241m.\u001b[39mdisplay()\n",
      "\u001b[1;31mTypeError\u001b[0m: TemporaryStaff() takes no arguments"
     ]
    }
   ],
   "source": [
    "class Person:\n",
    "    def init(self, name):\n",
    "        self.name = name\n",
    "\n",
    "    def display(self):\n",
    "        print(\"Name:\", self.name)\n",
    "\n",
    "\n",
    "class Staff(Person):\n",
    "    def init(self, name, Id):\n",
    "        super().init(name)\n",
    "        self.id = Id\n",
    "\n",
    "    def display(self):\n",
    "        super().display()\n",
    "        print(\"ID:\", self.id)\n",
    "\n",
    "\n",
    "class TemporaryStaff(Staff):\n",
    "    def init(self, name, Id, days, hoursworked):\n",
    "        super().init(name, Id)\n",
    "        self.days = days\n",
    "        self.hoursworked = hoursworked\n",
    "\n",
    "    def Salary(self):\n",
    "        salary = self.days * self.hoursworked * 150\n",
    "        return salary\n",
    "\n",
    "    def display(self):\n",
    "        super().display()\n",
    "        print(\"No of days:\", self.days)\n",
    "        print(\"No of hours worked:\", self.hoursworked)\n",
    "        print(\"Total Salary:\", self.Salary())\n",
    "\n",
    "\n",
    "\n",
    "name = input(\"Enter name: \")\n",
    "Id = int(input(\"Enter ID: \"))\n",
    "days = int(input(\"Enter number of days worked: \"))\n",
    "hoursworked = int(input(\"Enter hours worked per day: \"))\n",
    "\n",
    "Temporary_staff = TemporaryStaff(name, Id, days, hoursworked)\n",
    "\n",
    "\n",
    "Temporary_staff.display()"
   ]
  }
 ],
 "metadata": {
  "kernelspec": {
   "display_name": "Python 3 (ipykernel)",
   "language": "python",
   "name": "python3"
  },
  "language_info": {
   "codemirror_mode": {
    "name": "ipython",
    "version": 3
   },
   "file_extension": ".py",
   "mimetype": "text/x-python",
   "name": "python",
   "nbconvert_exporter": "python",
   "pygments_lexer": "ipython3",
   "version": "3.12.4"
  }
 },
 "nbformat": 4,
 "nbformat_minor": 5
}
