{
 "cells": [
  {
   "cell_type": "code",
   "execution_count": 1,
   "id": "863befa2-ad77-47dc-9723-3e279c3d86c9",
   "metadata": {},
   "outputs": [],
   "source": [
    "#INDEXING"
   ]
  },
  {
   "cell_type": "code",
   "execution_count": 7,
   "id": "3c61561e-ebe3-44f2-860b-3c86b82affea",
   "metadata": {},
   "outputs": [
    {
     "name": "stdout",
     "output_type": "stream",
     "text": [
      "10 20 30 40 "
     ]
    }
   ],
   "source": [
    "#create a list and print all the elements in a list\n",
    "a=[10,20,30,40]\n",
    "for i in a:\n",
    "    print(i,end=\" \")\n",
    "        "
   ]
  },
  {
   "cell_type": "code",
   "execution_count": 9,
   "id": "c5801355-95e5-46d0-9c6a-8a5280f9869d",
   "metadata": {},
   "outputs": [
    {
     "name": "stdout",
     "output_type": "stream",
     "text": [
      "value found\n"
     ]
    }
   ],
   "source": [
    "for i in a:\n",
    "    if i==30:\n",
    "        print(\"value found\")\n",
    "        break\n",
    "else:\n",
    "    print(\"value not found\")\n",
    "        "
   ]
  },
  {
   "cell_type": "code",
   "execution_count": 15,
   "id": "db3e5dc5-a880-4ce5-baf1-703130beac20",
   "metadata": {},
   "outputs": [
    {
     "name": "stdout",
     "output_type": "stream",
     "text": [
      "10\n",
      "20\n",
      "30\n",
      "40\n"
     ]
    }
   ],
   "source": [
    "#create a list and print all the elements in while loop\n",
    "a=[10,20,30,40]\n",
    "index=0\n",
    "while index<len(a):\n",
    "    print(a[index])\n",
    "    index+=1"
   ]
  },
  {
   "cell_type": "code",
   "execution_count": 11,
   "id": "929d5ad5-6328-4ec2-a2de-51316113daca",
   "metadata": {},
   "outputs": [
    {
     "name": "stdout",
     "output_type": "stream",
     "text": [
      "value not found\n"
     ]
    }
   ],
   "source": [
    "for i in a:\n",
    "    if i==50:\n",
    "        print(\"value found\")\n",
    "        break\n",
    "else:\n",
    "    print(\"value not found\")\n",
    "        "
   ]
  },
  {
   "cell_type": "code",
   "execution_count": 25,
   "id": "824cf017-2dad-4c88-893e-03081d3019c5",
   "metadata": {},
   "outputs": [
    {
     "data": {
      "text/plain": [
       "True"
      ]
     },
     "execution_count": 25,
     "metadata": {},
     "output_type": "execute_result"
    }
   ],
   "source": [
    "30 in a# Membership operator"
   ]
  },
  {
   "cell_type": "code",
   "execution_count": 27,
   "id": "9fa05f4e-8566-438b-bc9f-2224d9696b9a",
   "metadata": {},
   "outputs": [
    {
     "data": {
      "text/plain": [
       "False"
      ]
     },
     "execution_count": 27,
     "metadata": {},
     "output_type": "execute_result"
    }
   ],
   "source": [
    "50 in a"
   ]
  },
  {
   "cell_type": "code",
   "execution_count": 21,
   "id": "5f091211-367e-4095-9529-0a8b3d607adc",
   "metadata": {},
   "outputs": [
    {
     "name": "stdout",
     "output_type": "stream",
     "text": [
      "2\n"
     ]
    }
   ],
   "source": [
    "#write a python code to find the index value of a number30 in the list a(a(=[10,20,30,40])\n",
    "a=[10,20,30,40]\n",
    "for i in range (len(a)):\n",
    "    if a[i]==30:\n",
    "        print(i)\n",
    "        break"
   ]
  },
  {
   "cell_type": "code",
   "execution_count": 29,
   "id": "e1471a1e-1a18-4797-8451-97305c1758c6",
   "metadata": {},
   "outputs": [
    {
     "name": "stdout",
     "output_type": "stream",
     "text": [
      "30\n"
     ]
    }
   ],
   "source": [
    "a=[10,20,30,40]\n",
    "for i in range (len(a)):\n",
    "    if a[i]==30:\n",
    "        print(a[i])\n",
    "        break"
   ]
  },
  {
   "cell_type": "code",
   "execution_count": 35,
   "id": "843a9840-e90a-4013-87a5-414ba3018a47",
   "metadata": {},
   "outputs": [
    {
     "name": "stdout",
     "output_type": "stream",
     "text": [
      "7\n"
     ]
    }
   ],
   "source": [
    "#finding the index value in the items of the list\n",
    "items=[10,20,30,40,50,60,70,80]\n",
    "print(items.index(80))"
   ]
  },
  {
   "cell_type": "code",
   "execution_count": 33,
   "id": "6838ba75-7f98-4877-bf42-e2a3c1ef86b5",
   "metadata": {},
   "outputs": [
    {
     "name": "stdout",
     "output_type": "stream",
     "text": [
      "[10, 20, 30, 40, 50, 60, 70, 80, 90, 110, 12, 0, 130, 140, 150, 160, 170, 180, 190, 200]\n"
     ]
    }
   ],
   "source": [
    "a=[10,20,30,40,50,60,70,80,90,110,12,0,130,140,150,160,170,180,190,200]\n",
    "print(a)"
   ]
  },
  {
   "cell_type": "code",
   "execution_count": 37,
   "id": "0017dd81-f092-4c37-9d70-a863437fdb10",
   "metadata": {},
   "outputs": [
    {
     "name": "stdout",
     "output_type": "stream",
     "text": [
      "20\n"
     ]
    }
   ],
   "source": [
    "print(len(a))"
   ]
  },
  {
   "cell_type": "code",
   "execution_count": 39,
   "id": "1eb5791f-98a9-429f-9f03-47bafd391b69",
   "metadata": {},
   "outputs": [
    {
     "data": {
      "text/plain": [
       "200"
      ]
     },
     "execution_count": 39,
     "metadata": {},
     "output_type": "execute_result"
    }
   ],
   "source": [
    "a[len(a)-1]"
   ]
  },
  {
   "cell_type": "code",
   "execution_count": 41,
   "id": "b215d841-7e74-44aa-9cea-39b7a65db3af",
   "metadata": {},
   "outputs": [],
   "source": [
    "#reverse index"
   ]
  },
  {
   "cell_type": "code",
   "execution_count": 43,
   "id": "88f26ebf-c882-4a1a-bb2e-9a880807b777",
   "metadata": {},
   "outputs": [
    {
     "data": {
      "text/plain": [
       "170"
      ]
     },
     "execution_count": 43,
     "metadata": {},
     "output_type": "execute_result"
    }
   ],
   "source": [
    "a[-4]"
   ]
  },
  {
   "cell_type": "code",
   "execution_count": 45,
   "id": "1e8d3643-03a8-4486-824f-1effbc8de1a6",
   "metadata": {},
   "outputs": [
    {
     "data": {
      "text/plain": [
       "90"
      ]
     },
     "execution_count": 45,
     "metadata": {},
     "output_type": "execute_result"
    }
   ],
   "source": [
    "a[-12]"
   ]
  },
  {
   "cell_type": "code",
   "execution_count": 51,
   "id": "a275eb97-ad9a-4f04-97e2-bb23faddbf8c",
   "metadata": {},
   "outputs": [
    {
     "data": {
      "text/plain": [
       "10"
      ]
     },
     "execution_count": 51,
     "metadata": {},
     "output_type": "execute_result"
    }
   ],
   "source": [
    "a[-20]"
   ]
  },
  {
   "cell_type": "code",
   "execution_count": 49,
   "id": "4038359d-e7fb-4679-8aeb-7001766911b4",
   "metadata": {},
   "outputs": [
    {
     "data": {
      "text/plain": [
       "10"
      ]
     },
     "execution_count": 49,
     "metadata": {},
     "output_type": "execute_result"
    }
   ],
   "source": [
    "a[-len(a)]"
   ]
  },
  {
   "cell_type": "code",
   "execution_count": 53,
   "id": "52bb201f-c3ac-4d10-826d-02b446aeff95",
   "metadata": {},
   "outputs": [],
   "source": [
    "#list"
   ]
  },
  {
   "cell_type": "code",
   "execution_count": 55,
   "id": "29ab188e-94ec-4a9e-8b91-183ee7ffe9ca",
   "metadata": {},
   "outputs": [
    {
     "name": "stdout",
     "output_type": "stream",
     "text": [
      "[1, 'ABC', 84.9, 'a']\n"
     ]
    }
   ],
   "source": [
    "information =[1,\"ABC\",84.9,\"a\"]\n",
    "print(information)"
   ]
  },
  {
   "cell_type": "code",
   "execution_count": 57,
   "id": "2c1313b2-0275-4a25-9210-4247cfa72066",
   "metadata": {},
   "outputs": [
    {
     "data": {
      "text/plain": [
       "84.9"
      ]
     },
     "execution_count": 57,
     "metadata": {},
     "output_type": "execute_result"
    }
   ],
   "source": [
    "information[2]"
   ]
  },
  {
   "cell_type": "code",
   "execution_count": 61,
   "id": "7f9fa86f-69a1-4431-8f09-74064e44fa26",
   "metadata": {},
   "outputs": [
    {
     "name": "stdout",
     "output_type": "stream",
     "text": [
      "[1, 'ABC', 84.9, 'a', 'subbu']\n"
     ]
    }
   ],
   "source": [
    "information =[1,\"ABC\",84.9,\"a\"]\n",
    "information.append(\"subbu\")\n",
    "print(information)"
   ]
  },
  {
   "cell_type": "code",
   "execution_count": 63,
   "id": "a9642ed0-82a7-40c7-83ae-a9dde60337d8",
   "metadata": {},
   "outputs": [],
   "source": [
    "#in the information list, how to add all the chrracter of the word \"hello\"?\n",
    "information+=\"hello\"\n"
   ]
  },
  {
   "cell_type": "code",
   "execution_count": 65,
   "id": "6ddf286d-4066-49f5-9552-c9f159e08af0",
   "metadata": {},
   "outputs": [
    {
     "data": {
      "text/plain": [
       "[1, 'ABC', 84.9, 'a', 'subbu', 'h', 'e', 'l', 'l', 'o']"
      ]
     },
     "execution_count": 65,
     "metadata": {},
     "output_type": "execute_result"
    }
   ],
   "source": [
    "information"
   ]
  },
  {
   "cell_type": "code",
   "execution_count": 67,
   "id": "95a73d34-04c3-4065-bec0-53cede862fa2",
   "metadata": {},
   "outputs": [],
   "source": [
    "#is itpossible to add the same set of elements multiple times?\n",
    "information*=2"
   ]
  },
  {
   "cell_type": "code",
   "execution_count": 69,
   "id": "201ac978-c3a8-4671-9fec-c1906c66f27f",
   "metadata": {},
   "outputs": [
    {
     "data": {
      "text/plain": [
       "[1,\n",
       " 'ABC',\n",
       " 84.9,\n",
       " 'a',\n",
       " 'subbu',\n",
       " 'h',\n",
       " 'e',\n",
       " 'l',\n",
       " 'l',\n",
       " 'o',\n",
       " 1,\n",
       " 'ABC',\n",
       " 84.9,\n",
       " 'a',\n",
       " 'subbu',\n",
       " 'h',\n",
       " 'e',\n",
       " 'l',\n",
       " 'l',\n",
       " 'o']"
      ]
     },
     "execution_count": 69,
     "metadata": {},
     "output_type": "execute_result"
    }
   ],
   "source": [
    "information"
   ]
  },
  {
   "cell_type": "code",
   "execution_count": null,
   "id": "fb30ec53-078f-4945-b24a-971d944276fa",
   "metadata": {},
   "outputs": [],
   "source": [
    "#\n",
    "is\n",
    "mutable- changeable(add,modify ,delete)\n",
    "unmutable- no changing\n"
   ]
  },
  {
   "cell_type": "code",
   "execution_count": 71,
   "id": "286f4329-6f1e-4ff4-9393-0fae219e12df",
   "metadata": {},
   "outputs": [
    {
     "data": {
      "text/plain": [
       "[1,\n",
       " 'ABC',\n",
       " 84.9,\n",
       " 'a',\n",
       " 'subbu',\n",
       " 'h',\n",
       " 'e',\n",
       " 'l',\n",
       " 'l',\n",
       " 'o',\n",
       " 1,\n",
       " 'ABC',\n",
       " 84.9,\n",
       " 'a',\n",
       " 'subbu',\n",
       " 'h',\n",
       " 'e',\n",
       " 'l',\n",
       " 'l',\n",
       " 'o']"
      ]
     },
     "execution_count": 71,
     "metadata": {},
     "output_type": "execute_result"
    }
   ],
   "source": [
    "information"
   ]
  },
  {
   "cell_type": "code",
   "execution_count": 75,
   "id": "881818a1-2284-40ae-ba47-943754c0fdc1",
   "metadata": {},
   "outputs": [
    {
     "data": {
      "text/plain": [
       "[1,\n",
       " 'xyz',\n",
       " 84.9,\n",
       " 'a',\n",
       " 'subbu',\n",
       " 'h',\n",
       " 'e',\n",
       " 'l',\n",
       " 'l',\n",
       " 'o',\n",
       " 1,\n",
       " 'ABC',\n",
       " 84.9,\n",
       " 'a',\n",
       " 'subbu',\n",
       " 'h',\n",
       " 'e',\n",
       " 'l',\n",
       " 'l',\n",
       " 'o']"
      ]
     },
     "execution_count": 75,
     "metadata": {},
     "output_type": "execute_result"
    }
   ],
   "source": [
    "information[1]=\"xyz\"\n",
    "information"
   ]
  },
  {
   "cell_type": "code",
   "execution_count": 93,
   "id": "44c2473a-fa71-4fb9-ba12-14e1477ead30",
   "metadata": {},
   "outputs": [
    {
     "data": {
      "text/plain": [
       "[1]"
      ]
     },
     "execution_count": 93,
     "metadata": {},
     "output_type": "execute_result"
    }
   ],
   "source": [
    "#slicing operator\n",
    "information[ :1]"
   ]
  },
  {
   "cell_type": "code",
   "execution_count": 85,
   "id": "965b9178-9b13-426b-8b4b-a9852757dfa8",
   "metadata": {},
   "outputs": [
    {
     "data": {
      "text/plain": [
       "[1, 'xyz']"
      ]
     },
     "execution_count": 85,
     "metadata": {},
     "output_type": "execute_result"
    }
   ],
   "source": [
    "information[ :2]"
   ]
  },
  {
   "cell_type": "code",
   "execution_count": 87,
   "id": "b8c9195e-52df-42a8-b2e9-b9986f11fedf",
   "metadata": {},
   "outputs": [
    {
     "data": {
      "text/plain": [
       "[]"
      ]
     },
     "execution_count": 87,
     "metadata": {},
     "output_type": "execute_result"
    }
   ],
   "source": [
    "information[ :0]"
   ]
  },
  {
   "cell_type": "code",
   "execution_count": 95,
   "id": "ac7914da-db3e-4587-8f9e-ba4ec37990f0",
   "metadata": {},
   "outputs": [
    {
     "data": {
      "text/plain": [
       "[1, 'xyz', 84.9]"
      ]
     },
     "execution_count": 95,
     "metadata": {},
     "output_type": "execute_result"
    }
   ],
   "source": [
    "\n",
    "information[0:3]"
   ]
  },
  {
   "cell_type": "code",
   "execution_count": 99,
   "id": "a53815de-91d4-4d47-9f50-e3a05d8b0be4",
   "metadata": {},
   "outputs": [
    {
     "name": "stdout",
     "output_type": "stream",
     "text": [
      "['xyz', 84.9, 'a', 'subbu', 'h', 'e', 'l', 'l', 'o', 1, 'ABC', 84.9, 'a', 'subbu', 'h', 'e', 'l', 'l', 'o']\n"
     ]
    }
   ],
   "source": [
    "print(information[1:])"
   ]
  },
  {
   "cell_type": "code",
   "execution_count": 101,
   "id": "322dbd3b-12c6-4106-bd70-9b6cf2c857fa",
   "metadata": {},
   "outputs": [
    {
     "data": {
      "text/plain": [
       "[1, 'subbu', 'l', 84.9, 'e']"
      ]
     },
     "execution_count": 101,
     "metadata": {},
     "output_type": "execute_result"
    }
   ],
   "source": [
    "information[::4]"
   ]
  },
  {
   "cell_type": "code",
   "execution_count": 123,
   "id": "c872528f-1090-4f0b-a15c-7dffc4227421",
   "metadata": {},
   "outputs": [
    {
     "data": {
      "text/plain": [
       "['xyz', 'a', 'h']"
      ]
     },
     "execution_count": 123,
     "metadata": {},
     "output_type": "execute_result"
    }
   ],
   "source": [
    "#o/p:'xyz','a','h'\n",
    "information[1:6:2]"
   ]
  },
  {
   "cell_type": "code",
   "execution_count": 127,
   "id": "fe982143-4a06-4cc4-a4ae-296c9e794c67",
   "metadata": {},
   "outputs": [
    {
     "name": "stdout",
     "output_type": "stream",
     "text": [
      "['o', 'l', 'l', 'e', 'h', 'subbu', 'a', 84.9, 'ABC', 1, 'o', 'l', 'l', 'e', 'h', 'subbu', 'a', 84.9, 'xyz', 1]\n"
     ]
    }
   ],
   "source": [
    "print(information[::-1])"
   ]
  },
  {
   "cell_type": "code",
   "execution_count": 133,
   "id": "c31c3dfd-3064-4468-b8c6-706b2f5afb73",
   "metadata": {},
   "outputs": [
    {
     "data": {
      "text/plain": [
       "['9490655683', 8.58]"
      ]
     },
     "execution_count": 133,
     "metadata": {},
     "output_type": "execute_result"
    }
   ],
   "source": [
    "stu=[2,\"stu\",8.58,\"female\",\"india\",\"9490655683\"]\n",
    "stu[::-3]"
   ]
  },
  {
   "cell_type": "code",
   "execution_count": 135,
   "id": "e9ee0c70-79ef-49b9-9fec-d8c65c2b6ecb",
   "metadata": {},
   "outputs": [
    {
     "data": {
      "text/plain": [
       "[2, 8.58, 'india']"
      ]
     },
     "execution_count": 135,
     "metadata": {},
     "output_type": "execute_result"
    }
   ],
   "source": [
    "stu[::2]"
   ]
  },
  {
   "cell_type": "code",
   "execution_count": 153,
   "id": "de1d5578-d3c4-47e9-a3c2-e3be92824ad0",
   "metadata": {},
   "outputs": [],
   "source": [
    "#write a python code a create a list of 100 elements, where all the entries are same number,and the number is given by the user\n"
   ]
  },
  {
   "cell_type": "code",
   "execution_count": 15,
   "id": "0fecc649-3920-416a-9832-cd72209a806d",
   "metadata": {},
   "outputs": [
    {
     "name": "stdout",
     "output_type": "stream",
     "text": [
      "[1, 3, 5, 7, 9, 11, 13, 15, 17, 19]\n"
     ]
    }
   ],
   "source": [
    "#write  a python code to create a list of first 10 odd elements without using decision making statements\n",
    "a=list(range(1,20,2))\n",
    "print(a)"
   ]
  },
  {
   "cell_type": "code",
   "execution_count": 3,
   "id": "0d7a2d27-ad53-436a-a8bc-a96510ef3375",
   "metadata": {},
   "outputs": [
    {
     "name": "stdout",
     "output_type": "stream",
     "text": [
      "list[1, 2, 3, 4, 5, 6, 7, 8, 9, 10]\n"
     ]
    }
   ],
   "source": [
    "a=list[1,2,3,4,5,6,7,8,9,10]\n",
    "print(a)"
   ]
  },
  {
   "cell_type": "code",
   "execution_count": 5,
   "id": "65a4f2c6-cac6-4568-928d-daf3a447bbec",
   "metadata": {},
   "outputs": [
    {
     "name": "stdout",
     "output_type": "stream",
     "text": [
      "<class 'list'>\n",
      "[1, 3, 5, 7, 9]\n"
     ]
    }
   ],
   "source": [
    "#write a python code to  ceate a list of 1 to 10 elements and form the list created,create another list with only odd value\n",
    "a=list(range(1,11))\n",
    "odd=a[::2]\n",
    "print(list)\n",
    "print(odd)"
   ]
  },
  {
   "cell_type": "code",
   "execution_count": 11,
   "id": "ed45bd42-5951-4761-bcd3-c881d1408124",
   "metadata": {},
   "outputs": [
    {
     "name": "stdout",
     "output_type": "stream",
     "text": [
      "[1]\n"
     ]
    }
   ],
   "source": [
    "#write a python code to create a list of 1 to 10 elements and from the list created,create another list with only even values.\n",
    "even=list(range(1,2))\n",
    "print(even)"
   ]
  },
  {
   "cell_type": "code",
   "execution_count": 5,
   "id": "40bde3fa-3164-415e-bc15-bbbe16938ecb",
   "metadata": {},
   "outputs": [],
   "source": [
    "#write a python code a create a list ,which extracts elements from the string given by the user"
   ]
  },
  {
   "cell_type": "code",
   "execution_count": 12,
   "id": "da6357ce-f171-4285-8d0f-5ecda698e3a1",
   "metadata": {},
   "outputs": [
    {
     "name": "stdin",
     "output_type": "stream",
     "text": [
      " welcome\n"
     ]
    },
    {
     "data": {
      "text/plain": [
       "['w', 'e', 'l', 'c', 'o', 'm', 'e']"
      ]
     },
     "execution_count": 12,
     "metadata": {},
     "output_type": "execute_result"
    }
   ],
   "source": [
    "string=input()\n",
    "list_1=list(string)\n",
    "list_1"
   ]
  },
  {
   "cell_type": "code",
   "execution_count": 10,
   "id": "1642cf5a-a9ed-438c-9731-6aabdc35f76c",
   "metadata": {},
   "outputs": [],
   "source": []
  }
 ],
 "metadata": {
  "kernelspec": {
   "display_name": "Python 3 (ipykernel)",
   "language": "python",
   "name": "python3"
  },
  "language_info": {
   "codemirror_mode": {
    "name": "ipython",
    "version": 3
   },
   "file_extension": ".py",
   "mimetype": "text/x-python",
   "name": "python",
   "nbconvert_exporter": "python",
   "pygments_lexer": "ipython3",
   "version": "3.12.4"
  }
 },
 "nbformat": 4,
 "nbformat_minor": 5
}
