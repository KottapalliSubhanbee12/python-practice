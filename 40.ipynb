{
 "cells": [
  {
   "cell_type": "code",
   "execution_count": 11,
   "id": "821344a2-850b-41c6-be90-698b0995b9fd",
   "metadata": {},
   "outputs": [
    {
     "name": "stdout",
     "output_type": "stream",
     "text": [
      "4\n",
      "5\n",
      "6\n",
      "7\n",
      "8\n",
      "9\n",
      "10\n"
     ]
    }
   ],
   "source": [
    "a=4\n",
    "b=10\n",
    "while a>b:\n",
    "    pass\n",
    "else:\n",
    "    for i in range(a,b+1):\n",
    "        print(i)"
   ]
  },
  {
   "cell_type": "code",
   "execution_count": 19,
   "id": "7f52f592-b703-41bd-b8f2-5993bc162ca3",
   "metadata": {},
   "outputs": [
    {
     "name": "stdout",
     "output_type": "stream",
     "text": [
      "0[]\n"
     ]
    }
   ],
   "source": [
    "#fibanacci series\n",
    "def fibonacci(n):\n",
    "    fib_series=[]\n",
    "    a,b=0,1\n",
    "    for i in range(n):\n",
    "        print(a, end=\"\")\n",
    "        a,b=b,a+b\n",
    "        return fib_series\n",
    "n=10\n",
    "print(fibonacci(n))\n",
    "        "
   ]
  },
  {
   "cell_type": "code",
   "execution_count": 17,
   "id": "0a9ba62d-ada3-46bb-a9bd-3e90a3093251",
   "metadata": {},
   "outputs": [
    {
     "name": "stdout",
     "output_type": "stream",
     "text": [
      "[0, 1, 1, 2, 3, 5, 8, 13, 21, 34]\n"
     ]
    }
   ],
   "source": [
    "def fibonacci(n):\n",
    "    fib_series = []\n",
    "    a, b = 0, 1\n",
    "    for _ in range(n):\n",
    "        fib_series.append(a)\n",
    "        a, b = b, a + b\n",
    "    return fib_series\n",
    "\n",
    "# Example usage:\n",
    "n = 10  # Change this to get more or fewer numbers in the series\n",
    "print(fibonacci(n))\n"
   ]
  },
  {
   "cell_type": "code",
   "execution_count": 27,
   "id": "3671ae18-acbc-441a-a255-e3155b9024f9",
   "metadata": {},
   "outputs": [
    {
     "name": "stdin",
     "output_type": "stream",
     "text": [
      "enter your number 5\n"
     ]
    },
    {
     "ename": "NameError",
     "evalue": "name 'factorial' is not defined",
     "output_type": "error",
     "traceback": [
      "\u001b[1;31m---------------------------------------------------------------------------\u001b[0m",
      "\u001b[1;31mNameError\u001b[0m                                 Traceback (most recent call last)",
      "Cell \u001b[1;32mIn[27], line 2\u001b[0m\n\u001b[0;32m      1\u001b[0m number\u001b[38;5;241m=\u001b[39m\u001b[38;5;28mint\u001b[39m(\u001b[38;5;28minput\u001b[39m(\u001b[38;5;124m\"\u001b[39m\u001b[38;5;124menter your number\u001b[39m\u001b[38;5;124m\"\u001b[39m))\n\u001b[1;32m----> 2\u001b[0m factorial(number)\n\u001b[0;32m      3\u001b[0m \u001b[38;5;28;01mdef\u001b[39;00m \u001b[38;5;21mfactorial\u001b[39m(n):\n\u001b[0;32m      4\u001b[0m     \u001b[38;5;28;01mif\u001b[39;00m n\u001b[38;5;241m<\u001b[39m\u001b[38;5;241m0\u001b[39m:\n",
      "\u001b[1;31mNameError\u001b[0m: name 'factorial' is not defined"
     ]
    }
   ],
   "source": [
    "number=int(input(\"enter your number\"))\n",
    "factorial(number)\n",
    "def factorial(n):\n",
    "    if n<0:\n",
    "        print(\"error\")\n",
    "    elif n==0 or n==1:\n",
    "        print(\"the output is one\")\n",
    "    else:\n",
    "        factorial=1\n",
    "        for i in range(2,n+1):\n",
    "            factorial *=1\n",
    "            print(f\",the factorial of {n} is {factorial}\")\n",
    "        \n"
   ]
  },
  {
   "cell_type": "code",
   "execution_count": 29,
   "id": "10bdca18-08c1-4139-a56c-226dcdb2365b",
   "metadata": {},
   "outputs": [
    {
     "name": "stdin",
     "output_type": "stream",
     "text": [
      "Enter a number:  5\n"
     ]
    },
    {
     "ename": "NameError",
     "evalue": "name 'compute_factorial' is not defined",
     "output_type": "error",
     "traceback": [
      "\u001b[1;31m---------------------------------------------------------------------------\u001b[0m",
      "\u001b[1;31mNameError\u001b[0m                                 Traceback (most recent call last)",
      "Cell \u001b[1;32mIn[29], line 3\u001b[0m\n\u001b[0;32m      1\u001b[0m \u001b[38;5;66;03m# Example usage\u001b[39;00m\n\u001b[0;32m      2\u001b[0m number \u001b[38;5;241m=\u001b[39m \u001b[38;5;28mint\u001b[39m(\u001b[38;5;28minput\u001b[39m(\u001b[38;5;124m\"\u001b[39m\u001b[38;5;124mEnter a number: \u001b[39m\u001b[38;5;124m\"\u001b[39m))\n\u001b[1;32m----> 3\u001b[0m compute_factorial(number)\n\u001b[0;32m      5\u001b[0m \u001b[38;5;28;01mdef\u001b[39;00m \u001b[38;5;21mcompute_factorial\u001b[39m(n):\n\u001b[0;32m      6\u001b[0m     \u001b[38;5;28;01mif\u001b[39;00m n \u001b[38;5;241m<\u001b[39m \u001b[38;5;241m0\u001b[39m:\n",
      "\u001b[1;31mNameError\u001b[0m: name 'compute_factorial' is not defined"
     ]
    }
   ],
   "source": [
    "# Example usage\n",
    "number = int(input(\"Enter a number: \"))\n",
    "compute_factorial(number)\n",
    "\n",
    "def compute_factorial(n):\n",
    "    if n < 0:\n",
    "        print(\"error\")\n",
    "    elif n == 0 or n == 1:\n",
    "        print(\"The output value is one.\")\n",
    "    else:\n",
    "        factorial = 1\n",
    "        for i in range(2, n + 1):\n",
    "            factorial *= i\n",
    "        print(f\"The factorial of {n} is {factorial}.\")\n",
    "\n"
   ]
  },
  {
   "cell_type": "code",
   "execution_count": 31,
   "id": "1ddbd643-11df-4ef9-badc-511679c1b0c5",
   "metadata": {},
   "outputs": [
    {
     "name": "stdin",
     "output_type": "stream",
     "text": [
      "Enter a number:  6\n"
     ]
    },
    {
     "ename": "NameError",
     "evalue": "name 'compute_factorial' is not defined",
     "output_type": "error",
     "traceback": [
      "\u001b[1;31m---------------------------------------------------------------------------\u001b[0m",
      "\u001b[1;31mNameError\u001b[0m                                 Traceback (most recent call last)",
      "Cell \u001b[1;32mIn[31], line 2\u001b[0m\n\u001b[0;32m      1\u001b[0m number \u001b[38;5;241m=\u001b[39m \u001b[38;5;28mint\u001b[39m(\u001b[38;5;28minput\u001b[39m(\u001b[38;5;124m\"\u001b[39m\u001b[38;5;124mEnter a number: \u001b[39m\u001b[38;5;124m\"\u001b[39m))\n\u001b[1;32m----> 2\u001b[0m compute_factorial(number)\n\u001b[0;32m      4\u001b[0m \u001b[38;5;28;01mdef\u001b[39;00m \u001b[38;5;21mcompute_factorial\u001b[39m(n):\n\u001b[0;32m      5\u001b[0m     \u001b[38;5;28;01mif\u001b[39;00m n \u001b[38;5;241m<\u001b[39m \u001b[38;5;241m0\u001b[39m:\n",
      "\u001b[1;31mNameError\u001b[0m: name 'compute_factorial' is not defined"
     ]
    }
   ],
   "source": [
    "number = int(input(\"Enter a number: \"))\n",
    "compute_factorial(number)\n",
    "\n",
    "def compute_factorial(n):\n",
    "    if n < 0:\n",
    "        print(\"error\")\n",
    "    elif n == 0 or n == 1:\n",
    "        print(\"The output value is one.\")\n",
    "    else:\n",
    "        factorial = 1\n",
    "        for i in range(2, n + 1):\n",
    "            factorial *= i\n",
    "        print(f\"The factorial of {n} is {factorial}.\")\n"
   ]
  },
  {
   "cell_type": "code",
   "execution_count": 33,
   "id": "fd295867-d921-4053-b93f-ef35df654fd4",
   "metadata": {},
   "outputs": [
    {
     "name": "stdin",
     "output_type": "stream",
     "text": [
      "enter your number 5\n",
      "enter your number 7\n"
     ]
    },
    {
     "name": "stdout",
     "output_type": "stream",
     "text": [
      "the greatest number is: 7\n"
     ]
    }
   ],
   "source": [
    "a=int(input(\"enter your number\"))\n",
    "b=int(input(\"enter your number\"))\n",
    "def greatest(a,b):\n",
    "    if a>b:\n",
    "        return a\n",
    "    else:\n",
    "        return b\n",
    "print(\"the greatest number is:\",greatest(a,b))"
   ]
  },
  {
   "cell_type": "code",
   "execution_count": 43,
   "id": "8073aa7b-411c-4ba3-9f5a-63c87fe45e20",
   "metadata": {},
   "outputs": [
    {
     "name": "stdin",
     "output_type": "stream",
     "text": [
      "enter your number 3\n",
      "enter your number 6\n",
      "enter your number 11\n"
     ]
    },
    {
     "name": "stdout",
     "output_type": "stream",
     "text": [
      "the second greatest number: 11\n"
     ]
    }
   ],
   "source": [
    "a=int(input(\"enter your number\"))\n",
    "b=int(input(\"enter your number\"))\n",
    "c=int(input(\"enter your number\"))\n",
    "def greatest(a,b,c):\n",
    "    if a>b and a>c:\n",
    "        return a\n",
    "    elif b>a and b>c:\n",
    "        return b\n",
    "    else:\n",
    "        return c\n",
    "print(\"the second greatest number:\", greatest(a,b,c))        "
   ]
  }
 ],
 "metadata": {
  "kernelspec": {
   "display_name": "Python 3 (ipykernel)",
   "language": "python",
   "name": "python3"
  },
  "language_info": {
   "codemirror_mode": {
    "name": "ipython",
    "version": 3
   },
   "file_extension": ".py",
   "mimetype": "text/x-python",
   "name": "python",
   "nbconvert_exporter": "python",
   "pygments_lexer": "ipython3",
   "version": "3.12.4"
  }
 },
 "nbformat": 4,
 "nbformat_minor": 5
}
