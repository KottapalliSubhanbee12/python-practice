{
 "cells": [
  {
   "cell_type": "code",
   "execution_count": 3,
   "id": "3ef8024e-dccb-476b-be88-ca4d093f0082",
   "metadata": {},
   "outputs": [
    {
     "name": "stdout",
     "output_type": "stream",
     "text": [
      "{0, 1, 4, 9, 16}\n"
     ]
    }
   ],
   "source": [
    "#create  set of squares of number from 0 to 4\n",
    "squares={x**2 for x in range(5)}\n",
    "print(squares)"
   ]
  },
  {
   "cell_type": "code",
   "execution_count": 9,
   "id": "2d85ba75-354b-4cd5-810c-075779c50154",
   "metadata": {},
   "outputs": [
    {
     "name": "stdout",
     "output_type": "stream",
     "text": [
      "{1, 4, 9, 16, 25}\n"
     ]
    }
   ],
   "source": [
    "#create\n",
    "numbers=[1,2,3,4,5]\n",
    "squared_numbers={x** 2 for x in numbers}\n",
    "print(squared_numbers)"
   ]
  },
  {
   "cell_type": "code",
   "execution_count": 15,
   "id": "023a87c9-3978-4e8e-800d-d983f13008eb",
   "metadata": {},
   "outputs": [
    {
     "name": "stdout",
     "output_type": "stream",
     "text": [
      "{2, 4}\n"
     ]
    }
   ],
   "source": [
    "#create  set of squares ,bt only for even numbers\n",
    "numbers=[1,2,3,4,5]\n",
    "even_number={x for x in numbers if x%2==0}\n",
    "print(even_number)"
   ]
  },
  {
   "cell_type": "code",
   "execution_count": 21,
   "id": "9753d5c8-48da-496f-91b8-622b81a79501",
   "metadata": {},
   "outputs": [
    {
     "name": "stdout",
     "output_type": "stream",
     "text": [
      "{'apple', 'banana', 'cherry'}\n"
     ]
    }
   ],
   "source": [
    "#say the fruit name without vowel...!\n",
    "word=['apple','banana','cherry','lyn']\n",
    "vowels={'a','e','i','o','u'}\n",
    "vowel_words={word for word in word if any(letter in vowels for letter in word)}\n",
    "print(vowel_words)"
   ]
  },
  {
   "cell_type": "code",
   "execution_count": null,
   "id": "cba09074-633a-470f-b883-9cf2813b59fe",
   "metadata": {},
   "outputs": [],
   "source": [
    "Eliminatng duplicates\n",
    "*does sets automatically remove duplicates?yes!\n",
    "*you can use set comprension to ensure uniqueness"
   ]
  },
  {
   "cell_type": "code",
   "execution_count": 23,
   "id": "2d04615c-0bba-441c-814a-673748e72bda",
   "metadata": {},
   "outputs": [
    {
     "name": "stdout",
     "output_type": "stream",
     "text": [
      "{1, 4, 36, 9, 16, 25}\n"
     ]
    }
   ],
   "source": [
    "duplicates=[1,2,3,3,4,5,1,6]\n",
    "unique_squares={x**2 for x in duplicates}\n",
    "print(unique_squares)"
   ]
  },
  {
   "cell_type": "code",
   "execution_count": 29,
   "id": "ea10bfd2-22ab-4987-b663-a7ef552b79aa",
   "metadata": {},
   "outputs": [
    {
     "name": "stdout",
     "output_type": "stream",
     "text": [
      "{'E', 'W', 'H', 'L', 'R', 'D', 'O'}\n"
     ]
    }
   ],
   "source": [
    "#create a set of uppercase letters from a string\n",
    "text=\"hello world\"\n",
    "uppercase_letters={char.upper() for char in \n",
    "                   text if char.isalpha()}\n",
    "print(uppercase_letters)"
   ]
  }
 ],
 "metadata": {
  "kernelspec": {
   "display_name": "Python 3 (ipykernel)",
   "language": "python",
   "name": "python3"
  },
  "language_info": {
   "codemirror_mode": {
    "name": "ipython",
    "version": 3
   },
   "file_extension": ".py",
   "mimetype": "text/x-python",
   "name": "python",
   "nbconvert_exporter": "python",
   "pygments_lexer": "ipython3",
   "version": "3.12.4"
  }
 },
 "nbformat": 4,
 "nbformat_minor": 5
}
