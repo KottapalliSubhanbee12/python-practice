{
 "cells": [
  {
   "cell_type": "code",
   "execution_count": 2,
   "id": "8ecb6406-a31f-4f7b-9e85-6df9c543ac5e",
   "metadata": {},
   "outputs": [
    {
     "name": "stdout",
     "output_type": "stream",
     "text": [
      "hello world!\n"
     ]
    }
   ],
   "source": [
    "print(\"hello world!\")"
   ]
  },
  {
   "cell_type": "code",
   "execution_count": 4,
   "id": "ab289872-cb36-4a72-a1d8-4ce7608dd161",
   "metadata": {},
   "outputs": [
    {
     "name": "stdout",
     "output_type": "stream",
     "text": [
      "10\n"
     ]
    }
   ],
   "source": [
    "a=10\n",
    "print(a)"
   ]
  },
  {
   "cell_type": "code",
   "execution_count": 6,
   "id": "586846fa-21db-4181-a554-fc2ca96638da",
   "metadata": {},
   "outputs": [
    {
     "name": "stdin",
     "output_type": "stream",
     "text": [
      "enter a number 5\n"
     ]
    },
    {
     "name": "stdout",
     "output_type": "stream",
     "text": [
      "15\n"
     ]
    }
   ],
   "source": [
    "a=int(input(\"enter a number\"))\n",
    "print(a+10)\n"
   ]
  },
  {
   "cell_type": "code",
   "execution_count": 10,
   "id": "07f580ee-b04f-49f3-953a-c9c1f669e6aa",
   "metadata": {},
   "outputs": [
    {
     "name": "stdout",
     "output_type": "stream",
     "text": [
      "10\n",
      "20\n"
     ]
    }
   ],
   "source": [
    "a=10;b=20\n",
    "print(a)\n",
    "print(b)"
   ]
  },
  {
   "cell_type": "code",
   "execution_count": 12,
   "id": "6316ef05-9e55-46ff-82ad-bc4490dc955b",
   "metadata": {},
   "outputs": [
    {
     "name": "stdout",
     "output_type": "stream",
     "text": [
      "15\n"
     ]
    }
   ],
   "source": [
    "a=1+2+3+4+5\n",
    "print(a)"
   ]
  },
  {
   "cell_type": "code",
   "execution_count": 20,
   "id": "f5688ba1-5edc-4373-8ad8-7f7e3eded2ad",
   "metadata": {},
   "outputs": [
    {
     "name": "stdout",
     "output_type": "stream",
     "text": [
      "21\n"
     ]
    }
   ],
   "source": [
    "a=1+2+3+4+\\\n",
    "5+6\n",
    "print(a)"
   ]
  },
  {
   "cell_type": "code",
   "execution_count": 22,
   "id": "a3b016e0-f1bb-4022-be47-f02b1d5526cb",
   "metadata": {},
   "outputs": [
    {
     "name": "stdout",
     "output_type": "stream",
     "text": [
      "21\n"
     ]
    }
   ],
   "source": [
    "a=(1+2+3+4+5+6)\n",
    "print(a)"
   ]
  },
  {
   "cell_type": "code",
   "execution_count": 24,
   "id": "4b838133-7800-4754-820f-cf8e8ca1898a",
   "metadata": {},
   "outputs": [
    {
     "name": "stdout",
     "output_type": "stream",
     "text": [
      "[21]\n"
     ]
    }
   ],
   "source": [
    "a=[1+2+3+4+5+6]\n",
    "print(a)"
   ]
  },
  {
   "cell_type": "code",
   "execution_count": 26,
   "id": "e98fdf8c-f657-4601-8fb9-824870b530fa",
   "metadata": {},
   "outputs": [
    {
     "name": "stdout",
     "output_type": "stream",
     "text": [
      "{21}\n"
     ]
    }
   ],
   "source": [
    "a={1+2+3+4+5+6}\n",
    "print(a)"
   ]
  },
  {
   "cell_type": "code",
   "execution_count": 28,
   "id": "6bd4f153-66bc-415c-9f44-1273fe6ccb82",
   "metadata": {},
   "outputs": [
    {
     "name": "stdout",
     "output_type": "stream",
     "text": [
      "-5\n"
     ]
    }
   ],
   "source": [
    "a=10\n",
    "b=-15\n",
    "print(a+b)"
   ]
  },
  {
   "cell_type": "code",
   "execution_count": 32,
   "id": "7180f75a-3702-4341-b479-7ec4136e11f3",
   "metadata": {},
   "outputs": [
    {
     "name": "stdout",
     "output_type": "stream",
     "text": [
      "8.2\n"
     ]
    }
   ],
   "source": [
    "a=5\n",
    "b=3.2\n",
    "result=a+b\n",
    "print(result)"
   ]
  },
  {
   "cell_type": "code",
   "execution_count": 34,
   "id": "3dbca44c-d35a-43a1-a972-aa6a3bb79fba",
   "metadata": {},
   "outputs": [
    {
     "name": "stdout",
     "output_type": "stream",
     "text": [
      "3.3333333333333335\n"
     ]
    }
   ],
   "source": [
    "a=10\n",
    "b=3\n",
    "result=a/b\n",
    "print(result)"
   ]
  },
  {
   "cell_type": "code",
   "execution_count": 38,
   "id": "7e48e9d3-bc45-4f77-a9a9-d324ba61cf93",
   "metadata": {},
   "outputs": [
    {
     "name": "stdout",
     "output_type": "stream",
     "text": [
      "5.0\n"
     ]
    }
   ],
   "source": [
    "a=5\n",
    "b=float(a)\n",
    "print(b)"
   ]
  },
  {
   "cell_type": "code",
   "execution_count": 40,
   "id": "efb46818-9d34-497e-b2ff-8ffc43224be0",
   "metadata": {},
   "outputs": [
    {
     "name": "stdout",
     "output_type": "stream",
     "text": [
      "3\n"
     ]
    }
   ],
   "source": [
    "x=3.14\n",
    "y=int(x)\n",
    "print(y)"
   ]
  },
  {
   "cell_type": "code",
   "execution_count": 42,
   "id": "99bbeea4-e7dd-42b0-b485-eff332006a46",
   "metadata": {},
   "outputs": [
    {
     "name": "stdout",
     "output_type": "stream",
     "text": [
      "15.3\n"
     ]
    }
   ],
   "source": [
    "a=5.3\n",
    "b=a+10\n",
    "print(b)"
   ]
  },
  {
   "cell_type": "code",
   "execution_count": 44,
   "id": "9e23e15f-5d87-4094-b46f-dd26bb797706",
   "metadata": {},
   "outputs": [
    {
     "name": "stdout",
     "output_type": "stream",
     "text": [
      "0.9375\n"
     ]
    }
   ],
   "source": [
    "a=1.5;b=1.6\n",
    "result=a/b\n",
    "print(result)"
   ]
  },
  {
   "cell_type": "code",
   "execution_count": 48,
   "id": "5149c94e-79ff-42b4-ad37-914609e484ee",
   "metadata": {},
   "outputs": [
    {
     "name": "stdout",
     "output_type": "stream",
     "text": [
      "10\n"
     ]
    }
   ],
   "source": [
    "#a,b,c=10(error)\n",
    "a=b=c=10\n",
    "print(c)"
   ]
  },
  {
   "cell_type": "code",
   "execution_count": 52,
   "id": "a845b08a-4401-47b9-9ef4-f1bdde1969a2",
   "metadata": {},
   "outputs": [
    {
     "name": "stdout",
     "output_type": "stream",
     "text": [
      "john\n"
     ]
    }
   ],
   "source": [
    "#a,b,c,d=1,2,'john'(error)\n",
    "a,b,c=1,2,\"john\"\n",
    "print(c)"
   ]
  },
  {
   "cell_type": "code",
   "execution_count": 54,
   "id": "06573998-855a-4121-94bd-c5153d8cb796",
   "metadata": {},
   "outputs": [
    {
     "name": "stdout",
     "output_type": "stream",
     "text": [
      "100\n"
     ]
    }
   ],
   "source": [
    "a=100\n",
    "print(a)"
   ]
  },
  {
   "cell_type": "code",
   "execution_count": 58,
   "id": "413dcee6-a3cf-4998-bdf9-c689276a66fb",
   "metadata": {},
   "outputs": [
    {
     "name": "stdout",
     "output_type": "stream",
     "text": [
      "100\n",
      "harshi\n"
     ]
    }
   ],
   "source": [
    "a=100\n",
    "print(a)\n",
    "a=\"harshi\"\n",
    "print(a)"
   ]
  },
  {
   "cell_type": "code",
   "execution_count": 60,
   "id": "9e5ce476-4beb-40fc-9a5a-3d68515d74e9",
   "metadata": {},
   "outputs": [
    {
     "name": "stdout",
     "output_type": "stream",
     "text": [
      "harshi\n"
     ]
    }
   ],
   "source": [
    "a=100\n",
    "a=\"harshi\"\n",
    "print(a)"
   ]
  },
  {
   "cell_type": "code",
   "execution_count": 64,
   "id": "4d13aea6-6a19-4b5b-b107-f51578e27f81",
   "metadata": {},
   "outputs": [
    {
     "name": "stdout",
     "output_type": "stream",
     "text": [
      "aecs1\n"
     ]
    }
   ],
   "source": [
    "a='aecs'\n",
    "b=1\n",
    "print(a+str(b))"
   ]
  },
  {
   "cell_type": "code",
   "execution_count": 66,
   "id": "30b014e1-e8d2-4799-8d51-7539975774f9",
   "metadata": {},
   "outputs": [],
   "source": [
    "x=10\n",
    "y=x+5\n",
    "z=5*5\n"
   ]
  },
  {
   "cell_type": "code",
   "execution_count": 70,
   "id": "92fc0fb8-dea3-48e4-ad6e-b18efe00cbfa",
   "metadata": {},
   "outputs": [
    {
     "name": "stdout",
     "output_type": "stream",
     "text": [
      "royal_enfield\n"
     ]
    }
   ],
   "source": [
    "bike_name='royal_enfield'\n",
    "print(bike_name)"
   ]
  },
  {
   "cell_type": "code",
   "execution_count": 72,
   "id": "0722eda4-92f0-434f-a62c-b73fe811b073",
   "metadata": {},
   "outputs": [
    {
     "name": "stdout",
     "output_type": "stream",
     "text": [
      "50\n"
     ]
    }
   ],
   "source": [
    "x=50\n",
    "print(x)"
   ]
  },
  {
   "cell_type": "code",
   "execution_count": 74,
   "id": "56f98973-92de-42a4-a672-9e221bda3f23",
   "metadata": {},
   "outputs": [
    {
     "name": "stdout",
     "output_type": "stream",
     "text": [
      "your result is: 50\n"
     ]
    }
   ],
   "source": [
    "z=10\n",
    "b=z*5\n",
    "c='your result is:'\n",
    "print(c,b)"
   ]
  },
  {
   "cell_type": "code",
   "execution_count": 78,
   "id": "114b99d2-1713-4140-b7bb-be93fa364b57",
   "metadata": {},
   "outputs": [
    {
     "name": "stdin",
     "output_type": "stream",
     "text": [
      " 5\n",
      " 8\n"
     ]
    },
    {
     "name": "stdout",
     "output_type": "stream",
     "text": [
      "13\n"
     ]
    }
   ],
   "source": [
    "x=int(input())\n",
    "y=int(input())\n",
    "z=x+y\n",
    "print(z)"
   ]
  },
  {
   "cell_type": "code",
   "execution_count": 82,
   "id": "42aea4b5-2c34-4c1d-832e-c25af7d53bed",
   "metadata": {},
   "outputs": [
    {
     "name": "stdout",
     "output_type": "stream",
     "text": [
      "10\n"
     ]
    }
   ],
   "source": [
    "a = 10;b = a\n",
    "a = 3\n",
    "print(b)\n"
   ]
  },
  {
   "cell_type": "code",
   "execution_count": 94,
   "id": "052b15d5-947b-46ad-9135-de632f41c30d",
   "metadata": {},
   "outputs": [
    {
     "name": "stdout",
     "output_type": "stream",
     "text": [
      "John\n"
     ]
    }
   ],
   "source": [
    "X,Y,Z = \"John\", \"Ezhil\", \"Mani\"\n",
    "print(X)"
   ]
  },
  {
   "cell_type": "code",
   "execution_count": 100,
   "id": "d38bc5a9-4395-4d03-bf9a-48e2bd1b5ac7",
   "metadata": {},
   "outputs": [
    {
     "name": "stdout",
     "output_type": "stream",
     "text": [
      "50\n"
     ]
    }
   ],
   "source": [
    "X=Y=Z=50\n",
    "print(Y)"
   ]
  },
  {
   "cell_type": "code",
   "execution_count": 1,
   "id": "2544ff29-dae0-476f-9549-e7b1df1ee81e",
   "metadata": {
    "scrolled": true
   },
   "outputs": [
    {
     "name": "stdin",
     "output_type": "stream",
     "text": [
      "enter your first name kottapalli\n",
      "enter your last name subhanbee\n",
      " 20\n"
     ]
    }
   ],
   "source": [
    "first_name=str(input(\"enter your first name\"))\n",
    "last_name=str(input(\"enter your last name\"))\n",
    "age=int(input())"
   ]
  },
  {
   "cell_type": "code",
   "execution_count": 9,
   "id": "510e7f5c-bb38-4ba1-a755-a414c8e6f572",
   "metadata": {},
   "outputs": [
    {
     "name": "stdout",
     "output_type": "stream",
     "text": [
      "3.14\n",
      "9.8\n"
     ]
    }
   ],
   "source": [
    "\n",
    "pi=3.14\n",
    "gravity=9.8\n",
    "print(pi)\n",
    "print(gravity)"
   ]
  },
  {
   "cell_type": "code",
   "execution_count": 11,
   "id": "c8d65891-2dac-4da2-9092-11cc19d22b8c",
   "metadata": {},
   "outputs": [
    {
     "name": "stdout",
     "output_type": "stream",
     "text": [
      "314.0\n"
     ]
    }
   ],
   "source": [
    "r=10\n",
    "pi=3.14\n",
    "area=pi*r*r\n",
    "print(area)"
   ]
  },
  {
   "cell_type": "code",
   "execution_count": 1,
   "id": "37edf25e-481d-4740-ad3a-3b45b93d9f70",
   "metadata": {},
   "outputs": [
    {
     "name": "stdout",
     "output_type": "stream",
     "text": [
      "Positive Infinity: inf\n",
      "Negative Infinity: -inf\n"
     ]
    }
   ],
   "source": [
    "positive_infinity = float('inf')\n",
    "negative_infinity = float('-inf')\n",
    "\n",
    "print(\"Positive Infinity:\", positive_infinity)\n",
    "print(\"Negative Infinity:\", negative_infinity)\n"
   ]
  },
  {
   "cell_type": "code",
   "execution_count": 6,
   "id": "d38a18f2-c6e2-4df4-bf96-e99d7388301e",
   "metadata": {},
   "outputs": [
    {
     "name": "stdin",
     "output_type": "stream",
     "text": [
      " 23\n"
     ]
    },
    {
     "name": "stdout",
     "output_type": "stream",
     "text": [
      "23\n"
     ]
    }
   ],
   "source": [
    "input1=input()\n",
    "print(input1)"
   ]
  },
  {
   "cell_type": "code",
   "execution_count": null,
   "id": "9d8c4841-c5f9-4717-81d8-e91f920cdbd3",
   "metadata": {},
   "outputs": [],
   "source": [
    "num1=int(input())"
   ]
  }
 ],
 "metadata": {
  "kernelspec": {
   "display_name": "Python 3 (ipykernel)",
   "language": "python",
   "name": "python3"
  },
  "language_info": {
   "codemirror_mode": {
    "name": "ipython",
    "version": 3
   },
   "file_extension": ".py",
   "mimetype": "text/x-python",
   "name": "python",
   "nbconvert_exporter": "python",
   "pygments_lexer": "ipython3",
   "version": "3.12.4"
  }
 },
 "nbformat": 4,
 "nbformat_minor": 5
}
