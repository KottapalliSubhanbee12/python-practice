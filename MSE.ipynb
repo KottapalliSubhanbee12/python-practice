{
 "cells": [
  {
   "cell_type": "code",
   "execution_count": 9,
   "id": "fbec879d-cb14-4b83-a038-d87e08153d79",
   "metadata": {},
   "outputs": [
    {
     "name": "stdin",
     "output_type": "stream",
     "text": [
      "enter a color purple\n",
      "enter your number 11\n"
     ]
    },
    {
     "name": "stdout",
     "output_type": "stream",
     "text": [
      "purple 11 121\n"
     ]
    }
   ],
   "source": [
    "#question1\n",
    "color=input(\"enter a color\")#funny\n",
    "num=int(input(\"enter your number\"))\n",
    "s=num*num\n",
    "print(color,num,s)"
   ]
  },
  {
   "cell_type": "code",
   "execution_count": 17,
   "id": "caf96150-bd44-45b9-9af4-cf430fb80035",
   "metadata": {},
   "outputs": [
    {
     "name": "stdout",
     "output_type": "stream",
     "text": [
      "iham\n"
     ]
    }
   ],
   "source": [
    "#question2\n",
    "#reverse\n",
    "a=\"mahi\"\n",
    "b=''.join(reversed(a))\n",
    "print(b)"
   ]
  },
  {
   "cell_type": "code",
   "execution_count": 83,
   "id": "c0ac4625-9c6f-45dc-93eb-7c6679822642",
   "metadata": {},
   "outputs": [
    {
     "data": {
      "text/plain": [
       "'ubbus'"
      ]
     },
     "execution_count": 83,
     "metadata": {},
     "output_type": "execute_result"
    }
   ],
   "source": [
    "a='subbu'\n",
    "b=a[::-1]\n",
    "b"
   ]
  },
  {
   "cell_type": "code",
   "execution_count": 15,
   "id": "3b32e93e-33a2-48bc-a912-5d47dda0eb2d",
   "metadata": {},
   "outputs": [
    {
     "name": "stdout",
     "output_type": "stream",
     "text": [
      "5\n",
      "6\n",
      "7\n",
      "8\n",
      "9\n",
      "10\n"
     ]
    }
   ],
   "source": [
    "a=4\n",
    "b=10\n",
    "while a<b:\n",
    "    print(a+1)\n",
    "    a=a+1\n",
    "    "
   ]
  },
  {
   "cell_type": "code",
   "execution_count": 38,
   "id": "c431cf27-d1df-4556-882d-fd471ac2b4b1",
   "metadata": {},
   "outputs": [
    {
     "name": "stdout",
     "output_type": "stream",
     "text": [
      "4\n",
      "5\n",
      "6\n",
      "7\n",
      "8\n",
      "9\n",
      "10\n"
     ]
    }
   ],
   "source": [
    "#question3\n",
    "a=4\n",
    "b=10\n",
    "current=a\n",
    "while current <=b:\n",
    "    print(current)\n",
    "    current+=1"
   ]
  },
  {
   "cell_type": "code",
   "execution_count": 5,
   "id": "d11b5298-5472-49d0-b9c0-032d3be0417d",
   "metadata": {},
   "outputs": [
    {
     "name": "stdin",
     "output_type": "stream",
     "text": [
      "enter your number 4\n"
     ]
    },
    {
     "name": "stdout",
     "output_type": "stream",
     "text": [
      "number is postive and even\n"
     ]
    }
   ],
   "source": [
    "#question4\n",
    "u=int(input(\"enter your number\"))\n",
    "if number>0:\n",
    "    if u%2==0:\n",
    "        print(\"number is postive and even\")\n",
    "    else:\n",
    "        print(\"number is postive and odd\")\n",
    "elif u<0:\n",
    "    print(\"number is negative\")\n",
    "else:\n",
    "    print(\"number is zero\")\n",
    "        "
   ]
  },
  {
   "cell_type": "code",
   "execution_count": 9,
   "id": "edee274f-3b5b-4d30-954a-fb7bbde92259",
   "metadata": {},
   "outputs": [
    {
     "name": "stdin",
     "output_type": "stream",
     "text": [
      "enter your number 3\n"
     ]
    },
    {
     "name": "stdout",
     "output_type": "stream",
     "text": [
      "number is postive and odd\n"
     ]
    }
   ],
   "source": [
    "u=int(input(\"enter your number\"))\n",
    "if number>0:\n",
    "    if u%2==0:\n",
    "        print(\"number is postive and even\")\n",
    "    else:\n",
    "        print(\"number is postive and odd\")\n",
    "elif u<0:\n",
    "    print(\"number is negative\")\n",
    "else:\n",
    "    print(\"number is zero\")\n",
    "        "
   ]
  },
  {
   "cell_type": "code",
   "execution_count": 11,
   "id": "85c5bb5d-d8c5-44a1-9708-9262b554e216",
   "metadata": {},
   "outputs": [
    {
     "name": "stdin",
     "output_type": "stream",
     "text": [
      "enter your number 0\n"
     ]
    },
    {
     "name": "stdout",
     "output_type": "stream",
     "text": [
      "number is postive and even\n"
     ]
    }
   ],
   "source": [
    "u=int(input(\"enter your number\"))\n",
    "if number>0:\n",
    "    if u%2==0:\n",
    "        print(\"number is postive and even\")\n",
    "    else:\n",
    "        print(\"number is postive and odd\")\n",
    "elif u<0:\n",
    "    print(\"number is negative\")\n",
    "else:\n",
    "    print(\"number is zero\")\n",
    "        "
   ]
  },
  {
   "cell_type": "code",
   "execution_count": 55,
   "id": "01ca0c8e-e80d-430e-bf2a-be3c5a8b511b",
   "metadata": {},
   "outputs": [
    {
     "name": "stdout",
     "output_type": "stream",
     "text": [
      "the sum of numbers from 5 to 10 is: 35\n"
     ]
    }
   ],
   "source": [
    "#question5\n",
    "def num():\n",
    "    total_sum=0\n",
    "    for num in range(5,10):\n",
    "        total_sum=total_sum+num\n",
    "    return total_sum\n",
    "result=num()\n",
    "print(\"the sum of numbers from 5 to 10 is:\",result)"
   ]
  },
  {
   "cell_type": "code",
   "execution_count": null,
   "id": "5b345957-f00d-4c22-a547-84a564816565",
   "metadata": {},
   "outputs": [],
   "source": [
    "#question6\n"
   ]
  },
  {
   "cell_type": "code",
   "execution_count": 61,
   "id": "40205bd3-7fd5-4201-b1e7-12da0bfa412c",
   "metadata": {},
   "outputs": [
    {
     "name": "stdout",
     "output_type": "stream",
     "text": [
      "[1, 2, 3, 5, 'mca', 'university']\n"
     ]
    }
   ],
   "source": [
    "#question7\n",
    "x=[1,2,3,5]\n",
    "y=[\"mca\",\"university\"]\n",
    "x.extend(y)\n",
    "print(x)\n"
   ]
  },
  {
   "cell_type": "code",
   "execution_count": 1,
   "id": "770832d2-3e8d-44e6-812c-a379dc3cc561",
   "metadata": {},
   "outputs": [
    {
     "name": "stdin",
     "output_type": "stream",
     "text": [
      "Enter a number:  6\n"
     ]
    },
    {
     "ename": "NameError",
     "evalue": "name 'compute_factorial' is not defined",
     "output_type": "error",
     "traceback": [
      "\u001b[1;31m---------------------------------------------------------------------------\u001b[0m",
      "\u001b[1;31mNameError\u001b[0m                                 Traceback (most recent call last)",
      "Cell \u001b[1;32mIn[1], line 3\u001b[0m\n\u001b[0;32m      1\u001b[0m \u001b[38;5;66;03m# Example usage\u001b[39;00m\n\u001b[0;32m      2\u001b[0m number \u001b[38;5;241m=\u001b[39m \u001b[38;5;28mint\u001b[39m(\u001b[38;5;28minput\u001b[39m(\u001b[38;5;124m\"\u001b[39m\u001b[38;5;124mEnter a number: \u001b[39m\u001b[38;5;124m\"\u001b[39m))\n\u001b[1;32m----> 3\u001b[0m compute_factorial(number)\n\u001b[0;32m      5\u001b[0m \u001b[38;5;28;01mdef\u001b[39;00m \u001b[38;5;21mcompute_factorial\u001b[39m(n):\n\u001b[0;32m      6\u001b[0m     \u001b[38;5;28;01mif\u001b[39;00m n \u001b[38;5;241m<\u001b[39m \u001b[38;5;241m0\u001b[39m:\n",
      "\u001b[1;31mNameError\u001b[0m: name 'compute_factorial' is not defined"
     ]
    }
   ],
   "source": [
    "# Example usage\n",
    "number = int(input(\"Enter a number: \"))\n",
    "compute_factorial(number)\n",
    "\n",
    "def compute_factorial(n):\n",
    "    if n < 0:\n",
    "        print(\"error\")\n",
    "    elif n == 0 or n == 1:\n",
    "        print(\"The output value is one.\")\n",
    "    else:\n",
    "        factorial = 1\n",
    "        for i in range(2, n + 1):\n",
    "            factorial *= i\n",
    "        print(f\"The factorial of {n} is {factorial}.\")\n",
    "\n"
   ]
  },
  {
   "cell_type": "code",
   "execution_count": 87,
   "id": "81e13f8f-83ad-440e-b0a8-91627e66876f",
   "metadata": {},
   "outputs": [
    {
     "name": "stdout",
     "output_type": "stream",
     "text": [
      "654\n"
     ]
    }
   ],
   "source": [
    "def reverse_number_str(x):\n",
    "    # Convert the number to a string, reverse it, and convert back to int\n",
    "    return int(str(x)[::-1])\n",
    "\n",
    "# Example usage\n",
    "x = 456\n",
    "reversed_number = reverse_number_str(x)\n",
    "print(reversed_number)  "
   ]
  },
  {
   "cell_type": "code",
   "execution_count": 5,
   "id": "0b786e1a-dad3-4ce3-b790-773450b75ea4",
   "metadata": {},
   "outputs": [
    {
     "data": {
      "text/plain": [
       "654"
      ]
     },
     "execution_count": 5,
     "metadata": {},
     "output_type": "execute_result"
    }
   ],
   "source": [
    "x=456\n",
    "y=int(str(x)[::-1])\n",
    "]."
   ]
  },
  {
   "cell_type": "code",
   "execution_count": 7,
   "id": "94332a18-f208-470e-a9c4-65324adf5771",
   "metadata": {},
   "outputs": [
    {
     "name": "stdout",
     "output_type": "stream",
     "text": [
      "2482\n"
     ]
    }
   ],
   "source": [
    "def num():\n",
    "    total_sum=0\n",
    "    for num in range(3,71):\n",
    "        total_sum=total_sum+num\n",
    "    return total_sum\n",
    "result=num()\n",
    "print(result)"
   ]
  }
 ],
 "metadata": {
  "kernelspec": {
   "display_name": "Python 3 (ipykernel)",
   "language": "python",
   "name": "python3"
  },
  "language_info": {
   "codemirror_mode": {
    "name": "ipython",
    "version": 3
   },
   "file_extension": ".py",
   "mimetype": "text/x-python",
   "name": "python",
   "nbconvert_exporter": "python",
   "pygments_lexer": "ipython3",
   "version": "3.12.4"
  }
 },
 "nbformat": 4,
 "nbformat_minor": 5
}
