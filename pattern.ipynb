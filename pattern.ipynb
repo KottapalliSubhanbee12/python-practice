{
 "cells": [
  {
   "cell_type": "code",
   "execution_count": 15,
   "id": "bf617ea3-ebdd-440f-9357-d74ba1c2d43f",
   "metadata": {},
   "outputs": [
    {
     "name": "stdin",
     "output_type": "stream",
     "text": [
      " 4\n"
     ]
    },
    {
     "name": "stdout",
     "output_type": "stream",
     "text": [
      "* * * * \n",
      "* * * * \n",
      "* * * * \n",
      "* * * * \n"
     ]
    }
   ],
   "source": [
    "n=int(input())\n",
    "for i in range(n):\n",
    "    for j in range(1,n+1):\n",
    "        print(\"*\",end=\" \")\n",
    "    print()"
   ]
  },
  {
   "cell_type": "code",
   "execution_count": 19,
   "id": "09c9c1e1-cf82-42e8-bb11-55a4d4e6708f",
   "metadata": {},
   "outputs": [
    {
     "name": "stdout",
     "output_type": "stream",
     "text": [
      "\n",
      "*\n",
      "**\n",
      "***\n",
      "****\n"
     ]
    }
   ],
   "source": [
    "n=4\n",
    "for i in range(n+1):\n",
    "    for j in range(1,i+1):\n",
    "        print(\"*\",end=\"\")\n",
    "    print()"
   ]
  },
  {
   "cell_type": "code",
   "execution_count": 21,
   "id": "2b94a2dd-ed02-42a0-a3ec-256fcbfc4848",
   "metadata": {},
   "outputs": [
    {
     "name": "stdin",
     "output_type": "stream",
     "text": [
      " 6\n"
     ]
    },
    {
     "name": "stdout",
     "output_type": "stream",
     "text": [
      "* * * * * * \n",
      "* * * * * * \n",
      "* * * * * * \n",
      "* * * * * * \n",
      "* * * * * * \n",
      "* * * * * * \n"
     ]
    }
   ],
   "source": [
    "n=int(input())\n",
    "for i in range(n):\n",
    "    for j in range(1,n+1):\n",
    "        print(\"*\",end=\" \")\n",
    "    print()"
   ]
  },
  {
   "cell_type": "code",
   "execution_count": 40,
   "id": "0e0110fe-48ca-43f7-bcd6-861967e3dde7",
   "metadata": {},
   "outputs": [
    {
     "name": "stdin",
     "output_type": "stream",
     "text": [
      " 5\n"
     ]
    },
    {
     "name": "stdout",
     "output_type": "stream",
     "text": [
      "*\n",
      "*\n",
      "*\n",
      "*\n",
      "**\n",
      "**\n",
      "**\n",
      "***\n",
      "***\n",
      "****\n"
     ]
    }
   ],
   "source": [
    "#write a program to print the given pattern.\n",
    "#****\n",
    "#*  *\n",
    "#*  *\n",
    "#****    \n",
    "n=int(input())\n",
    "for i in range(1,n+1):\n",
    "    for j in range(5-i):\n",
    "        for k in range(i):\n",
    "            print(\"*\",end=\"\")\n",
    "        print()    "
   ]
  },
  {
   "cell_type": "code",
   "execution_count": 3,
   "id": "3f600c3e-6b64-4f00-a9a8-da70351323f5",
   "metadata": {},
   "outputs": [
    {
     "name": "stdout",
     "output_type": "stream",
     "text": [
      "* * * * \n",
      "*     * \n",
      "*     * \n",
      "* * * * \n"
     ]
    }
   ],
   "source": [
    "#write a program to print the given pattern.\n",
    "#* * * *\n",
    "#*     *\n",
    "#*     *\n",
    "#* * * *    \n",
    "rows=4\n",
    "columns=4\n",
    "for i in range(rows):\n",
    "    for j in range(columns):\n",
    "        if i==0 or i==rows-1 or j==0 or j== columns-1:\n",
    "            print(\"*\",end=\" \")\n",
    "        else:\n",
    "            print(\" \",end=\" \")\n",
    "    print()       "
   ]
  },
  {
   "cell_type": "code",
   "execution_count": null,
   "id": "bfd9a9b9-41ef-49c4-b209-19708482f7d3",
   "metadata": {},
   "outputs": [],
   "source": []
  },
  {
   "cell_type": "code",
   "execution_count": null,
   "id": "4f153a72-b238-44fc-8aac-3cfa627d23c7",
   "metadata": {},
   "outputs": [],
   "source": []
  },
  {
   "cell_type": "code",
   "execution_count": null,
   "id": "b7aa9a42-d1e3-4957-baf2-a94ffac3c39b",
   "metadata": {},
   "outputs": [],
   "source": []
  }
 ],
 "metadata": {
  "kernelspec": {
   "display_name": "Python 3 (ipykernel)",
   "language": "python",
   "name": "python3"
  },
  "language_info": {
   "codemirror_mode": {
    "name": "ipython",
    "version": 3
   },
   "file_extension": ".py",
   "mimetype": "text/x-python",
   "name": "python",
   "nbconvert_exporter": "python",
   "pygments_lexer": "ipython3",
   "version": "3.12.4"
  }
 },
 "nbformat": 4,
 "nbformat_minor": 5
}
