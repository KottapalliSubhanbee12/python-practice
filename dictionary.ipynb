{
 "cells": [
  {
   "cell_type": "code",
   "execution_count": null,
   "id": "eef25a16-9e59-4e34-94a3-855cfea33641",
   "metadata": {},
   "outputs": [],
   "source": [
    "unordered,indexed and changeable\n",
    "dictionary hold key:value\n",
    "\"keys can't be repeated whereas values can be duplicate\"."
   ]
  },
  {
   "cell_type": "code",
   "execution_count": 1,
   "id": "57994c70-1cb0-4732-815f-8db84afd2926",
   "metadata": {},
   "outputs": [
    {
     "name": "stdout",
     "output_type": "stream",
     "text": [
      "{}\n"
     ]
    }
   ],
   "source": [
    "dic={}\n",
    "print(dic)"
   ]
  },
  {
   "cell_type": "code",
   "execution_count": 3,
   "id": "6abee407-36e0-48da-94c6-4e500967401c",
   "metadata": {},
   "outputs": [
    {
     "name": "stdout",
     "output_type": "stream",
     "text": [
      "{1: 'focus', 2: 'academy', 3: 'for', 4: 'career', 5: 'enhancement'}\n"
     ]
    }
   ],
   "source": [
    "dic={1:\"focus\",2:\"academy\",3:\"for\",4:\"career\",5:\"enhancement\"}\n",
    "print(dic)"
   ]
  },
  {
   "cell_type": "code",
   "execution_count": 5,
   "id": "dbe816ce-a4b6-4c85-a61c-4940eecc83da",
   "metadata": {},
   "outputs": [
    {
     "name": "stdout",
     "output_type": "stream",
     "text": [
      "{1: (2, 4, 5), 'name': 'FACE', 4: [5, 7]}\n"
     ]
    }
   ],
   "source": [
    "dic={1:(2,4,5),\"name\":\"FACE\",4:[5,7]}\n",
    "print(dic)"
   ]
  },
  {
   "cell_type": "code",
   "execution_count": 7,
   "id": "55b9a28f-054f-4d0b-9dfd-3bcce895d163",
   "metadata": {},
   "outputs": [
    {
     "name": "stdout",
     "output_type": "stream",
     "text": [
      "{1: 2, 'name': 'FACE', 4: 5}\n"
     ]
    }
   ],
   "source": [
    "dic=dict([(1,2),(\"name\",\"FACE\"),(4,5)])\n",
    "print(dic)"
   ]
  },
  {
   "cell_type": "code",
   "execution_count": 11,
   "id": "b16a54c7-9b15-476b-8e48-773d58fae3cd",
   "metadata": {},
   "outputs": [
    {
     "name": "stdout",
     "output_type": "stream",
     "text": [
      "{1: 'FACE', 2: 4, 3: {5: 'hello', 6: 9.5}}\n"
     ]
    }
   ],
   "source": [
    "#created a nested dictinary\n",
    "dic={1:\"FACE\",2:4,3:{5:\"hello\",6:9.5}}\n",
    "print(dic)"
   ]
  },
  {
   "cell_type": "code",
   "execution_count": 17,
   "id": "4d09fb9c-cfaa-4f44-995d-25187c9ec48d",
   "metadata": {},
   "outputs": [
    {
     "name": "stdout",
     "output_type": "stream",
     "text": [
      "{0: 'apple', 1: 'hard', 3: 'work'}\n"
     ]
    }
   ],
   "source": [
    "#adding elemrnts to a dictionary\n",
    "dic={}\n",
    "dic[0]=\"apple\"\n",
    "dic[1]=\"hard\"\n",
    "dic[3]=\"work\"\n",
    "print(dic)"
   ]
  },
  {
   "cell_type": "code",
   "execution_count": 19,
   "id": "b93730df-8e38-41ea-87f6-1c3bff699a43",
   "metadata": {},
   "outputs": [
    {
     "name": "stdout",
     "output_type": "stream",
     "text": [
      "{0: 'apple', 1: 'hard', 3: 'work', 'new_set': (1, 5, 8)}\n"
     ]
    }
   ],
   "source": [
    "dic['new_set']=1,5,8\n",
    "print(dic)"
   ]
  },
  {
   "cell_type": "code",
   "execution_count": 21,
   "id": "71c91d1f-9b17-4e6e-8871-10ba96b2d79c",
   "metadata": {},
   "outputs": [
    {
     "name": "stdout",
     "output_type": "stream",
     "text": [
      "{0: 'google', 1: 'hard', 3: 'work', 'new_set': (1, 5, 8)}\n"
     ]
    }
   ],
   "source": [
    "dic[0]=\"google\"\n",
    "print(dic)"
   ]
  },
  {
   "cell_type": "code",
   "execution_count": 25,
   "id": "57ec065a-0994-41ce-b321-a0d27922007d",
   "metadata": {},
   "outputs": [
    {
     "name": "stdout",
     "output_type": "stream",
     "text": [
      "(1, 5, 8)\n"
     ]
    }
   ],
   "source": [
    "#accessing elements using key\n",
    "dic={0: 'apple', 1: 'hard', 3: 'work', 'new_set': (1, 5, 8)}\n",
    "print(dic[\"new_set\"])\n"
   ]
  },
  {
   "cell_type": "code",
   "execution_count": 29,
   "id": "eaf7a185-2c9f-44e8-bfad-669791f38723",
   "metadata": {},
   "outputs": [
    {
     "name": "stdout",
     "output_type": "stream",
     "text": [
      "(1, 5, 8)\n",
      "hard\n"
     ]
    }
   ],
   "source": [
    "#accessing elements using get()\n",
    "dic={0: 'apple', 1: 'hard', 3: 'work', 'new_set': (1, 5, 8)}\n",
    "print(dic.get(\"new_set\"))\n",
    "print(dic.get(1))"
   ]
  },
  {
   "cell_type": "code",
   "execution_count": 39,
   "id": "c25522a2-da8d-42c5-ad3c-2f197eafd4a5",
   "metadata": {},
   "outputs": [
    {
     "name": "stdout",
     "output_type": "stream",
     "text": [
      "(1, 5, 8)\n",
      "hard\n"
     ]
    }
   ],
   "source": [
    "dic={0: 'apple', 1: 'hard', 3: 'work', 'new_set': (1, 5, 8)}\n",
    "print(dic.pop(\"new_set\"))\n",
    "print(dic.pop(1))"
   ]
  },
  {
   "cell_type": "code",
   "execution_count": 33,
   "id": "72113dfb-8886-4e49-9316-238963103a3a",
   "metadata": {},
   "outputs": [
    {
     "name": "stdout",
     "output_type": "stream",
     "text": [
      "{}\n"
     ]
    }
   ],
   "source": [
    "#remove the dictionary\n",
    "dic={0: 'apple', 1: 'hard', 3: 'work', 'new_set': (1, 5, 8)}\n",
    "dic.clear()\n",
    "print(dic)"
   ]
  },
  {
   "cell_type": "code",
   "execution_count": 37,
   "id": "581a2031-46c2-42af-b168-b0cae5f94026",
   "metadata": {},
   "outputs": [
    {
     "ename": "SyntaxError",
     "evalue": "invalid syntax (572866420.py, line 3)",
     "output_type": "error",
     "traceback": [
      "\u001b[1;36m  Cell \u001b[1;32mIn[37], line 3\u001b[1;36m\u001b[0m\n\u001b[1;33m    dic.del()\u001b[0m\n\u001b[1;37m        ^\u001b[0m\n\u001b[1;31mSyntaxError\u001b[0m\u001b[1;31m:\u001b[0m invalid syntax\n"
     ]
    }
   ],
   "source": [
    "#accessing elements using key\n",
    "dic={0: 'apple', 1: 'hard', 3: 'work', 'new_set': (1, 5, 8)}\n",
    "dic.del()\n",
    "print(dic)"
   ]
  }
 ],
 "metadata": {
  "kernelspec": {
   "display_name": "Python 3 (ipykernel)",
   "language": "python",
   "name": "python3"
  },
  "language_info": {
   "codemirror_mode": {
    "name": "ipython",
    "version": 3
   },
   "file_extension": ".py",
   "mimetype": "text/x-python",
   "name": "python",
   "nbconvert_exporter": "python",
   "pygments_lexer": "ipython3",
   "version": "3.12.4"
  }
 },
 "nbformat": 4,
 "nbformat_minor": 5
}
