{
 "cells": [
  {
   "cell_type": "code",
   "execution_count": 5,
   "id": "9065e32c-db15-4674-b60e-24f0d693b5ad",
   "metadata": {},
   "outputs": [
    {
     "name": "stdin",
     "output_type": "stream",
     "text": [
      "enter your number: 4\n",
      "enter your number: 10\n"
     ]
    },
    {
     "name": "stdout",
     "output_type": "stream",
     "text": [
      "4\n",
      "5\n",
      "6\n",
      "7\n",
      "8\n",
      "9\n",
      "10\n"
     ]
    }
   ],
   "source": [
    "#write a program to print all number between  a and b using a while loop\n",
    "a=int(input(\"enter your number:\"))\n",
    "b=int(input(\"enter your number:\"))\n",
    "while a>=b:\n",
    "    pass\n",
    "else:\n",
    "    for i in range(a,b+1):\n",
    "        print(i)\n",
    "    \n"
   ]
  },
  {
   "cell_type": "code",
   "execution_count": null,
   "id": "bbf5fb78-8ed9-4dcd-b733-f0651e3d61ce",
   "metadata": {},
   "outputs": [
    {
     "name": "stdin",
     "output_type": "stream",
     "text": [
      "enter your number: 10\n",
      "enter your number: 4\n"
     ]
    }
   ],
   "source": [
    "a=int(input(\"enter your number:\"))\n",
    "b=int(input(\"enter your number:\"))\n",
    "while b<=a:\n",
    "    pass\n",
    "else:\n",
    "    for i in range(a,b-1):\n",
    "        print(i)"
   ]
  },
  {
   "cell_type": "code",
   "execution_count": null,
   "id": "980a7b9a-c6e2-42da-8f23-7ecf0cb997cc",
   "metadata": {},
   "outputs": [],
   "source": []
  }
 ],
 "metadata": {
  "kernelspec": {
   "display_name": "Python 3 (ipykernel)",
   "language": "python",
   "name": "python3"
  },
  "language_info": {
   "codemirror_mode": {
    "name": "ipython",
    "version": 3
   },
   "file_extension": ".py",
   "mimetype": "text/x-python",
   "name": "python",
   "nbconvert_exporter": "python",
   "pygments_lexer": "ipython3",
   "version": "3.12.4"
  }
 },
 "nbformat": 4,
 "nbformat_minor": 5
}
