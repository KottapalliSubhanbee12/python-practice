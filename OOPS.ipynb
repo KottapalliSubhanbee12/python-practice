{
 "cells": [
  {
   "cell_type": "code",
   "execution_count": 7,
   "id": "e72626b6-0775-42db-8adb-f6f185faf998",
   "metadata": {},
   "outputs": [
    {
     "name": "stdout",
     "output_type": "stream",
     "text": [
      "welcome to oops concept\n"
     ]
    }
   ],
   "source": [
    "#predict the output\n",
    "class python:\n",
    "    def fun(self):   #self:it is method but it is not a keyword\n",
    "        print(\"welcome to oops concept\")\n",
    "pyt=python()\n",
    "pyt.fun()"
   ]
  },
  {
   "cell_type": "code",
   "execution_count": 33,
   "id": "7d38aa8d-8fc7-425c-a0ba-a24dd64be20d",
   "metadata": {},
   "outputs": [
    {
     "name": "stdout",
     "output_type": "stream",
     "text": [
      "name: AUDI id: 2000000\n"
     ]
    }
   ],
   "source": [
    "class Car:\n",
    "    'Common_car'\n",
    "    car=0\n",
    "    def __init__(self,name,id):\n",
    "      self.name=name\n",
    "      self.id=id\n",
    "      Car.car+=1\n",
    "    def printCardata(self):\n",
    "        print(\"name:\",self.name,\"id:\",self.id)\n",
    "c=Car('AUDI',2000000)\n",
    "c.printCardata()"
   ]
  },
  {
   "cell_type": "code",
   "execution_count": 45,
   "id": "f44dce74-042a-4c9d-8d83-7aac1446d8cc",
   "metadata": {},
   "outputs": [
    {
     "name": "stdout",
     "output_type": "stream",
     "text": [
      "subbu 21 700000\n"
     ]
    }
   ],
   "source": [
    "class Employee:\n",
    "    def __init__(self,name,age,salary):\n",
    "        self.name=name\n",
    "        self.age=age\n",
    "        self.salary=salary\n",
    "    def display_data(self):\n",
    "        print(self.name,self.age,self.salary)\n",
    "\n",
    "e1=Employee(\"subbu\",21,700000)\n",
    "e1.display_data()\n",
    "    "
   ]
  },
  {
   "cell_type": "code",
   "execution_count": null,
   "id": "1c6fb6cd-bf2d-4dfa-8164-8eb2314833b6",
   "metadata": {},
   "outputs": [],
   "source": [
    "__init__()/get_data()/set_data() we use three data"
   ]
  },
  {
   "cell_type": "code",
   "execution_count": 49,
   "id": "d7a8bc81-9932-4a83-8ec6-8d064d3a1483",
   "metadata": {},
   "outputs": [
    {
     "name": "stdout",
     "output_type": "stream",
     "text": [
      "parrot green\n"
     ]
    }
   ],
   "source": [
    "class Birds:\n",
    "    def __init__(self,name,color):\n",
    "        self.name=name\n",
    "        self.color=color\n",
    "    def display_data(self):\n",
    "        print(self.name,self.color)\n",
    "\n",
    "b=Birds(\"parrot\",\"green\")\n",
    "b.display_data()"
   ]
  },
  {
   "cell_type": "code",
   "execution_count": 75,
   "id": "bc24582c-1d4a-4f9a-a039-c725fc2adecb",
   "metadata": {},
   "outputs": [
    {
     "name": "stdout",
     "output_type": "stream",
     "text": [
      "parrot sparrow peacock\n"
     ]
    }
   ],
   "source": [
    "class Birds:\n",
    "    def __init__(self,b1,b2,b3):\n",
    "        self.b1=b1\n",
    "        self.b2=b2\n",
    "        self.b3=b3\n",
    "    def display_data(self):\n",
    "        print(self.b1,self.b2,self.b3)\n",
    "\n",
    "b=Birds(\"parrot\",\"sparrow\",\"peacock\")\n",
    "b.display_data()"
   ]
  },
  {
   "cell_type": "code",
   "execution_count": 63,
   "id": "6fee8ea3-b1a2-4a27-9632-3e4e857e6ceb",
   "metadata": {},
   "outputs": [
    {
     "name": "stdout",
     "output_type": "stream",
     "text": [
      "Number is positive\n"
     ]
    }
   ],
   "source": [
    "class Number:\n",
    "    def __init__(self ,Number):\n",
    "        self.Number=Number\n",
    "    def check_num(self):\n",
    "        if self.Number>=0:\n",
    "            print(\"Number is positive\")\n",
    "        else:\n",
    "            print(\"Number is negative\")\n",
    "\n",
    "n=Number(2)\n",
    "n.check_num()"
   ]
  },
  {
   "cell_type": "code",
   "execution_count": 65,
   "id": "91169a31-2a7b-40cc-ba5d-6419fa7c263e",
   "metadata": {},
   "outputs": [
    {
     "name": "stdout",
     "output_type": "stream",
     "text": [
      "Number is negative\n"
     ]
    }
   ],
   "source": [
    "class Number:\n",
    "    def __init__(self ,Number):\n",
    "        self.Number=Number\n",
    "    def check_num(self):\n",
    "        if self.Number>=0:\n",
    "            print(\"Number is positive\")\n",
    "        else:\n",
    "            print(\"Number is negative\")\n",
    "\n",
    "n=Number(-5)\n",
    "n.check_num()"
   ]
  },
  {
   "cell_type": "code",
   "execution_count": 69,
   "id": "33545661-9c7a-4d53-99a6-fd1503cf0374",
   "metadata": {},
   "outputs": [
    {
     "name": "stdout",
     "output_type": "stream",
     "text": [
      "hello\n",
      "10\n"
     ]
    }
   ],
   "source": [
    "class Test:\n",
    "    x=10\n",
    "    def __init__(self):\n",
    "        print(\"hello\")\n",
    "\n",
    "t=Test()\n",
    "print(Test.x)"
   ]
  },
  {
   "cell_type": "code",
   "execution_count": 73,
   "id": "9c2bcc70-5e51-44e8-9b63-6354e894e026",
   "metadata": {},
   "outputs": [
    {
     "name": "stdout",
     "output_type": "stream",
     "text": [
      "TotalCars: 3\n",
      "name: AUDI id: 2000000\n",
      "name: BENZ id: 30000000\n",
      "name: BMW id: 10000000\n"
     ]
    }
   ],
   "source": [
    "class Car:\n",
    "    'Common_car'\n",
    "    car=0\n",
    "    def __init__(self,name,id):\n",
    "      self.name=name\n",
    "      self.id=id\n",
    "      Car.car+=1\n",
    "    def printCardata(self):\n",
    "        print(\"name:\",self.name,\"id:\",self.id)\n",
    "c=Car('AUDI',2000000)\n",
    "c1=Car(\"BENZ\",30000000)\n",
    "c2=Car(\"BMW\",10000000)\n",
    "print(\"TotalCars:\",Car.car)\n",
    "c.printCardata()\n",
    "c1.printCardata()\n",
    "c2.printCardata()"
   ]
  },
  {
   "cell_type": "code",
   "execution_count": 77,
   "id": "a27f0ed0-c2ae-41e8-8436-1b93200ad06a",
   "metadata": {},
   "outputs": [
    {
     "name": "stdout",
     "output_type": "stream",
     "text": [
      "car\n"
     ]
    }
   ],
   "source": [
    "class Test:\n",
    "    def __init__(self):\n",
    "        self.variable=\"car\"\n",
    "        self.change(self.variable)\n",
    "    def change(self,var):\n",
    "        var=\"bike\"\n",
    "\n",
    "obj=Test()\n",
    "print(obj.variable)"
   ]
  },
  {
   "cell_type": "code",
   "execution_count": 1,
   "id": "9403fbcd-ed35-4d93-9c46-d2a79bdc2ed4",
   "metadata": {},
   "outputs": [
    {
     "name": "stdout",
     "output_type": "stream",
     "text": [
      "bike\n",
      "car\n"
     ]
    }
   ],
   "source": [
    "class Test:\n",
    "    def __init__(self):\n",
    "        self.variable=\"car\"\n",
    "        self.change(self.variable)\n",
    "    def change(self,var):\n",
    "        var=\"bike\"\n",
    "        print(var)\n",
    "\n",
    "obj=Test()\n",
    "print(obj.variable)"
   ]
  },
  {
   "cell_type": "code",
   "execution_count": null,
   "id": "611b6dc9-447d-4305-a5c6-b01d87feaaf3",
   "metadata": {},
   "outputs": [],
   "source": [
    "class Demo:\n",
    "    def __init__(self):\n",
    "        pass\n",
    "    def test()"
   ]
  },
  {
   "cell_type": "code",
   "execution_count": null,
   "id": "1b48763d-b903-4063-8328-f9c55399fb7b",
   "metadata": {},
   "outputs": [],
   "source": [
    "26-11-2024"
   ]
  },
  {
   "cell_type": "code",
   "execution_count": null,
   "id": "15246977-5e71-47a4-a675-050723087511",
   "metadata": {},
   "outputs": [],
   "source": [
    "#inheritance"
   ]
  },
  {
   "cell_type": "code",
   "execution_count": 1,
   "id": "dada9e0f-575a-400e-95c8-e78c073457c1",
   "metadata": {},
   "outputs": [
    {
     "name": "stdout",
     "output_type": "stream",
     "text": [
      "Engine is powerful\n",
      "100km\n"
     ]
    }
   ],
   "source": [
    "class Car:\n",
    "    def speed(self):\n",
    "        print(\"100km\")\n",
    "class Audi(Car):\n",
    "    def engine(self):\n",
    "        print(\"Engine is powerful\")\n",
    "c=Audi()\n",
    "c.engine()\n",
    "c.speed()\n"
   ]
  },
  {
   "cell_type": "code",
   "execution_count": 7,
   "id": "88f26820-0d39-4d79-a985-e3c07751996e",
   "metadata": {},
   "outputs": [
    {
     "name": "stdout",
     "output_type": "stream",
     "text": [
      "bark\n",
      "meow\n"
     ]
    }
   ],
   "source": [
    "#over riding:\n",
    "class Animal:\n",
    "    def sound(self):\n",
    "        print(\"Some generic sound\")\n",
    "class Dog(Animal):\n",
    "    def sound(self):\n",
    "        print(\"bark\")\n",
    "class Cat(Animal):\n",
    "    def sound(self):\n",
    "        print(\"meow\")\n",
    "\n",
    "dog=Dog()\n",
    "cat=Cat()\n",
    "dog.sound()\n",
    "cat.sound()"
   ]
  },
  {
   "cell_type": "code",
   "execution_count": null,
   "id": "f55c0bcf-bd9e-40a8-b2b7-7abe6b35bb19",
   "metadata": {},
   "outputs": [],
   "source": [
    "27-11-2024"
   ]
  },
  {
   "cell_type": "code",
   "execution_count": 3,
   "id": "11cce848-4960-4117-bb30-5afc618db4ce",
   "metadata": {},
   "outputs": [
    {
     "name": "stdin",
     "output_type": "stream",
     "text": [
      " 10\n",
      " 2\n"
     ]
    },
    {
     "name": "stdout",
     "output_type": "stream",
     "text": [
      "Addition:12\n",
      "Subtraction:8\n",
      "Multipication: 20\n",
      "floor division:5\n"
     ]
    }
   ],
   "source": [
    "class Calculator:\n",
    "    def add(self,num1,num2):\n",
    "        self.num1=num1;\n",
    "        self.num2=num2;\n",
    "        return self.num1+self.num2\n",
    "    def sub(self,num1,num2):\n",
    "       return num1-num2;\n",
    "class AdvanceCalculator(Calculator):\n",
    "    def mul(self,num1,num2):\n",
    "        print(\"Multipication:\",num1*num2)\n",
    "    def div(self,num1,num2):\n",
    "        return num1//num2;\n",
    "\n",
    "x=AdvanceCalculator()\n",
    "num1=int(input())\n",
    "num2=int(input())\n",
    "print(\"Addition:%d\"%(x.add(num1,num2)))\n",
    "print(\"Subtraction:%d\"%(x.sub(num1,num2)))\n",
    "x.mul(num1,num2)\n",
    "print(\"floor division:%d\"%(x.div(num1,num2)))\n"
   ]
  },
  {
   "cell_type": "code",
   "execution_count": null,
   "id": "8a51707d-1f65-4f4b-a991-2acf3bc738a4",
   "metadata": {},
   "outputs": [],
   "source": []
  },
  {
   "cell_type": "code",
   "execution_count": null,
   "id": "9a0e3b28-101d-4e59-96c9-61a3adcadb76",
   "metadata": {},
   "outputs": [],
   "source": []
  }
 ],
 "metadata": {
  "kernelspec": {
   "display_name": "Python 3 (ipykernel)",
   "language": "python",
   "name": "python3"
  },
  "language_info": {
   "codemirror_mode": {
    "name": "ipython",
    "version": 3
   },
   "file_extension": ".py",
   "mimetype": "text/x-python",
   "name": "python",
   "nbconvert_exporter": "python",
   "pygments_lexer": "ipython3",
   "version": "3.12.4"
  }
 },
 "nbformat": 4,
 "nbformat_minor": 5
}
