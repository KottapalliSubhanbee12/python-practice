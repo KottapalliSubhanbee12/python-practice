{
 "cells": [
  {
   "cell_type": "code",
   "execution_count": 9,
   "id": "69fdeb50-0c44-43f8-85e8-0ae554d7b2bd",
   "metadata": {},
   "outputs": [],
   "source": [
    "def sum():\n",
    "    return sum(range(3,71))\n",
    "    print(sum())"
   ]
  },
  {
   "cell_type": "code",
   "execution_count": 25,
   "id": "d81370cc-c402-4595-895c-3cf55789adce",
   "metadata": {},
   "outputs": [
    {
     "name": "stdout",
     "output_type": "stream",
     "text": [
      "2482\n"
     ]
    }
   ],
   "source": [
    "def num():\n",
    "    total_sum=0\n",
    "    for num in range(3,71):\n",
    "        total_sum=total_sum+num\n",
    "    return total_sum\n",
    "result=num()\n",
    "print(result)"
   ]
  },
  {
   "cell_type": "code",
   "execution_count": 31,
   "id": "6df3bfd0-7ef9-4ebe-94e1-0219c5e163f0",
   "metadata": {},
   "outputs": [
    {
     "name": "stdout",
     "output_type": "stream",
     "text": [
      "1224\n"
     ]
    }
   ],
   "source": [
    "def num():\n",
    "    total=0\n",
    "    for num in range(3,71):\n",
    "        if num%2!=0:\n",
    "            total=total+num\n",
    "    return total\n",
    "result=num()\n",
    "print(result)"
   ]
  },
  {
   "cell_type": "code",
   "execution_count": 35,
   "id": "bccb6549-2d99-4c32-be88-09f6ed242886",
   "metadata": {},
   "outputs": [
    {
     "name": "stdout",
     "output_type": "stream",
     "text": [
      "1258\n"
     ]
    }
   ],
   "source": [
    "def num():\n",
    "    total=0\n",
    "    for num in range(3,71):\n",
    "        if num%2==0:\n",
    "            total=total+num\n",
    "    return total\n",
    "result=num()\n",
    "print(result)"
   ]
  },
  {
   "cell_type": "code",
   "execution_count": 37,
   "id": "2e341d9b-21b5-43a2-8df8-e9548b85053b",
   "metadata": {},
   "outputs": [
    {
     "name": "stdin",
     "output_type": "stream",
     "text": [
      "enter the value of x 5\n",
      "enter the value of y 6\n",
      "enter the value of z 9\n"
     ]
    },
    {
     "name": "stdout",
     "output_type": "stream",
     "text": [
      "20.0\n",
      "270.0\n"
     ]
    }
   ],
   "source": [
    "def a(x,y,z):\n",
    "    sum=x+y+z\n",
    "    product=x*y*z\n",
    "    print(sum)\n",
    "    print(product)\n",
    "x=int(input(\"enter the value of x\"))\n",
    "y=float(input(\"enter the value of y\"))\n",
    "z=int(input(\"enter the value of z\"))\n",
    "a(x,y,z)"
   ]
  },
  {
   "cell_type": "code",
   "execution_count": 43,
   "id": "25d7d6d1-bc34-4e64-9ee7-7669da68217d",
   "metadata": {},
   "outputs": [
    {
     "name": "stdin",
     "output_type": "stream",
     "text": [
      " 2\n",
      " 3\n",
      " 4\n"
     ]
    },
    {
     "name": "stdout",
     "output_type": "stream",
     "text": [
      "max value is {4}\n"
     ]
    }
   ],
   "source": [
    "def max(a,b,c):\n",
    "    if a>=b and a>=c:\n",
    "        print(\"max value is\",{a})\n",
    "    elif b>=a and b>=c:\n",
    "        print(\"max value is\",{b})\n",
    "    else:\n",
    "        print(\"max value is\",{c})\n",
    "\n",
    "a=int(input())\n",
    "b=int(input())\n",
    "c=int(input())\n",
    "max(a,b,c)"
   ]
  },
  {
   "cell_type": "code",
   "execution_count": 59,
   "id": "6934eb9f-8c3b-4ec1-996f-305466b847c7",
   "metadata": {},
   "outputs": [
    {
     "name": "stdout",
     "output_type": "stream",
     "text": [
      "[2, 4, 6, 8, 10]\n"
     ]
    }
   ],
   "source": [
    "a=[1,2,3,4,5,6,7,8,9,10]\n",
    "even_a=[]\n",
    "for n in a:\n",
    "    if n%2==0:\n",
    "        even_a.append(n)\n",
    "print(even_a)"
   ]
  },
  {
   "cell_type": "code",
   "execution_count": 61,
   "id": "e679075d-95ef-4fed-aca8-beff167a0c29",
   "metadata": {},
   "outputs": [
    {
     "name": "stdout",
     "output_type": "stream",
     "text": [
      "[28, 56, 72, 0]\n"
     ]
    }
   ],
   "source": [
    "b=[28,56,72,55,0,101]\n",
    "even_b=[]\n",
    "for n in b:\n",
    "    if n%2==0:\n",
    "        even_b.append(n)\n",
    "print(even_b)"
   ]
  },
  {
   "cell_type": "code",
   "execution_count": 63,
   "id": "8aade8ae-f1a9-4f17-9126-075daf06daa8",
   "metadata": {},
   "outputs": [
    {
     "name": "stdin",
     "output_type": "stream",
     "text": [
      "enter your number 5\n"
     ]
    },
    {
     "name": "stdout",
     "output_type": "stream",
     "text": [
      "positive and odd\n"
     ]
    }
   ],
   "source": [
    "a=int(input(\"enter your number\"))\n",
    "if a>0:\n",
    "    if a%2==0:\n",
    "        print(\"positive and even\")\n",
    "    else:\n",
    "        print(\"positive and odd\")\n",
    "elif a<0:\n",
    "    if a%2!=0:\n",
    "        print(\"negative\")\n",
    "    else:\n",
    "        print(\"zero\")\n",
    "        \n"
   ]
  },
  {
   "cell_type": "code",
   "execution_count": 69,
   "id": "3a76a1a1-8af7-41fb-8f21-25ef044d47e4",
   "metadata": {},
   "outputs": [
    {
     "name": "stdin",
     "output_type": "stream",
     "text": [
      "enter your number -2\n"
     ]
    },
    {
     "name": "stdout",
     "output_type": "stream",
     "text": [
      "negative\n"
     ]
    }
   ],
   "source": [
    "a=int(input(\"enter your number\"))\n",
    "if a>0:\n",
    "    if a%2==0:\n",
    "        print(\"positive and even\")\n",
    "    else:\n",
    "        print(\"positive and odd\")\n",
    "elif a<0:\n",
    "    print(\"negative\")\n",
    "else:\n",
    "    print(\"zero\")\n",
    "        "
   ]
  },
  {
   "cell_type": "code",
   "execution_count": 71,
   "id": "ca7edd63-d9b8-465a-b580-afb6776b2a9c",
   "metadata": {},
   "outputs": [
    {
     "name": "stdin",
     "output_type": "stream",
     "text": [
      " 5\n"
     ]
    },
    {
     "name": "stdout",
     "output_type": "stream",
     "text": [
      "a prime number\n"
     ]
    }
   ],
   "source": [
    "def prime(a):\n",
    "    if a%2==0:\n",
    "        return 'not a prime number'\n",
    "    elif a%2!=0:\n",
    "        return 'a prime number'\n",
    "num=int(input())\n",
    "r=prime(num)\n",
    "print(r)"
   ]
  },
  {
   "cell_type": "code",
   "execution_count": 73,
   "id": "74efc701-4b88-4e92-b260-70916af4686d",
   "metadata": {},
   "outputs": [
    {
     "name": "stdin",
     "output_type": "stream",
     "text": [
      " 2\n"
     ]
    },
    {
     "name": "stdout",
     "output_type": "stream",
     "text": [
      "not a prime number\n"
     ]
    }
   ],
   "source": [
    "def prime(a):\n",
    "    if a%2==0:\n",
    "        return 'not a prime number'\n",
    "    elif a%2!=0:\n",
    "        return 'a prime number'\n",
    "num=int(input())\n",
    "r=prime(num)\n",
    "print(r)"
   ]
  },
  {
   "cell_type": "code",
   "execution_count": 83,
   "id": "b57b84af-2d8f-454a-a253-bba57e291742",
   "metadata": {},
   "outputs": [
    {
     "name": "stdout",
     "output_type": "stream",
     "text": [
      "0 1 1 2 3 5 "
     ]
    }
   ],
   "source": [
    "def fibonacci(n):\n",
    "    a,b=0,1\n",
    "    for i in range(n):\n",
    "        print(a,end=\" \")\n",
    "        a,b=b,a+b\n",
    "\n",
    "fibonacci(6)\n",
    "\n"
   ]
  },
  {
   "cell_type": "code",
   "execution_count": 89,
   "id": "993a9d24-eeda-4abf-a2bb-2bc3dcaa33ce",
   "metadata": {},
   "outputs": [
    {
     "name": "stdout",
     "output_type": "stream",
     "text": [
      "9 10 11 12 13 14 15 "
     ]
    }
   ],
   "source": [
    "a=8\n",
    "b=16\n",
    "while a>=b:\n",
    "    pass\n",
    "else:\n",
    "    for i in range(a+1,b):\n",
    "        print(i,end=' ')"
   ]
  }
 ],
 "metadata": {
  "kernelspec": {
   "display_name": "Python 3 (ipykernel)",
   "language": "python",
   "name": "python3"
  },
  "language_info": {
   "codemirror_mode": {
    "name": "ipython",
    "version": 3
   },
   "file_extension": ".py",
   "mimetype": "text/x-python",
   "name": "python",
   "nbconvert_exporter": "python",
   "pygments_lexer": "ipython3",
   "version": "3.12.4"
  }
 },
 "nbformat": 4,
 "nbformat_minor": 5
}
