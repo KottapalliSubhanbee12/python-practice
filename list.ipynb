{
 "cells": [
  {
   "cell_type": "code",
   "execution_count": 106,
   "id": "c8bd481e-19a6-4d1a-8de9-e2a5399d2eac",
   "metadata": {},
   "outputs": [
    {
     "name": "stdout",
     "output_type": "stream",
     "text": [
      "[1, 2, 3, 4]\n",
      "1\n",
      "[2, 3, 4]\n"
     ]
    }
   ],
   "source": [
    "#23-10(about lists)\n",
    "#predict the output\n",
    "num=[1,2,3,4]\n",
    "print(num)\n",
    "a,*other=num\n",
    "print(a)\n",
    "print(other)"
   ]
  },
  {
   "cell_type": "code",
   "execution_count": 3,
   "id": "75ddd6e4-e3f6-469f-bbc5-3adadfa87cc7",
   "metadata": {},
   "outputs": [
    {
     "name": "stdout",
     "output_type": "stream",
     "text": [
      "[1, 2, 3, 4]\n"
     ]
    }
   ],
   "source": [
    "num=[1,2,3,4]\n",
    "print(num)"
   ]
  },
  {
   "cell_type": "code",
   "execution_count": 7,
   "id": "fae64ffe-d4c1-49e2-abfe-ce44e8f5281a",
   "metadata": {},
   "outputs": [
    {
     "name": "stdout",
     "output_type": "stream",
     "text": [
      "[1, 2, 3, 4]\n",
      "1 2\n"
     ]
    }
   ],
   "source": [
    "num=[1,2,3,4]\n",
    "print(num)\n",
    "a,b,*other=num\n",
    "print(a,b)"
   ]
  },
  {
   "cell_type": "code",
   "execution_count": 34,
   "id": "03a52602-5e21-4277-a6e5-e75868655adf",
   "metadata": {},
   "outputs": [
    {
     "name": "stdout",
     "output_type": "stream",
     "text": [
      "apple\n",
      "mango\n",
      "orange\n",
      "banana\n"
     ]
    }
   ],
   "source": [
    "#create a list which as five element use the for loop to print the elements one by one\n",
    "x=['apple','mango','orange','banana']\n",
    "for x in x:\n",
    "    if i=='orange':\n",
    "        continue\n",
    "    print(x)"
   ]
  },
  {
   "cell_type": "code",
   "execution_count": 24,
   "id": "8dbac488-9f59-4e52-a437-80f7d0283045",
   "metadata": {},
   "outputs": [
    {
     "name": "stdout",
     "output_type": "stream",
     "text": [
      "['apple', 'mango', 'orange', 'banana']\n",
      "['apple', 'mango', 'orange', 'banana']\n",
      "['apple', 'mango', 'orange', 'banana']\n",
      "['apple', 'mango', 'orange', 'banana']\n"
     ]
    }
   ],
   "source": [
    "x=['apple','mango','orange','banana']\n",
    "for i in x:\n",
    "    print(x)"
   ]
  },
  {
   "cell_type": "code",
   "execution_count": 46,
   "id": "1be8e6c7-fd50-4f6e-9488-6611cdae6843",
   "metadata": {},
   "outputs": [
    {
     "name": "stdout",
     "output_type": "stream",
     "text": [
      "[1, 2, 3, 4]\n",
      "[1, 2, 3, 4, 6]\n"
     ]
    }
   ],
   "source": [
    "#methods in lists\n",
    "num=[1,2,3,4]\n",
    "print(num)\n",
    "num.append(6)#  6 argument and take only one  argument take two arguments gives the error\n",
    "print(num)"
   ]
  },
  {
   "cell_type": "code",
   "execution_count": 42,
   "id": "c22c67d3-456b-4539-afe8-b720b07d6821",
   "metadata": {},
   "outputs": [
    {
     "name": "stdout",
     "output_type": "stream",
     "text": [
      "[1, 2, 3, 4]\n",
      "[1, 2, 3, 4, 7]\n"
     ]
    }
   ],
   "source": [
    "num=[1,2,3,4]\n",
    "print(num)\n",
    "num.append(7)\n",
    "\n",
    "print(num)"
   ]
  },
  {
   "cell_type": "code",
   "execution_count": 48,
   "id": "07fb1a89-1839-4159-890d-50defa09eb91",
   "metadata": {},
   "outputs": [
    {
     "name": "stdout",
     "output_type": "stream",
     "text": [
      "[1, 2, 3, 4, 5, 'python']\n"
     ]
    }
   ],
   "source": [
    "num=[1,2,3,4,5]\n",
    "stg=[\"python\"]\n",
    "x=num+stg\n",
    "print(x)"
   ]
  },
  {
   "cell_type": "code",
   "execution_count": 52,
   "id": "cb325294-4e97-490d-9874-7290ff1a8a9e",
   "metadata": {},
   "outputs": [
    {
     "name": "stdout",
     "output_type": "stream",
     "text": [
      "[1, 2, 3, 4, 'python']\n"
     ]
    }
   ],
   "source": [
    "num=[1,2,3,4]\n",
    "stg=[\"python\"]\n",
    "num.extend(stg)\n",
    "print(num)"
   ]
  },
  {
   "cell_type": "code",
   "execution_count": 56,
   "id": "1a89869d-c4bd-45c8-b104-d4e773c60e00",
   "metadata": {},
   "outputs": [
    {
     "name": "stdout",
     "output_type": "stream",
     "text": [
      "['python', 1, 2, 3, 4]\n"
     ]
    }
   ],
   "source": [
    "num=[1,2,3,4]\n",
    "stg=[\"python\"]\n",
    "stg.extend(num)\n",
    "print(stg)"
   ]
  },
  {
   "cell_type": "code",
   "execution_count": 62,
   "id": "e9950093-65ae-4a2b-a8ae-65b2458bceaf",
   "metadata": {},
   "outputs": [
    {
     "name": "stdout",
     "output_type": "stream",
     "text": [
      "[1, 2, 3, 4, 'list', 'python']\n"
     ]
    }
   ],
   "source": [
    "#to add between list\n",
    "num=[1,2,3,4]\n",
    "stg=[\"python\"]\n",
    "num.extend(stg)\n",
    "num.insert(4,\"list\")\n",
    "print(num)"
   ]
  },
  {
   "cell_type": "code",
   "execution_count": 64,
   "id": "7b0a4171-e248-4157-922e-ffdd212605ec",
   "metadata": {},
   "outputs": [
    {
     "name": "stdout",
     "output_type": "stream",
     "text": [
      "['subbu', 1, 2, 3, 4, 'python']\n"
     ]
    }
   ],
   "source": [
    "num=[1,2,3,4]\n",
    "stg=[\"python\"]\n",
    "num.extend(stg)\n",
    "num.insert(0,\"subbu\")\n",
    "print(num)"
   ]
  },
  {
   "cell_type": "code",
   "execution_count": 68,
   "id": "707f48ad-7531-4cac-ba0e-ca0877b80367",
   "metadata": {},
   "outputs": [
    {
     "name": "stdout",
     "output_type": "stream",
     "text": [
      "[1, 2, 3, 4, 'python']\n",
      "[1, 2, 3, 'python']\n"
     ]
    }
   ],
   "source": [
    "#removing the elemnets in lists\n",
    "num=[1,2,3,4]\n",
    "stg=[\"python\"]\n",
    "num.extend(stg)\n",
    "print(num)\n",
    "num.remove(4)\n",
    "print(num)"
   ]
  },
  {
   "cell_type": "code",
   "execution_count": 74,
   "id": "de5861ba-a4d9-4e71-97d2-cbfaf05f70a1",
   "metadata": {},
   "outputs": [
    {
     "name": "stdout",
     "output_type": "stream",
     "text": [
      "['f', 'g', 'n', 'y', 'z']\n"
     ]
    }
   ],
   "source": [
    "#sort  elements in list\n",
    "u=['z','y','f','g','n']\n",
    "u.sort()\n",
    "print(u)"
   ]
  },
  {
   "cell_type": "code",
   "execution_count": 80,
   "id": "fa7557aa-cd69-458d-a123-754691a0f437",
   "metadata": {},
   "outputs": [
    {
     "name": "stdout",
     "output_type": "stream",
     "text": [
      "['f', 'g', 'n', 'y', 'z']\n"
     ]
    }
   ],
   "source": [
    "u=['z','y','f','g','n']\n",
    "u.sort()\n",
    "reverse='true'\n",
    "print(u)"
   ]
  },
  {
   "cell_type": "code",
   "execution_count": 82,
   "id": "5ed7a9ae-541b-4fda-88cf-e4fbda475bab",
   "metadata": {},
   "outputs": [
    {
     "name": "stdout",
     "output_type": "stream",
     "text": [
      "['f', 'g', 'n', 'y', 'z']\n"
     ]
    }
   ],
   "source": [
    "u=['z','y','f','g','n']\n",
    "u.sort()\n",
    "reverse='false'\n",
    "print(u)"
   ]
  },
  {
   "cell_type": "code",
   "execution_count": 84,
   "id": "bbdf048b-8853-4120-be26-739173011899",
   "metadata": {},
   "outputs": [
    {
     "name": "stdout",
     "output_type": "stream",
     "text": [
      "90\n"
     ]
    }
   ],
   "source": [
    "#built in function\n",
    "a=[9,17,14,4,90,55]\n",
    "print(max(a))"
   ]
  },
  {
   "cell_type": "code",
   "execution_count": 86,
   "id": "58630e7b-b0be-4515-9843-39b902bf37ab",
   "metadata": {},
   "outputs": [
    {
     "name": "stdout",
     "output_type": "stream",
     "text": [
      "4\n"
     ]
    }
   ],
   "source": [
    "a=[9,17,14,4,90,55]\n",
    "print(min(a))"
   ]
  },
  {
   "cell_type": "code",
   "execution_count": 88,
   "id": "066d3c80-6f28-4587-9d5f-79146036edd9",
   "metadata": {},
   "outputs": [
    {
     "name": "stdout",
     "output_type": "stream",
     "text": [
      "189\n"
     ]
    }
   ],
   "source": [
    "a=[9,17,14,4,90,55]\n",
    "print(sum(a))"
   ]
  },
  {
   "cell_type": "code",
   "execution_count": 90,
   "id": "104a8a13-6152-4225-be6d-bbe98a7aaccf",
   "metadata": {},
   "outputs": [
    {
     "name": "stdout",
     "output_type": "stream",
     "text": [
      "6\n"
     ]
    }
   ],
   "source": [
    "a=[9,17,14,4,90,55]\n",
    "print(len(a))"
   ]
  },
  {
   "cell_type": "code",
   "execution_count": 94,
   "id": "5f6bbb91-4101-4713-a9f5-c5a813d9fbff",
   "metadata": {},
   "outputs": [
    {
     "name": "stdout",
     "output_type": "stream",
     "text": [
      "31.5\n"
     ]
    }
   ],
   "source": [
    "a=[9,17,14,4,90,55]\n",
    "b=(sum(a)/len(a))\n",
    "print(b)"
   ]
  },
  {
   "cell_type": "code",
   "execution_count": 96,
   "id": "848c607e-273e-4dd6-ab1c-41c286ef1cb9",
   "metadata": {},
   "outputs": [
    {
     "name": "stdout",
     "output_type": "stream",
     "text": [
      "[1, 2, 3, 4, 5, 6, 7, 8, 9, 10]\n"
     ]
    }
   ],
   "source": [
    "#predict the output\n",
    "list1=list(range(1,11))\n",
    "print(list1)"
   ]
  },
  {
   "cell_type": "code",
   "execution_count": 100,
   "id": "c98adea3-6069-48a4-8c1d-0d79a3857e7e",
   "metadata": {},
   "outputs": [
    {
     "name": "stdout",
     "output_type": "stream",
     "text": [
      "[1, 2, 3, 4, 5, 6, 7, 8, 9, 10]\n",
      "[1, 3, 5, 7, 9]\n"
     ]
    }
   ],
   "source": [
    "list1=list(range(1,11))\n",
    "print(list1)\n",
    "odd=list1[::2]\n",
    "print(odd)"
   ]
  },
  {
   "cell_type": "code",
   "execution_count": 104,
   "id": "61223573-d350-4ded-aac3-5451b96fc608",
   "metadata": {},
   "outputs": [
    {
     "name": "stdout",
     "output_type": "stream",
     "text": [
      "[1, 2, 3, 4, 5, 6, 7, 8, 9, 10]\n",
      "[2, 4, 6, 8, 10]\n"
     ]
    }
   ],
   "source": [
    "list1=list(range(1,11))\n",
    "print(list1)\n",
    "even=list1[1::2]\n",
    "print(even)"
   ]
  },
  {
   "cell_type": "code",
   "execution_count": null,
   "id": "078232a0-ba84-4cbc-b4f5-34fd1286e245",
   "metadata": {},
   "outputs": [],
   "source": []
  }
 ],
 "metadata": {
  "kernelspec": {
   "display_name": "Python 3 (ipykernel)",
   "language": "python",
   "name": "python3"
  },
  "language_info": {
   "codemirror_mode": {
    "name": "ipython",
    "version": 3
   },
   "file_extension": ".py",
   "mimetype": "text/x-python",
   "name": "python",
   "nbconvert_exporter": "python",
   "pygments_lexer": "ipython3",
   "version": "3.12.4"
  }
 },
 "nbformat": 4,
 "nbformat_minor": 5
}
