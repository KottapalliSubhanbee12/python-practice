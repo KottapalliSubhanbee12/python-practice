{
 "cells": [
  {
   "cell_type": "code",
   "execution_count": null,
   "id": "9b1003c9-683b-46c2-bcf9-815a9b6e7a99",
   "metadata": {},
   "outputs": [],
   "source": [
    "MULTIPLE INHERITENCE"
   ]
  },
  {
   "cell_type": "code",
   "execution_count": null,
   "id": "de8d798c-8509-49fc-a635-bf71e95b5bfa",
   "metadata": {},
   "outputs": [],
   "source": [
    "class Normalroom:\n",
    "    def calculate(self,rooms,days):\n",
    "        self .room=rooms\n",
    "        self.days=days\n",
    "        if days==1:\n",
    "            rent=no.of rooms*300*days\n",
    "        elif days<=1 or n>=5:\n",
    "            rent=no.of rooms*250*days\n",
    "\n",
    "        else:\n",
    "            rent=no.of rooms*300*day\n",
    "            print(\"rent=\",rent)\n",
    "\n",
    "class ACroom:\n",
    "    def calculate(self,days,rooms):\n",
    "        self .room=rooms\n",
    "        self.days=days\n",
    "        if days==1:\n",
    "            rent=no.of rooms*450*days\n",
    "    \n",
    "        elif days<=1 or days>=5:\n",
    "            rent=no.of rooms*350*days\n",
    "        else:\n",
    "            rent=no.of rooms*250*days\n",
    "            print(\"rent =\",rent)\n",
    "\n",
    "class Suiteroom:\n",
    "    def calculate(self, days,rooms):\n",
    "        self .room=rooms\n",
    "        self.days=days\n",
    "        if days==1:\n",
    "            rent=no.of rooms*450*days\n",
    "    \n",
    "        elif days<=1 or days>=5:\n",
    "            rent=no.of rooms*350*days\n",
    "        else:\n",
    "            rent=no.of rooms*250*days\n",
    "            print(\"rent =\",rent)\n",
    "\n",
    "\n",
    "    \n",
    "\n",
    "class Hotel(Normalroom,ACroom,Suiteroom):\n",
    "    def.Hotel(display name,address,mobile number):\n",
    "        "
   ]
  },
  {
   "cell_type": "code",
   "execution_count": null,
   "id": "58f8771d-0f6b-4192-98aa-5e5dbba06547",
   "metadata": {},
   "outputs": [],
   "source": []
  }
 ],
 "metadata": {
  "kernelspec": {
   "display_name": "Python 3 (ipykernel)",
   "language": "python",
   "name": "python3"
  },
  "language_info": {
   "codemirror_mode": {
    "name": "ipython",
    "version": 3
   },
   "file_extension": ".py",
   "mimetype": "text/x-python",
   "name": "python",
   "nbconvert_exporter": "python",
   "pygments_lexer": "ipython3",
   "version": "3.12.4"
  }
 },
 "nbformat": 4,
 "nbformat_minor": 5
}
