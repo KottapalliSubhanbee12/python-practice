{
 "cells": [
  {
   "cell_type": "code",
   "execution_count": 1,
   "id": "fc9e97b1-8f8f-428f-abe3-a9f43e08bb9f",
   "metadata": {},
   "outputs": [],
   "source": [
    "#tuples\n",
    "#creating tuples\n"
   ]
  },
  {
   "cell_type": "code",
   "execution_count": 3,
   "id": "27056f47-425d-4103-8460-0f20c1b3d80e",
   "metadata": {},
   "outputs": [
    {
     "name": "stdout",
     "output_type": "stream",
     "text": [
      "()\n"
     ]
    }
   ],
   "source": [
    "empty_tuple=()\n",
    "print(empty_tuple)"
   ]
  },
  {
   "cell_type": "code",
   "execution_count": 5,
   "id": "7e23210a-e1ab-4c44-8d51-a20e7500c905",
   "metadata": {},
   "outputs": [
    {
     "name": "stdout",
     "output_type": "stream",
     "text": [
      "(26, 45, 32)\n"
     ]
    }
   ],
   "source": [
    "value_tuple=26,45,32\n",
    "print(value_tuple)"
   ]
  },
  {
   "cell_type": "code",
   "execution_count": 7,
   "id": "514c4b6a-ac36-400a-a81c-6eb95d7f5bec",
   "metadata": {},
   "outputs": [
    {
     "name": "stdout",
     "output_type": "stream",
     "text": [
      "(26, 45, 'hello')\n"
     ]
    }
   ],
   "source": [
    "value_tuple=(26,45,'hello')\n",
    "print(value_tuple)"
   ]
  },
  {
   "cell_type": "code",
   "execution_count": 9,
   "id": "3f2ea920-7870-4450-836e-2598c20e0bff",
   "metadata": {},
   "outputs": [
    {
     "name": "stdout",
     "output_type": "stream",
     "text": [
      "hello\n"
     ]
    }
   ],
   "source": [
    "tuple=(\"hello\")\n",
    "print(tuple)"
   ]
  },
  {
   "cell_type": "code",
   "execution_count": 11,
   "id": "f99a2b49-6528-4401-99be-2e0d79a64784",
   "metadata": {},
   "outputs": [
    {
     "name": "stdout",
     "output_type": "stream",
     "text": [
      "('hello',)\n"
     ]
    }
   ],
   "source": [
    "tuple=(\"hello\",)\n",
    "print(tuple)"
   ]
  },
  {
   "cell_type": "code",
   "execution_count": 15,
   "id": "6c141546-5172-4f40-99da-643e9a203336",
   "metadata": {},
   "outputs": [
    {
     "ename": "TypeError",
     "evalue": "'tuple' object does not support item assignment",
     "output_type": "error",
     "traceback": [
      "\u001b[1;31m---------------------------------------------------------------------------\u001b[0m",
      "\u001b[1;31mTypeError\u001b[0m                                 Traceback (most recent call last)",
      "Cell \u001b[1;32mIn[15], line 3\u001b[0m\n\u001b[0;32m      1\u001b[0m \u001b[38;5;66;03m#immutable\u001b[39;00m\n\u001b[0;32m      2\u001b[0m value_tuple\u001b[38;5;241m=\u001b[39m(\u001b[38;5;241m26\u001b[39m,\u001b[38;5;241m45\u001b[39m,\u001b[38;5;124m'\u001b[39m\u001b[38;5;124mhello\u001b[39m\u001b[38;5;124m'\u001b[39m)\n\u001b[1;32m----> 3\u001b[0m value_tuple[\u001b[38;5;241m1\u001b[39m]\u001b[38;5;241m=\u001b[39m \u001b[38;5;241m7\u001b[39m\n\u001b[0;32m      4\u001b[0m \u001b[38;5;28mprint\u001b[39m(value_tuple)\n",
      "\u001b[1;31mTypeError\u001b[0m: 'tuple' object does not support item assignment"
     ]
    }
   ],
   "source": [
    "#immutable\n",
    "value_tuple=(26,45,'hello')\n",
    "value_tuple[1]= 7\n",
    "print(value_tuple)"
   ]
  },
  {
   "cell_type": "code",
   "execution_count": 17,
   "id": "22379dee-fadb-4eff-9150-24acde0c3a08",
   "metadata": {},
   "outputs": [
    {
     "name": "stdout",
     "output_type": "stream",
     "text": [
      "(26, 45, 'hello', 7, 5.6, 'python')\n"
     ]
    }
   ],
   "source": [
    "#concatenation\n",
    "value1_tuple=(26,45,'hello')\n",
    "value2_tuple=(7,5.6,'python')\n",
    "print(value1_tuple+value2_tuple)"
   ]
  },
  {
   "cell_type": "code",
   "execution_count": 19,
   "id": "e1722329-47ce-4b02-a242-0bfc5b9ac4ca",
   "metadata": {},
   "outputs": [
    {
     "name": "stdout",
     "output_type": "stream",
     "text": [
      "(7, 5.6, 'python', 26, 45, 'hello')\n"
     ]
    }
   ],
   "source": [
    "value1_tuple=(26,45,'hello')\n",
    "value2_tuple=(7,5.6,'python')\n",
    "print(value2_tuple+value1_tuple)"
   ]
  },
  {
   "cell_type": "code",
   "execution_count": 21,
   "id": "79b18eef-8505-4d44-8b3b-9b06412c41bd",
   "metadata": {},
   "outputs": [
    {
     "name": "stdout",
     "output_type": "stream",
     "text": [
      "((26, 45, 'hello'), (7, 5.6, 'python'))\n"
     ]
    }
   ],
   "source": [
    "#nested\n",
    "value1_tuple=(26,45,'hello')\n",
    "value2_tuple=(7,5.6,'python')\n",
    "value3_tuple=value1_tuple,value2_tuple\n",
    "print(value3_tuple)"
   ]
  },
  {
   "cell_type": "code",
   "execution_count": 23,
   "id": "01f4356c-6a40-474a-8ccd-4bf2328efd31",
   "metadata": {},
   "outputs": [
    {
     "name": "stdout",
     "output_type": "stream",
     "text": [
      "(26, 45, 'hello', 26, 45, 'hello')\n"
     ]
    }
   ],
   "source": [
    "#repetition in tuples\n",
    "value_tuple=(26,45,'hello')*2\n",
    "print(value_tuple)"
   ]
  },
  {
   "cell_type": "code",
   "execution_count": 27,
   "id": "c9a3ffbd-5c66-4698-9948-3881094666df",
   "metadata": {},
   "outputs": [
    {
     "name": "stdout",
     "output_type": "stream",
     "text": [
      "7.5\n"
     ]
    }
   ],
   "source": [
    "#accessing values in tuple\n",
    "value_tuple=(26,45,'hello',7.5)\n",
    "print(value_tuple[3])"
   ]
  },
  {
   "cell_type": "code",
   "execution_count": 33,
   "id": "6abec4f7-8825-4a01-a7f3-f4784dd06beb",
   "metadata": {},
   "outputs": [
    {
     "name": "stdout",
     "output_type": "stream",
     "text": [
      "(26, 45, 'hello', 7.5)\n"
     ]
    }
   ],
   "source": [
    "#slicing in tuples\n",
    "value_tuple=(26,45,'hello',7.5)\n",
    "print(value_tuple[0:])"
   ]
  },
  {
   "cell_type": "code",
   "execution_count": 31,
   "id": "2085f735-7c85-4448-be95-fba45e2337af",
   "metadata": {},
   "outputs": [
    {
     "name": "stdout",
     "output_type": "stream",
     "text": [
      "('hello', 7.5)\n"
     ]
    }
   ],
   "source": [
    "value_tuple=(26,45,'hello',7.5)\n",
    "print(value_tuple[2:])"
   ]
  },
  {
   "cell_type": "code",
   "execution_count": 35,
   "id": "7bdea5da-8c88-4e31-ae95-ba971805d28a",
   "metadata": {},
   "outputs": [
    {
     "name": "stdout",
     "output_type": "stream",
     "text": [
      "(26, 45, 'hello')\n"
     ]
    }
   ],
   "source": [
    "value_tuple=(26,45,'hello',7.5)\n",
    "print(value_tuple[:3])"
   ]
  },
  {
   "cell_type": "code",
   "execution_count": 37,
   "id": "ff78920b-4c1a-4fd0-a0d8-28c42fcab21d",
   "metadata": {},
   "outputs": [
    {
     "name": "stdout",
     "output_type": "stream",
     "text": [
      "(26, 45, 'hello', 7.5, 'z', 5, 6.9)\n"
     ]
    }
   ],
   "source": [
    "value_tuple=(26,45,'hello',7.5,'z',5,6.9)\n",
    "print(value_tuple[:7])"
   ]
  },
  {
   "cell_type": "code",
   "execution_count": 41,
   "id": "644332b1-268a-4ab7-a0bb-da011c35f262",
   "metadata": {},
   "outputs": [
    {
     "name": "stdout",
     "output_type": "stream",
     "text": [
      "(26, 45, 'hello', 7.5)\n"
     ]
    }
   ],
   "source": [
    "value_tuple=(26,45,'hello',7.5,'z',5,6.9)\n",
    "print(value_tuple[:4])"
   ]
  },
  {
   "cell_type": "code",
   "execution_count": 49,
   "id": "329ec356-0d6f-47c3-997b-754bc22af8fa",
   "metadata": {},
   "outputs": [
    {
     "name": "stdout",
     "output_type": "stream",
     "text": [
      "45\n"
     ]
    }
   ],
   "source": [
    "value_tuple=(26,45,'hello',7.5,'z',5,6.9)\n",
    "print(value_tuple[1])"
   ]
  },
  {
   "cell_type": "code",
   "execution_count": 45,
   "id": "b1ac56e8-2899-47e9-ae95-3521e4ecee0b",
   "metadata": {},
   "outputs": [
    {
     "name": "stdout",
     "output_type": "stream",
     "text": [
      "(26, 45, 'hello')\n"
     ]
    }
   ],
   "source": [
    "value_tuple=(26,45,'hello',7.5,'z',5,6.9)\n",
    "print(value_tuple[:-4])"
   ]
  },
  {
   "cell_type": "code",
   "execution_count": 51,
   "id": "5a112d98-54ca-4ccd-ae5e-d3da768c62d2",
   "metadata": {},
   "outputs": [
    {
     "name": "stdout",
     "output_type": "stream",
     "text": [
      "(7.5, 'z', 5, 6.9)\n"
     ]
    }
   ],
   "source": [
    "value_tuple=(26,45,'hello',7.5,'z',5,6.9)\n",
    "print(value_tuple[-4:])"
   ]
  },
  {
   "cell_type": "code",
   "execution_count": 53,
   "id": "2cde76a2-e517-45dc-891e-6ff44a86e293",
   "metadata": {},
   "outputs": [
    {
     "name": "stdout",
     "output_type": "stream",
     "text": [
      "(26, 45, 'hello', 7.5, 'z', 5)\n"
     ]
    }
   ],
   "source": [
    "value_tuple=(26,45,'hello',7.5,'z',5,6.9)\n",
    "print(value_tuple[:-1])"
   ]
  },
  {
   "cell_type": "code",
   "execution_count": 55,
   "id": "1a94faa2-679c-49d8-a9f4-29b062135087",
   "metadata": {},
   "outputs": [
    {
     "name": "stdout",
     "output_type": "stream",
     "text": [
      "(6.9, 5, 'z', 7.5, 'hello', 45, 26)\n"
     ]
    }
   ],
   "source": [
    "value_tuple=(26,45,'hello',7.5,'z',5,6.9)\n",
    "print(value_tuple[::-1])"
   ]
  },
  {
   "cell_type": "code",
   "execution_count": 57,
   "id": "a11474bf-5dca-4c22-9343-b3963a4f0a49",
   "metadata": {},
   "outputs": [
    {
     "name": "stdout",
     "output_type": "stream",
     "text": [
      "(6.9, 'z', 'hello', 26)\n"
     ]
    }
   ],
   "source": [
    "value_tuple=(26,45,'hello',7.5,'z',5,6.9)\n",
    "print(value_tuple[::-2])"
   ]
  },
  {
   "cell_type": "code",
   "execution_count": 59,
   "id": "8204a537-e2d7-40d8-84ac-8656568472c1",
   "metadata": {},
   "outputs": [
    {
     "name": "stdout",
     "output_type": "stream",
     "text": [
      "(6.9, 7.5, 26)\n"
     ]
    }
   ],
   "source": [
    "value_tuple=(26,45,'hello',7.5,'z',5,6.9)\n",
    "print(value_tuple[::-3])"
   ]
  },
  {
   "cell_type": "code",
   "execution_count": 61,
   "id": "f30b5498-e5a5-4e37-8216-c19b80401004",
   "metadata": {},
   "outputs": [
    {
     "name": "stdout",
     "output_type": "stream",
     "text": [
      "('hello', 7.5, 'z', 5, 6.9)\n"
     ]
    }
   ],
   "source": [
    "value_tuple=(26,45,'hello',7.5,'z',5,6.9)\n",
    "print(value_tuple[2::])"
   ]
  },
  {
   "cell_type": "code",
   "execution_count": 65,
   "id": "8eca4540-a1b6-46fb-acb5-684be866cf06",
   "metadata": {},
   "outputs": [
    {
     "name": "stdout",
     "output_type": "stream",
     "text": [
      "(26, 'hello', 'z', 6.9)\n"
     ]
    }
   ],
   "source": [
    "value_tuple=(26,45,'hello',7.5,'z',5,6.9)\n",
    "print(value_tuple[::2])"
   ]
  },
  {
   "cell_type": "code",
   "execution_count": 67,
   "id": "733955f6-6502-4110-ade3-fb5df3dff3a0",
   "metadata": {},
   "outputs": [
    {
     "name": "stdout",
     "output_type": "stream",
     "text": [
      "(45, 'hello', 7.5, 'z', 5, 6.9)\n"
     ]
    }
   ],
   "source": [
    "value_tuple=(26,45,'hello',7.5,'z',5,6.9)\n",
    "print(value_tuple[1::1])"
   ]
  },
  {
   "cell_type": "code",
   "execution_count": 69,
   "id": "e22f3779-dbdd-4dca-be06-fc9cb7bd6640",
   "metadata": {},
   "outputs": [
    {
     "name": "stdout",
     "output_type": "stream",
     "text": [
      "(45, 'z')\n"
     ]
    }
   ],
   "source": [
    "value_tuple=(26,45,'hello',7.5,'z',5,6.9)\n",
    "print(value_tuple[1::3])"
   ]
  },
  {
   "cell_type": "code",
   "execution_count": 71,
   "id": "dcb438ef-3dd7-409b-8994-c7f7b6952f1d",
   "metadata": {},
   "outputs": [
    {
     "name": "stdout",
     "output_type": "stream",
     "text": [
      "(6.9, 'z', 'hello', 26)\n"
     ]
    }
   ],
   "source": [
    "value_tuple=(26,45,'hello',7.5,'z',5,6.9)\n",
    "print(value_tuple[-1::-2])"
   ]
  },
  {
   "cell_type": "code",
   "execution_count": 73,
   "id": "5e4368fe-91ca-4f7c-9db9-bffde155aa53",
   "metadata": {},
   "outputs": [
    {
     "name": "stdout",
     "output_type": "stream",
     "text": [
      "(45, 7.5, 5)\n"
     ]
    }
   ],
   "source": [
    "value_tuple=(26,45,'hello',7.5,'z',5,6.9)\n",
    "print(value_tuple[1:6:2])"
   ]
  },
  {
   "cell_type": "code",
   "execution_count": 75,
   "id": "c05cb66c-f020-4be7-ab4d-78849b7cc1c1",
   "metadata": {},
   "outputs": [
    {
     "name": "stdout",
     "output_type": "stream",
     "text": [
      "(45, 7.5)\n"
     ]
    }
   ],
   "source": [
    "value_tuple=(26,45,'hello',7.5,'z',5,6.9)\n",
    "print(value_tuple[1:5:2])"
   ]
  },
  {
   "cell_type": "code",
   "execution_count": 79,
   "id": "9cf1895a-dd5c-473c-ac96-0376a378dd25",
   "metadata": {},
   "outputs": [
    {
     "name": "stdout",
     "output_type": "stream",
     "text": [
      "(45,)\n"
     ]
    }
   ],
   "source": [
    "value_tuple=(26,45,'hello',7.5,'z',5,6.9)\n",
    "print(value_tuple[1:4:3])"
   ]
  },
  {
   "cell_type": "code",
   "execution_count": 81,
   "id": "066f6949-a3ef-498f-9bff-8e8212f2c025",
   "metadata": {},
   "outputs": [
    {
     "ename": "NameError",
     "evalue": "name 'value_tuple' is not defined",
     "output_type": "error",
     "traceback": [
      "\u001b[1;31m---------------------------------------------------------------------------\u001b[0m",
      "\u001b[1;31mNameError\u001b[0m                                 Traceback (most recent call last)",
      "Cell \u001b[1;32mIn[81], line 4\u001b[0m\n\u001b[0;32m      2\u001b[0m value_tuple\u001b[38;5;241m=\u001b[39m(\u001b[38;5;241m26\u001b[39m,\u001b[38;5;241m45\u001b[39m,\u001b[38;5;124m'\u001b[39m\u001b[38;5;124mhello\u001b[39m\u001b[38;5;124m'\u001b[39m,\u001b[38;5;241m7.5\u001b[39m,\u001b[38;5;124m'\u001b[39m\u001b[38;5;124mz\u001b[39m\u001b[38;5;124m'\u001b[39m,\u001b[38;5;241m5\u001b[39m,\u001b[38;5;241m6.9\u001b[39m)\n\u001b[0;32m      3\u001b[0m \u001b[38;5;28;01mdel\u001b[39;00m(value_tuple)\n\u001b[1;32m----> 4\u001b[0m \u001b[38;5;28mprint\u001b[39m(value_tuple)\n",
      "\u001b[1;31mNameError\u001b[0m: name 'value_tuple' is not defined"
     ]
    }
   ],
   "source": [
    "#deleting\n",
    "value_tuple=(26,45,'hello',7.5,'z',5,6.9)\n",
    "del(value_tuple)\n",
    "print(value_tuple)"
   ]
  },
  {
   "cell_type": "code",
   "execution_count": 89,
   "id": "07213c1b-d21f-424f-a782-7f262dc27c43",
   "metadata": {},
   "outputs": [
    {
     "name": "stdout",
     "output_type": "stream",
     "text": [
      "(26, 45, 'hello', 7.5, 'z', 5, 6.9)\n"
     ]
    }
   ],
   "source": [
    "value_tuple=(26,45,'hello',7.5,'z',5,6.9)\n",
    "print(value_tuple)"
   ]
  },
  {
   "cell_type": "code",
   "execution_count": 93,
   "id": "89c2e62e-16bf-4493-a595-f1681048e2b5",
   "metadata": {},
   "outputs": [
    {
     "ename": "NameError",
     "evalue": "name 'value_tuple' is not defined",
     "output_type": "error",
     "traceback": [
      "\u001b[1;31m---------------------------------------------------------------------------\u001b[0m",
      "\u001b[1;31mNameError\u001b[0m                                 Traceback (most recent call last)",
      "Cell \u001b[1;32mIn[93], line 1\u001b[0m\n\u001b[1;32m----> 1\u001b[0m \u001b[38;5;28;01mdel\u001b[39;00m(value_tuple)\n",
      "\u001b[1;31mNameError\u001b[0m: name 'value_tuple' is not defined"
     ]
    }
   ],
   "source": [
    "del(value_tuple)"
   ]
  },
  {
   "cell_type": "code",
   "execution_count": 1,
   "id": "9129f538-fbdd-4212-a2c4-4ae2bb358834",
   "metadata": {},
   "outputs": [],
   "source": [
    "#05-11-2024"
   ]
  },
  {
   "cell_type": "code",
   "execution_count": 3,
   "id": "f59b8944-14d4-4384-bf7e-a9f8f94692da",
   "metadata": {},
   "outputs": [
    {
     "name": "stdout",
     "output_type": "stream",
     "text": [
      "('hello',)\n",
      "(('hello',),)\n",
      "((('hello',),),)\n"
     ]
    }
   ],
   "source": [
    "#looping\n",
    "tuple=('hello')\n",
    "n=3\n",
    "for i in range(int(n)):\n",
    "    tuple=(tuple,)\n",
    "    print(tuple)"
   ]
  },
  {
   "cell_type": "code",
   "execution_count": 15,
   "id": "92d69596-619d-49fe-bb06-fa4542a85c11",
   "metadata": {},
   "outputs": [
    {
     "name": "stdout",
     "output_type": "stream",
     "text": [
      "('hello world',)\n",
      "(('hello world',),)\n",
      "((('hello world',),),)\n"
     ]
    }
   ],
   "source": [
    "tuple=('hello world')\n",
    "n=3\n",
    "for i in range(int(n)):\n",
    "    tuple=(tuple,)\n",
    "    print(tuple)"
   ]
  },
  {
   "cell_type": "code",
   "execution_count": 17,
   "id": "db8ddca4-1292-4502-ab96-f78182789d08",
   "metadata": {},
   "outputs": [
    {
     "name": "stdout",
     "output_type": "stream",
     "text": [
      "5\n"
     ]
    }
   ],
   "source": [
    "#built in functions\n",
    "tuple=('developer',5,8.9,'r',8)\n",
    "print(len(tuple))"
   ]
  },
  {
   "cell_type": "code",
   "execution_count": 1,
   "id": "07bbe8e2-0146-496c-b1e8-91e98b67d76d",
   "metadata": {},
   "outputs": [
    {
     "name": "stdout",
     "output_type": "stream",
     "text": [
      "89\n"
     ]
    }
   ],
   "source": [
    "tuple=(9,5,89,4,8)\n",
    "print(max(tuple))"
   ]
  },
  {
   "cell_type": "code",
   "execution_count": 3,
   "id": "a6c86d2d-1512-4fae-a9a5-944c2637d1b1",
   "metadata": {},
   "outputs": [
    {
     "name": "stdout",
     "output_type": "stream",
     "text": [
      "4\n"
     ]
    }
   ],
   "source": [
    "tuple=(9,5,89,4,8)\n",
    "print(min(tuple))"
   ]
  },
  {
   "cell_type": "code",
   "execution_count": 5,
   "id": "5179e996-b2e8-4d55-9aaf-d4486a99b05b",
   "metadata": {},
   "outputs": [
    {
     "name": "stdout",
     "output_type": "stream",
     "text": [
      "115\n"
     ]
    }
   ],
   "source": [
    "tuple=(9,5,89,4,8)\n",
    "print(sum(tuple))"
   ]
  },
  {
   "cell_type": "code",
   "execution_count": 7,
   "id": "12897aca-5a95-43f5-a998-c04968ff0975",
   "metadata": {},
   "outputs": [
    {
     "name": "stdout",
     "output_type": "stream",
     "text": [
      "[4, 5, 8, 9, 89]\n"
     ]
    }
   ],
   "source": [
    "tuple=(9,5,89,4,8)\n",
    "print(sorted(tuple))"
   ]
  },
  {
   "cell_type": "code",
   "execution_count": 9,
   "id": "60afc9aa-d95a-409d-a0c7-5c8206358a73",
   "metadata": {},
   "outputs": [
    {
     "name": "stdout",
     "output_type": "stream",
     "text": [
      "True\n"
     ]
    }
   ],
   "source": [
    "tuple=(0,1)\n",
    "print(any(tuple))"
   ]
  },
  {
   "cell_type": "code",
   "execution_count": 11,
   "id": "99ae22a5-0b81-4844-b216-4807984be4e7",
   "metadata": {},
   "outputs": [
    {
     "name": "stdout",
     "output_type": "stream",
     "text": [
      "False\n"
     ]
    }
   ],
   "source": [
    "tuple=(0,)\n",
    "print(any(tuple))"
   ]
  },
  {
   "cell_type": "code",
   "execution_count": 19,
   "id": "2ba6998e-d958-4739-acf2-1124052b9605",
   "metadata": {},
   "outputs": [
    {
     "name": "stdout",
     "output_type": "stream",
     "text": [
      "False\n"
     ]
    }
   ],
   "source": [
    "tuple=()\n",
    "print(any(tuple))"
   ]
  },
  {
   "cell_type": "code",
   "execution_count": 13,
   "id": "78712c38-cd64-4bfb-b832-8a5fec3538a8",
   "metadata": {},
   "outputs": [
    {
     "name": "stdout",
     "output_type": "stream",
     "text": [
      "True\n"
     ]
    }
   ],
   "source": [
    "tuple=(4,1)\n",
    "print(all(tuple))"
   ]
  },
  {
   "cell_type": "code",
   "execution_count": 15,
   "id": "9740dda2-07f9-49e7-a8b4-9cd7f5f19164",
   "metadata": {},
   "outputs": [
    {
     "name": "stdout",
     "output_type": "stream",
     "text": [
      "False\n"
     ]
    }
   ],
   "source": [
    "tuple=(0,5,7)\n",
    "print(all(tuple))"
   ]
  },
  {
   "cell_type": "code",
   "execution_count": 17,
   "id": "91f66470-22b3-4620-b3ce-38c9b36b1d07",
   "metadata": {},
   "outputs": [
    {
     "name": "stdout",
     "output_type": "stream",
     "text": [
      "True\n"
     ]
    }
   ],
   "source": [
    "tuple=()\n",
    "print(all(tuple))"
   ]
  },
  {
   "cell_type": "code",
   "execution_count": 21,
   "id": "f726b8a7-0bc0-4543-8438-2ec0edd52175",
   "metadata": {},
   "outputs": [
    {
     "name": "stdout",
     "output_type": "stream",
     "text": [
      "apple\n",
      "bytes\n",
      "computer\n"
     ]
    }
   ],
   "source": [
    "#predict the output\n",
    "tuple=(\"apple\",\"bytes\",\"computer\")\n",
    "for i in tuple:\n",
    "    print(i)"
   ]
  },
  {
   "cell_type": "code",
   "execution_count": 31,
   "id": "4106a8f1-49c6-44de-9491-93aa5c0577ab",
   "metadata": {},
   "outputs": [
    {
     "name": "stdout",
     "output_type": "stream",
     "text": [
      "apple\n",
      "bytes\n",
      "computer\n"
     ]
    }
   ],
   "source": [
    "tuple=(\"apple\",\"bytes\",\"computer\")\n",
    "n=2\n",
    "for i in tuple:\n",
    "    print(i)"
   ]
  },
  {
   "cell_type": "code",
   "execution_count": 25,
   "id": "10f66790-e87c-43f4-85c1-d297d08aaaa2",
   "metadata": {},
   "outputs": [
    {
     "name": "stdout",
     "output_type": "stream",
     "text": [
      "apple\n"
     ]
    }
   ],
   "source": [
    "tuple=(\"apple\",\"bytes\",\"computer\")\n",
    "n=2\n",
    "for i in tuple:\n",
    "    print(i)\n",
    "    break"
   ]
  },
  {
   "cell_type": "code",
   "execution_count": 39,
   "id": "e3a1adc2-b489-4bf2-babb-b182016cef14",
   "metadata": {},
   "outputs": [
    {
     "name": "stdout",
     "output_type": "stream",
     "text": [
      "['apple', 'bytes', 'computer']\n"
     ]
    }
   ],
   "source": [
    "tuple=(\"apple\",\"bytes\",\"computer\")\n",
    "print(list(tuple))\n"
   ]
  },
  {
   "cell_type": "code",
   "execution_count": 33,
   "id": "52a42d7f-e7d7-41e1-88ac-b5c628374364",
   "metadata": {},
   "outputs": [
    {
     "name": "stdout",
     "output_type": "stream",
     "text": [
      "2\n"
     ]
    }
   ],
   "source": [
    "tuple=(3,7,'p','y','z',9.5,'y')\n",
    "print(tuple.count('y'))"
   ]
  },
  {
   "cell_type": "code",
   "execution_count": 41,
   "id": "915c5cca-097d-42c2-83bb-045ac1a8b1cb",
   "metadata": {},
   "outputs": [
    {
     "name": "stdout",
     "output_type": "stream",
     "text": [
      "1\n"
     ]
    }
   ],
   "source": [
    "tuple=(3,7,'p','y','z',9.5,'y')\n",
    "print(tuple.count(7))"
   ]
  },
  {
   "cell_type": "code",
   "execution_count": 37,
   "id": "1e3ae89a-4d91-4dc6-a0bf-3b94be25925b",
   "metadata": {},
   "outputs": [
    {
     "name": "stdout",
     "output_type": "stream",
     "text": [
      "0\n"
     ]
    }
   ],
   "source": [
    "tuple=(3,7,'p','y','z',9.5,'y')\n",
    "print(tuple.count(9))"
   ]
  },
  {
   "cell_type": "code",
   "execution_count": 43,
   "id": "eaa0243c-773f-45b1-b579-ddf483486d55",
   "metadata": {},
   "outputs": [
    {
     "name": "stdout",
     "output_type": "stream",
     "text": [
      "3\n"
     ]
    }
   ],
   "source": [
    "tuple=(3,7,'p','y','z',9.5,'y')\n",
    "print(tuple.index('y'))"
   ]
  },
  {
   "cell_type": "code",
   "execution_count": 47,
   "id": "d816a7b6-2893-48c6-8d4a-be42c5bfc49f",
   "metadata": {},
   "outputs": [
    {
     "name": "stdout",
     "output_type": "stream",
     "text": [
      "1\n"
     ]
    }
   ],
   "source": [
    "tuple=(3,7,'p','y','z',9.5,'y')\n",
    "print(tuple.index(7))"
   ]
  },
  {
   "cell_type": "code",
   "execution_count": 5,
   "id": "5054803a-cb07-4080-a2a5-6d1aa0f4dcb2",
   "metadata": {},
   "outputs": [
    {
     "name": "stdout",
     "output_type": "stream",
     "text": [
      "5\n"
     ]
    }
   ],
   "source": [
    "#built in function\n",
    "tuple=('developer',3,56,'kite',5.78)\n",
    "print(len(tuple))"
   ]
  },
  {
   "cell_type": "code",
   "execution_count": 3,
   "id": "d06c4901-0221-4709-af2f-1e695530ce7a",
   "metadata": {},
   "outputs": [
    {
     "name": "stdout",
     "output_type": "stream",
     "text": [
      "89\n"
     ]
    }
   ],
   "source": [
    "tuple=(9,5,89,4,8)\n",
    "print(max(tuple))"
   ]
  },
  {
   "cell_type": "code",
   "execution_count": null,
   "id": "de238bd1-ae51-43b0-92f7-aa3631c0ee15",
   "metadata": {},
   "outputs": [],
   "source": []
  },
  {
   "cell_type": "code",
   "execution_count": null,
   "id": "91f0a57a-93a7-41e3-9012-be561bf6e0bb",
   "metadata": {},
   "outputs": [],
   "source": []
  }
 ],
 "metadata": {
  "kernelspec": {
   "display_name": "Python 3 (ipykernel)",
   "language": "python",
   "name": "python3"
  },
  "language_info": {
   "codemirror_mode": {
    "name": "ipython",
    "version": 3
   },
   "file_extension": ".py",
   "mimetype": "text/x-python",
   "name": "python",
   "nbconvert_exporter": "python",
   "pygments_lexer": "ipython3",
   "version": "3.12.4"
  }
 },
 "nbformat": 4,
 "nbformat_minor": 5
}
