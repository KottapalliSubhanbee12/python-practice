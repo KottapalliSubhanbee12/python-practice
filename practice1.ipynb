{
 "cells": [
  {
   "cell_type": "code",
   "execution_count": 10,
   "id": "637942a7-6a3e-4186-9543-4cd3181dd02e",
   "metadata": {},
   "outputs": [
    {
     "name": "stdout",
     "output_type": "stream",
     "text": [
      "7\n"
     ]
    }
   ],
   "source": [
    "#write a program to find the maximum number in a list.\n",
    "list=[1,7,2,5,-1]\n",
    "print(max(list))"
   ]
  },
  {
   "cell_type": "code",
   "execution_count": 20,
   "id": "77363408-2dda-4b41-903f-d6597c4c828b",
   "metadata": {},
   "outputs": [
    {
     "name": "stdout",
     "output_type": "stream",
     "text": [
      "7\n"
     ]
    }
   ],
   "source": [
    "def max(list):\n",
    "    max=list[0]\n",
    "    for num in list:\n",
    "        if num>max:\n",
    "            max=num\n",
    "    return max\n",
    "list=[2,7,5,1,-1]\n",
    "print(max(list))"
   ]
  },
  {
   "cell_type": "code",
   "execution_count": 36,
   "id": "24de43e3-b21f-49e6-bdc4-23469701cc86",
   "metadata": {},
   "outputs": [
    {
     "name": "stdout",
     "output_type": "stream",
     "text": [
      "60\n"
     ]
    }
   ],
   "source": [
    "#write a program to find  the sum of element in a list.\n",
    "list=[10,20,30]\n",
    "print(sum(list))"
   ]
  },
  {
   "cell_type": "code",
   "execution_count": 38,
   "id": "94035355-5e75-4140-8ef8-537846e87942",
   "metadata": {},
   "outputs": [
    {
     "name": "stdout",
     "output_type": "stream",
     "text": [
      "60\n"
     ]
    }
   ],
   "source": [
    "def sum(list):\n",
    "    total=0\n",
    "    for num in list:\n",
    "        total+=num\n",
    "    return total\n",
    "list=[10,20,30]\n",
    "print(sum(list))"
   ]
  },
  {
   "cell_type": "code",
   "execution_count": 12,
   "id": "f61e583b-b4ab-4257-abdd-f860a82ab460",
   "metadata": {},
   "outputs": [
    {
     "data": {
      "text/plain": [
       "['hi,how', 'are', 'you']"
      ]
     },
     "execution_count": 12,
     "metadata": {},
     "output_type": "execute_result"
    }
   ],
   "source": [
    "x=\"hi,how are you\"\n",
    "x.split()"
   ]
  },
  {
   "cell_type": "code",
   "execution_count": 32,
   "id": "a3b44b0d-6764-4686-8653-b9cefcf4a3e4",
   "metadata": {},
   "outputs": [
    {
     "name": "stdin",
     "output_type": "stream",
     "text": [
      " 3\n",
      " 33\n"
     ]
    },
    {
     "data": {
      "text/plain": [
       "<map at 0x243183410f0>"
      ]
     },
     "execution_count": 32,
     "metadata": {},
     "output_type": "execute_result"
    }
   ],
   "source": [
    "list=int(input())\n",
    "map(int,input().split())"
   ]
  },
  {
   "cell_type": "code",
   "execution_count": 48,
   "id": "10f84874-ecb6-4841-b4dc-3c63def64149",
   "metadata": {},
   "outputs": [
    {
     "ename": "NameError",
     "evalue": "name 'count_distinct_element' is not defined",
     "output_type": "error",
     "traceback": [
      "\u001b[1;31m---------------------------------------------------------------------------\u001b[0m",
      "\u001b[1;31mNameError\u001b[0m                                 Traceback (most recent call last)",
      "Cell \u001b[1;32mIn[48], line 4\u001b[0m\n\u001b[0;32m      2\u001b[0m n\u001b[38;5;241m=\u001b[39m\u001b[38;5;241m5\u001b[39m\n\u001b[0;32m      3\u001b[0m \u001b[38;5;28mlist\u001b[39m\u001b[38;5;241m=\u001b[39m[\u001b[38;5;241m3\u001b[39m,\u001b[38;5;241m2\u001b[39m,\u001b[38;5;241m3\u001b[39m,\u001b[38;5;241m780\u001b[39m,\u001b[38;5;241m90\u001b[39m]\n\u001b[1;32m----> 4\u001b[0m result\u001b[38;5;241m=\u001b[39mcount_distinct_element(\u001b[38;5;28mlist\u001b[39m)\n\u001b[0;32m      5\u001b[0m \u001b[38;5;28mprint\u001b[39m(result)\n",
      "\u001b[1;31mNameError\u001b[0m: name 'count_distinct_element' is not defined"
     ]
    }
   ],
   "source": [
    "#write a program to find the number of distinct elements in a list\n",
    "n=5\n",
    "list=[3,2,3,780,90]\n",
    "result=count_distinct_element(list)\n",
    "print(result)"
   ]
  },
  {
   "cell_type": "code",
   "execution_count": 54,
   "id": "56786b43-cc6b-47b1-8855-e978ce083b1c",
   "metadata": {},
   "outputs": [
    {
     "name": "stdout",
     "output_type": "stream",
     "text": [
      "Number of distinct elements: 5\n"
     ]
    }
   ],
   "source": [
    "def count_distinct_elements(lst):\n",
    "    distinct_elements = set(lst)\n",
    "    return len(distinct_elements)\n",
    "my_list = [1, 2, 3, 4, 4, 5, 1, 3]\n",
    "result = count_distinct_elements(my_list)\n",
    "print(\"Number of distinct elements:\", result)"
   ]
  },
  {
   "cell_type": "code",
   "execution_count": null,
   "id": "64e8099a-e367-4c7a-9316-c48af727d752",
   "metadata": {},
   "outputs": [],
   "source": []
  },
  {
   "cell_type": "code",
   "execution_count": null,
   "id": "8be78e5e-a4ab-44a9-8f49-4ec62fb090a7",
   "metadata": {},
   "outputs": [],
   "source": []
  }
 ],
 "metadata": {
  "kernelspec": {
   "display_name": "Python 3 (ipykernel)",
   "language": "python",
   "name": "python3"
  },
  "language_info": {
   "codemirror_mode": {
    "name": "ipython",
    "version": 3
   },
   "file_extension": ".py",
   "mimetype": "text/x-python",
   "name": "python",
   "nbconvert_exporter": "python",
   "pygments_lexer": "ipython3",
   "version": "3.12.4"
  }
 },
 "nbformat": 4,
 "nbformat_minor": 5
}
