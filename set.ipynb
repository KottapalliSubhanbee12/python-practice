{
 "cells": [
  {
   "cell_type": "code",
   "execution_count": 1,
   "id": "166ea58c-8c97-436e-9dc6-34c89c492aee",
   "metadata": {},
   "outputs": [],
   "source": [
    "#sets\n",
    "#unordered and unindexed collection of element\n",
    "#mutable\n",
    "#allow duplicates"
   ]
  },
  {
   "cell_type": "code",
   "execution_count": 5,
   "id": "1fa8301c-9690-4ba9-8bef-d8129eabc07d",
   "metadata": {},
   "outputs": [
    {
     "name": "stdout",
     "output_type": "stream",
     "text": [
      "2\n",
      "5\n",
      "9.4\n",
      "python\n",
      "a\n"
     ]
    }
   ],
   "source": [
    "value={2,'python','a',5,9.4}\n",
    "for i in value:\n",
    "    print(i)"
   ]
  },
  {
   "cell_type": "code",
   "execution_count": 7,
   "id": "204887c0-df20-4ad6-bd6a-a8c74bb590bc",
   "metadata": {},
   "outputs": [
    {
     "name": "stdout",
     "output_type": "stream",
     "text": [
      "False\n"
     ]
    }
   ],
   "source": [
    "value={2,'python','a',5,9.4}\n",
    "print(7 in value)"
   ]
  },
  {
   "cell_type": "code",
   "execution_count": 9,
   "id": "17760870-14b6-4fc2-8f09-1b5777e23b83",
   "metadata": {},
   "outputs": [
    {
     "name": "stdout",
     "output_type": "stream",
     "text": [
      "True\n"
     ]
    }
   ],
   "source": [
    "value={2,'python','a',5,9.4}\n",
    "print(5 in value)"
   ]
  },
  {
   "cell_type": "code",
   "execution_count": 13,
   "id": "e33c4f82-efbf-409f-b63d-631b02242872",
   "metadata": {},
   "outputs": [
    {
     "data": {
      "text/plain": [
       "{2, 5, 9.4, 'a', 'apple', 'python'}"
      ]
     },
     "execution_count": 13,
     "metadata": {},
     "output_type": "execute_result"
    }
   ],
   "source": [
    "#add element\n",
    "value={2,'python','a',5,9.4}\n",
    "value.add(\"apple\")\n",
    "value"
   ]
  },
  {
   "cell_type": "code",
   "execution_count": 15,
   "id": "bc9f7983-bc2b-474a-a946-2a8449d6084d",
   "metadata": {},
   "outputs": [
    {
     "name": "stdout",
     "output_type": "stream",
     "text": [
      "5\n"
     ]
    }
   ],
   "source": [
    "#get the length of a set\n",
    "value={2,'python','a',5,9.4}\n",
    "print(len(value))"
   ]
  },
  {
   "cell_type": "code",
   "execution_count": 17,
   "id": "e72cfd5c-8736-495e-a54e-2a5e57acfa04",
   "metadata": {},
   "outputs": [
    {
     "name": "stdout",
     "output_type": "stream",
     "text": [
      "{2, 5, 9.4, 'a'}\n"
     ]
    }
   ],
   "source": [
    "#remove element\n",
    "value={2,'python','a',5,9.4}\n",
    "value.remove(\"python\")\n",
    "print(value)"
   ]
  },
  {
   "cell_type": "code",
   "execution_count": 19,
   "id": "c934729f-7d8f-4c53-a232-0e65677dbb04",
   "metadata": {},
   "outputs": [
    {
     "name": "stdout",
     "output_type": "stream",
     "text": [
      "{2, 5, 9.4, 'a'}\n"
     ]
    }
   ],
   "source": [
    "value={2,'python','a',5,9.4}\n",
    "value.discard(\"python\")\n",
    "print(value)"
   ]
  },
  {
   "cell_type": "code",
   "execution_count": null,
   "id": "51a9ad7f-ba74-4018-a3bb-5c90e4d1bae5",
   "metadata": {},
   "outputs": [],
   "source": [
    "20-11-2024(sets)"
   ]
  },
  {
   "cell_type": "code",
   "execution_count": 1,
   "id": "5ca84032-9299-433c-ad39-7a8bc9d56427",
   "metadata": {},
   "outputs": [
    {
     "data": {
      "text/plain": [
       "{5.6, 6, 'python'}"
      ]
     },
     "execution_count": 1,
     "metadata": {},
     "output_type": "execute_result"
    }
   ],
   "source": [
    "values={6,\"python\",5.6}\n",
    "values"
   ]
  },
  {
   "cell_type": "code",
   "execution_count": 3,
   "id": "9b13311d-7d80-4564-9d17-288ca4243213",
   "metadata": {},
   "outputs": [
    {
     "data": {
      "text/plain": [
       "set"
      ]
     },
     "execution_count": 3,
     "metadata": {},
     "output_type": "execute_result"
    }
   ],
   "source": [
    "type(values)"
   ]
  },
  {
   "cell_type": "code",
   "execution_count": 9,
   "id": "cc8bf865-9127-4dbf-bda9-96c77f9dab4e",
   "metadata": {},
   "outputs": [
    {
     "data": {
      "text/plain": [
       "dict"
      ]
     },
     "execution_count": 9,
     "metadata": {},
     "output_type": "execute_result"
    }
   ],
   "source": [
    "value={}\n",
    "type(value)"
   ]
  },
  {
   "cell_type": "code",
   "execution_count": 11,
   "id": "20fb1952-d241-4d0e-8b1f-d823593713c8",
   "metadata": {},
   "outputs": [
    {
     "data": {
      "text/plain": [
       "set"
      ]
     },
     "execution_count": 11,
     "metadata": {},
     "output_type": "execute_result"
    }
   ],
   "source": [
    "values=set()\n",
    "type(values)"
   ]
  },
  {
   "cell_type": "code",
   "execution_count": 17,
   "id": "ca5913da-b684-40f1-b604-49ddcb12e235",
   "metadata": {},
   "outputs": [
    {
     "data": {
      "text/plain": [
       "{1, 2, 3, 4, 5, 12, 45}"
      ]
     },
     "execution_count": 17,
     "metadata": {},
     "output_type": "execute_result"
    }
   ],
   "source": [
    "values={12,1,2,3,2,45,4,5,3}\n",
    "values"
   ]
  },
  {
   "cell_type": "code",
   "execution_count": 19,
   "id": "ce69222f-6511-4209-8477-bbf75ded3725",
   "metadata": {},
   "outputs": [
    {
     "name": "stdout",
     "output_type": "stream",
     "text": [
      "set()\n"
     ]
    }
   ],
   "source": [
    "#creating a set\n",
    "set1=set()\n",
    "print(set1)"
   ]
  },
  {
   "cell_type": "code",
   "execution_count": 27,
   "id": "7acf3f53-611a-4b53-8f73-70fbee654a6f",
   "metadata": {},
   "outputs": [
    {
     "data": {
      "text/plain": [
       "{2, 5, 9.4, 'Python', 'a'}"
      ]
     },
     "execution_count": 27,
     "metadata": {},
     "output_type": "execute_result"
    }
   ],
   "source": [
    "value_set = {2,'Python','a',5,9.4}\n",
    "value_set"
   ]
  },
  {
   "cell_type": "code",
   "execution_count": 29,
   "id": "fe56056f-aee4-4aa8-8f90-aa7014bc0a3b",
   "metadata": {},
   "outputs": [
    {
     "ename": "TypeError",
     "evalue": "'set' object is not subscriptable",
     "output_type": "error",
     "traceback": [
      "\u001b[1;31m---------------------------------------------------------------------------\u001b[0m",
      "\u001b[1;31mTypeError\u001b[0m                                 Traceback (most recent call last)",
      "Cell \u001b[1;32mIn[29], line 1\u001b[0m\n\u001b[1;32m----> 1\u001b[0m value_set[\u001b[38;5;241m0\u001b[39m]\n",
      "\u001b[1;31mTypeError\u001b[0m: 'set' object is not subscriptable"
     ]
    }
   ],
   "source": [
    "value_set[0]"
   ]
  },
  {
   "cell_type": "code",
   "execution_count": 31,
   "id": "d4e1ae1e-7e0e-40ba-967e-4064b3f37efd",
   "metadata": {},
   "outputs": [
    {
     "ename": "AttributeError",
     "evalue": "'set' object has no attribute 'append'",
     "output_type": "error",
     "traceback": [
      "\u001b[1;31m---------------------------------------------------------------------------\u001b[0m",
      "\u001b[1;31mAttributeError\u001b[0m                            Traceback (most recent call last)",
      "Cell \u001b[1;32mIn[31], line 1\u001b[0m\n\u001b[1;32m----> 1\u001b[0m value_set\u001b[38;5;241m.\u001b[39mappend(\u001b[38;5;124m\"\u001b[39m\u001b[38;5;124mhello\u001b[39m\u001b[38;5;124m\"\u001b[39m)\n\u001b[0;32m      2\u001b[0m value_set\n",
      "\u001b[1;31mAttributeError\u001b[0m: 'set' object has no attribute 'append'"
     ]
    }
   ],
   "source": [
    "value_set.append(\"hello\")\n",
    "value_set"
   ]
  },
  {
   "cell_type": "code",
   "execution_count": 35,
   "id": "cb71cdca-3dbe-4bf1-bb8e-8ede0fafc51f",
   "metadata": {},
   "outputs": [
    {
     "data": {
      "text/plain": [
       "{2, 5, 9.4, 'Python', 'a', 'apple'}"
      ]
     },
     "execution_count": 35,
     "metadata": {},
     "output_type": "execute_result"
    }
   ],
   "source": [
    "value_set.add(\"apple\")\n",
    "value_set"
   ]
  },
  {
   "cell_type": "code",
   "execution_count": 47,
   "id": "64f4cf1d-2f32-41c3-a35a-57396d201499",
   "metadata": {},
   "outputs": [
    {
     "data": {
      "text/plain": [
       "{2, 5, 9.4, 'Python', 'a'}"
      ]
     },
     "execution_count": 47,
     "metadata": {},
     "output_type": "execute_result"
    }
   ],
   "source": [
    "#deleting a element in set\n",
    "value_set={2,'Python',\"a\",5,9.4}\n",
    "value_set"
   ]
  },
  {
   "cell_type": "code",
   "execution_count": 49,
   "id": "a84a7add-55f7-4fdf-8473-ec46b824536c",
   "metadata": {},
   "outputs": [
    {
     "data": {
      "text/plain": [
       "{2, 5, 9.4, 'a'}"
      ]
     },
     "execution_count": 49,
     "metadata": {},
     "output_type": "execute_result"
    }
   ],
   "source": [
    "value_set.remove('Python')\n",
    "value_set"
   ]
  },
  {
   "cell_type": "code",
   "execution_count": 59,
   "id": "a6ca9198-1bf4-4e5b-8df1-f194db9ab2ba",
   "metadata": {},
   "outputs": [
    {
     "ename": "TypeError",
     "evalue": "set.remove() takes exactly one argument (2 given)",
     "output_type": "error",
     "traceback": [
      "\u001b[1;31m---------------------------------------------------------------------------\u001b[0m",
      "\u001b[1;31mTypeError\u001b[0m                                 Traceback (most recent call last)",
      "Cell \u001b[1;32mIn[59], line 1\u001b[0m\n\u001b[1;32m----> 1\u001b[0m value_set\u001b[38;5;241m.\u001b[39mremove(\u001b[38;5;241m9.4\u001b[39m,\u001b[38;5;241m5\u001b[39m)\n\u001b[0;32m      2\u001b[0m value_set\n",
      "\u001b[1;31mTypeError\u001b[0m: set.remove() takes exactly one argument (2 given)"
     ]
    }
   ],
   "source": [
    "value_set.remove(9.4,5)\n",
    "value_set"
   ]
  },
  {
   "cell_type": "code",
   "execution_count": 55,
   "id": "17b3be6d-fc25-480b-ac0e-5470b79874ee",
   "metadata": {},
   "outputs": [
    {
     "data": {
      "text/plain": [
       "{2, 5, 'a'}"
      ]
     },
     "execution_count": 55,
     "metadata": {},
     "output_type": "execute_result"
    }
   ],
   "source": [
    "value_set.discard(9.4)\n",
    "value_set"
   ]
  },
  {
   "cell_type": "code",
   "execution_count": 57,
   "id": "e22c83fb-a555-4827-b442-04a2ee8ffd22",
   "metadata": {},
   "outputs": [
    {
     "data": {
      "text/plain": [
       "{2, 5, 'a'}"
      ]
     },
     "execution_count": 57,
     "metadata": {},
     "output_type": "execute_result"
    }
   ],
   "source": [
    "value_set.discard(10)\n",
    "value_set"
   ]
  },
  {
   "cell_type": "code",
   "execution_count": 61,
   "id": "3f973491-220c-49c4-baf5-0116ef04653c",
   "metadata": {},
   "outputs": [
    {
     "data": {
      "text/plain": [
       "set()"
      ]
     },
     "execution_count": 61,
     "metadata": {},
     "output_type": "execute_result"
    }
   ],
   "source": [
    "value_set.clear()\n",
    "value_set"
   ]
  },
  {
   "cell_type": "code",
   "execution_count": null,
   "id": "e94bfe62-78c6-4836-8feb-4a6bdf7e425d",
   "metadata": {},
   "outputs": [],
   "source": [
    "21-11-2024"
   ]
  },
  {
   "cell_type": "code",
   "execution_count": 1,
   "id": "0eae03fa-c6ac-4cf3-b700-b3d1ec49a555",
   "metadata": {},
   "outputs": [
    {
     "name": "stdin",
     "output_type": "stream",
     "text": [
      " 4\n",
      " 12\n",
      " 26\n",
      " 20\n",
      " 6\n"
     ]
    }
   ],
   "source": [
    "#WAP code to get the set element from the user an print the elements in the created set\n",
    "value=set()\n",
    "n=int(input())\n",
    "for i in range(n):\n",
    "    value.add(int(input()))"
   ]
  },
  {
   "cell_type": "code",
   "execution_count": 3,
   "id": "8a1862b4-074d-4e36-b705-31d539d0fbf1",
   "metadata": {},
   "outputs": [
    {
     "data": {
      "text/plain": [
       "{6, 12, 20, 26}"
      ]
     },
     "execution_count": 3,
     "metadata": {},
     "output_type": "execute_result"
    }
   ],
   "source": [
    "value"
   ]
  },
  {
   "cell_type": "code",
   "execution_count": 5,
   "id": "59e44f74-8b63-487f-8441-a84b9cc9e623",
   "metadata": {},
   "outputs": [
    {
     "name": "stdout",
     "output_type": "stream",
     "text": [
      "26\n",
      "12\n",
      "20\n",
      "6\n"
     ]
    }
   ],
   "source": [
    "for i in value:\n",
    "    print(i)"
   ]
  },
  {
   "cell_type": "code",
   "execution_count": 19,
   "id": "027dff49-c3c3-41b2-8239-ec882fd23bd7",
   "metadata": {},
   "outputs": [
    {
     "name": "stdin",
     "output_type": "stream",
     "text": [
      " 5\n"
     ]
    },
    {
     "name": "stdout",
     "output_type": "stream",
     "text": [
      "false\n"
     ]
    }
   ],
   "source": [
    "#WAP code to check whether the element got from the user is present in the value\n",
    "n=int(input())\n",
    "value={6,12,26,10}\n",
    "if n in value:\n",
    "    print(\"true\")\n",
    "else:\n",
    "    print(\"false\")"
   ]
  },
  {
   "cell_type": "code",
   "execution_count": 21,
   "id": "dac6da43-c145-41f3-9ac0-cccf8ed9435c",
   "metadata": {},
   "outputs": [
    {
     "name": "stdin",
     "output_type": "stream",
     "text": [
      " 12\n"
     ]
    },
    {
     "name": "stdout",
     "output_type": "stream",
     "text": [
      "true\n"
     ]
    }
   ],
   "source": [
    "n=int(input())\n",
    "value={6,12,26,10}\n",
    "if n in value:\n",
    "    print(\"true\")\n",
    "else:\n",
    "    print(\"false\")"
   ]
  },
  {
   "cell_type": "code",
   "execution_count": 23,
   "id": "02777900-a820-4ba7-a2cf-9ed1b77b50b6",
   "metadata": {},
   "outputs": [
    {
     "data": {
      "text/plain": [
       "4"
      ]
     },
     "execution_count": 23,
     "metadata": {},
     "output_type": "execute_result"
    }
   ],
   "source": [
    "#WAP to find the length of the set\n",
    "len(value)"
   ]
  },
  {
   "cell_type": "code",
   "execution_count": null,
   "id": "a4c57b85-8697-4336-9f5b-2fb0d4e39b6a",
   "metadata": {},
   "outputs": [],
   "source": [
    "UNION OF TWO SETS"
   ]
  },
  {
   "cell_type": "code",
   "execution_count": 25,
   "id": "251be44f-40ac-4040-9ca1-6fe24e929c00",
   "metadata": {},
   "outputs": [
    {
     "data": {
      "text/plain": [
       "{'april', 'feb', 'jan', 'mar'}"
      ]
     },
     "execution_count": 25,
     "metadata": {},
     "output_type": "execute_result"
    }
   ],
   "source": [
    "month1_set={'jan','feb','mar','april'}\n",
    "month2_set={'nov','jan','mar','dec'}\n",
    "month1_set"
   ]
  },
  {
   "cell_type": "code",
   "execution_count": 27,
   "id": "3215723e-19c0-4f7c-bfdb-5f6d8b9311d5",
   "metadata": {},
   "outputs": [
    {
     "data": {
      "text/plain": [
       "{'dec', 'jan', 'mar', 'nov'}"
      ]
     },
     "execution_count": 27,
     "metadata": {},
     "output_type": "execute_result"
    }
   ],
   "source": [
    "month2_set"
   ]
  },
  {
   "cell_type": "code",
   "execution_count": 31,
   "id": "61c68d5a-aeaf-4aee-b240-8caf11882cde",
   "metadata": {},
   "outputs": [
    {
     "data": {
      "text/plain": [
       "{'april', 'dec', 'feb', 'jan', 'mar', 'nov'}"
      ]
     },
     "execution_count": 31,
     "metadata": {},
     "output_type": "execute_result"
    }
   ],
   "source": [
    "month=month1_set|month2_set\n",
    "month\n"
   ]
  },
  {
   "cell_type": "code",
   "execution_count": 33,
   "id": "efb6b74c-e5de-46bf-81e1-f28122dc9376",
   "metadata": {},
   "outputs": [
    {
     "data": {
      "text/plain": [
       "{'april', 'dec', 'feb', 'jan', 'mar', 'nov'}"
      ]
     },
     "execution_count": 33,
     "metadata": {},
     "output_type": "execute_result"
    }
   ],
   "source": [
    "month_common=month1_set.union(month2_set)\n",
    "month_common"
   ]
  },
  {
   "cell_type": "code",
   "execution_count": null,
   "id": "eaffcc06-0c23-48de-80a0-37e6be40958b",
   "metadata": {},
   "outputs": [],
   "source": [
    "INTERSECTION OF TWO SETS"
   ]
  },
  {
   "cell_type": "code",
   "execution_count": 41,
   "id": "f562edfb-3e87-43fa-80a6-89def3500982",
   "metadata": {},
   "outputs": [
    {
     "data": {
      "text/plain": [
       "{'jan', 'mar'}"
      ]
     },
     "execution_count": 41,
     "metadata": {},
     "output_type": "execute_result"
    }
   ],
   "source": [
    "common=month1_set&month2_set\n",
    "common"
   ]
  },
  {
   "cell_type": "code",
   "execution_count": 43,
   "id": "3d4a43a2-285f-416a-8c4d-7a73a30e0316",
   "metadata": {},
   "outputs": [
    {
     "data": {
      "text/plain": [
       "{'jan', 'mar'}"
      ]
     },
     "execution_count": 43,
     "metadata": {},
     "output_type": "execute_result"
    }
   ],
   "source": [
    "month_common=month1_set.intersection(month2_set)\n",
    "month_common"
   ]
  },
  {
   "cell_type": "code",
   "execution_count": null,
   "id": "95c864c1-1338-4117-b19f-d07ad26c961c",
   "metadata": {},
   "outputs": [],
   "source": [
    "DIFFERENCE OF TWO SETS"
   ]
  },
  {
   "cell_type": "code",
   "execution_count": 47,
   "id": "b76a26c1-65a6-4887-94af-29250ae46464",
   "metadata": {},
   "outputs": [
    {
     "data": {
      "text/plain": [
       "{'april', 'feb'}"
      ]
     },
     "execution_count": 47,
     "metadata": {},
     "output_type": "execute_result"
    }
   ],
   "source": [
    "diff=month1_set-month2_set\n",
    "diff"
   ]
  },
  {
   "cell_type": "code",
   "execution_count": 49,
   "id": "ad471271-a87e-4b3a-b8f4-a51b2521f214",
   "metadata": {},
   "outputs": [
    {
     "data": {
      "text/plain": [
       "{'dec', 'nov'}"
      ]
     },
     "execution_count": 49,
     "metadata": {},
     "output_type": "execute_result"
    }
   ],
   "source": [
    "diff=month2_set-month1_set\n",
    "diff"
   ]
  },
  {
   "cell_type": "code",
   "execution_count": 53,
   "id": "f110bc23-25ad-42b8-b538-59ccb93513f6",
   "metadata": {},
   "outputs": [
    {
     "data": {
      "text/plain": [
       "{'april', 'feb'}"
      ]
     },
     "execution_count": 53,
     "metadata": {},
     "output_type": "execute_result"
    }
   ],
   "source": [
    "x=month1_set.difference(month2_set)\n",
    "x"
   ]
  },
  {
   "cell_type": "code",
   "execution_count": null,
   "id": "5a071957-f590-48fe-ad13-ccab6d452fcd",
   "metadata": {},
   "outputs": [],
   "source": [
    "SET COMPARSION"
   ]
  },
  {
   "cell_type": "code",
   "execution_count": 55,
   "id": "34a9270c-7d55-4d0f-9334-1b14ac1e5b9f",
   "metadata": {},
   "outputs": [
    {
     "data": {
      "text/plain": [
       "True"
      ]
     },
     "execution_count": 55,
     "metadata": {},
     "output_type": "execute_result"
    }
   ],
   "source": [
    "month1_set={'jan','feb','dec','mar'}\n",
    "month2_set={'jan','feb'}\n",
    "month1_set>month2_set"
   ]
  },
  {
   "cell_type": "code",
   "execution_count": 57,
   "id": "2732da15-0ded-4c79-95da-c7f6780f4187",
   "metadata": {},
   "outputs": [
    {
     "data": {
      "text/plain": [
       "False"
      ]
     },
     "execution_count": 57,
     "metadata": {},
     "output_type": "execute_result"
    }
   ],
   "source": [
    "month1_set<month2_set"
   ]
  }
 ],
 "metadata": {
  "kernelspec": {
   "display_name": "Python 3 (ipykernel)",
   "language": "python",
   "name": "python3"
  },
  "language_info": {
   "codemirror_mode": {
    "name": "ipython",
    "version": 3
   },
   "file_extension": ".py",
   "mimetype": "text/x-python",
   "name": "python",
   "nbconvert_exporter": "python",
   "pygments_lexer": "ipython3",
   "version": "3.12.4"
  }
 },
 "nbformat": 4,
 "nbformat_minor": 5
}
