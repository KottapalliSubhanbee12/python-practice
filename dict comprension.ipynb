{
 "cells": [
  {
   "cell_type": "code",
   "execution_count": 1,
   "id": "1e0cf478-a0e9-4acc-962a-bade9cd94b1d",
   "metadata": {},
   "outputs": [
    {
     "name": "stdout",
     "output_type": "stream",
     "text": [
      "{0: 0, 1: 1, 2: 4, 3: 9, 4: 16}\n"
     ]
    }
   ],
   "source": [
    "squares={x:x**2 for x in range(5)}\n",
    "print(squares)"
   ]
  },
  {
   "cell_type": "code",
   "execution_count": 5,
   "id": "2b68d7bc-1ccd-4cb7-9bc2-2545cb054cec",
   "metadata": {},
   "outputs": [
    {
     "name": "stdout",
     "output_type": "stream",
     "text": [
      "{0: 0, 2: 8, 4: 64}\n"
     ]
    }
   ],
   "source": [
    "#create a dictionary where the keys are even numbers and the values are their cubes\n",
    "cubes={x:x**3 for x in range(5) if x%2==0}\n",
    "print(cubes)"
   ]
  },
  {
   "cell_type": "code",
   "execution_count": 7,
   "id": "fd5d2c66-8407-4704-ac7a-3cefcc4c3993",
   "metadata": {},
   "outputs": [
    {
     "name": "stdout",
     "output_type": "stream",
     "text": [
      "{0: 0, 2: 8, 4: 64, 6: 216, 8: 512}\n"
     ]
    }
   ],
   "source": [
    "cubes={x:x**3 for x in range(10) if x%2==0}\n",
    "print(cubes)"
   ]
  },
  {
   "cell_type": "code",
   "execution_count": 13,
   "id": "a8ea95de-28b4-4d15-bd34-9de193d265e6",
   "metadata": {},
   "outputs": [
    {
     "name": "stdout",
     "output_type": "stream",
     "text": [
      "{1: 1, 3: 27, 5: 125, 7: 343, 9: 729}\n"
     ]
    }
   ],
   "source": [
    "cubes={x:x**3 for x in range(10) if x%2!=0}\n",
    "print(cubes)"
   ]
  },
  {
   "cell_type": "code",
   "execution_count": 11,
   "id": "6e82cadd-434f-4a84-9119-62ef780bb954",
   "metadata": {},
   "outputs": [
    {
     "name": "stdout",
     "output_type": "stream",
     "text": [
      "{'a': 1, 'b': 2, 'c': 3}\n"
     ]
    }
   ],
   "source": [
    "#create a dictionary from two list,one for keys and one for values\n",
    "keys=['a','b','c']\n",
    "values=[1,2,3]\n",
    "my_dict={keys[i]:values[i]for i in range (len(keys))}\n",
    "print(my_dict)"
   ]
  },
  {
   "cell_type": "code",
   "execution_count": 15,
   "id": "6e126e88-cfb4-4a05-8f01-2db777c7e9b4",
   "metadata": {},
   "outputs": [
    {
     "name": "stdout",
     "output_type": "stream",
     "text": [
      "{1: 'a', 2: 'b', 3: 'c'}\n"
     ]
    }
   ],
   "source": [
    "#create a dictionary\n",
    "original={'a':1,'b':2,'c':3}\n",
    "swapped={v:k for k, v in original.items()}\n",
    "print(swapped)"
   ]
  },
  {
   "cell_type": "code",
   "execution_count": 13,
   "id": "14fdffc9-c584-409c-b412-19c1c271ef10",
   "metadata": {},
   "outputs": [
    {
     "name": "stdout",
     "output_type": "stream",
     "text": [
      "{'b': 6, 'd': 10}\n"
     ]
    }
   ],
   "source": [
    "## Flirting items Based on Value\n",
    "## Create a dictionary where the values are only included if they satisfy a certain condition\n",
    "## Fliter out all entries where the value is less than 5\n",
    "original={'a':1,'b':6,'c':3,'d':10}\n",
    "filtered={k:v for k, v in original.items() if v>=5}\n",
    "print(filtered)"
   ]
  },
  {
   "cell_type": "code",
   "execution_count": 15,
   "id": "d266f499-af08-4c53-b112-16afa8bdffa1",
   "metadata": {},
   "outputs": [
    {
     "name": "stdout",
     "output_type": "stream",
     "text": [
      "{'a': 10, 'b': 20, 'c': 30}\n"
     ]
    }
   ],
   "source": [
    "## Transforming values\n",
    "## You can transform the values of an existing dictionary while keeping the keys intact\n",
    "## Example: Multiply each value by 10\n",
    "original ={'a':1,'b':2,'c':3}\n",
    "transformed={k:v*10 for k,v in original .items()}\n",
    "print(transformed)"
   ]
  },
  {
   "cell_type": "code",
   "execution_count": 23,
   "id": "feafe502-2500-442f-9e57-11e33d61a1b4",
   "metadata": {},
   "outputs": [
    {
     "name": "stdout",
     "output_type": "stream",
     "text": [
      "{1: {'square': 1, 'cube': 1}, 2: {'square': 4, 'cube': 8}, 3: {'square': 9, 'cube': 27}, 4: {'square': 16, 'cube': 64}}\n"
     ]
    }
   ],
   "source": [
    "## Nested Dictionary \n",
    "## You can have a dictionary comprehension inside another dictionary comprehension\n",
    "## Create a dictionary of dictionaries where each key is associated with another dictionary containing th square and cube\n",
    "numbers=[1,2,3,4]\n",
    "nested_dict={x:{'square':x**2,'cube':x**3}for x in numbers}\n",
    "print(nested_dict)"
   ]
  },
  {
   "cell_type": "code",
   "execution_count": 21,
   "id": "e7b83781-0a2a-47f4-8f1b-323929bc64c9",
   "metadata": {},
   "outputs": [
    {
     "name": "stdout",
     "output_type": "stream",
     "text": [
      "{'a': 1, 'c': 3}\n"
     ]
    }
   ],
   "source": [
    "#creating a dictionary from two lists with a condition\n",
    "keys=['a','b','c','d']\n",
    "values=[1,2,3,4]\n",
    "filtered_dict={keys[i]:values[i]for i in range(len(keys)) if i%2==0}\n",
    "print(filtered_dict)"
   ]
  },
  {
   "cell_type": "code",
   "execution_count": 25,
   "id": "3396ab77-d561-4152-bad2-e39ac5006b69",
   "metadata": {},
   "outputs": [
    {
     "name": "stdout",
     "output_type": "stream",
     "text": [
      "{'a': 1, 'b': 2, 'c': 3}\n"
     ]
    }
   ],
   "source": [
    "#creating a dictionary from tuples\n",
    "tuples=[('a',1),('b',2),('c',3)]\n",
    "my_dict={key:value for key,value in tuples}\n",
    "print(my_dict)\n"
   ]
  },
  {
   "cell_type": "code",
   "execution_count": 31,
   "id": "6a745399-6c87-4316-a2af-26827653746d",
   "metadata": {},
   "outputs": [
    {
     "name": "stdout",
     "output_type": "stream",
     "text": [
      "{'a': 1, 'b': 2, 'c': 3, 'd': 0}\n"
     ]
    }
   ],
   "source": [
    "#handling missing keys(default value)\n",
    "keys=['a','b','c','d']\n",
    "value=[1,2,3]\n",
    "my_dict={k:values[i] if i<len(value) else 0 for i,k in enumerate (keys)}\n",
    "print(my_dict)"
   ]
  },
  {
   "cell_type": "code",
   "execution_count": null,
   "id": "d2234cbf-abeb-4954-bdc4-dcc5e1f10bbf",
   "metadata": {},
   "outputs": [],
   "source": []
  }
 ],
 "metadata": {
  "kernelspec": {
   "display_name": "Python 3 (ipykernel)",
   "language": "python",
   "name": "python3"
  },
  "language_info": {
   "codemirror_mode": {
    "name": "ipython",
    "version": 3
   },
   "file_extension": ".py",
   "mimetype": "text/x-python",
   "name": "python",
   "nbconvert_exporter": "python",
   "pygments_lexer": "ipython3",
   "version": "3.12.4"
  }
 },
 "nbformat": 4,
 "nbformat_minor": 5
}
