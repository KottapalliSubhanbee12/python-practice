{
 "cells": [
  {
   "cell_type": "code",
   "execution_count": 3,
   "id": "d4348644-ef09-481d-880e-afb823302463",
   "metadata": {},
   "outputs": [
    {
     "name": "stdin",
     "output_type": "stream",
     "text": [
      " 3\n",
      " 4\n",
      " 5\n",
      " 6\n"
     ]
    },
    {
     "name": "stdout",
     "output_type": "stream",
     "text": [
      "[4, 5, 6]\n"
     ]
    }
   ],
   "source": [
    "#indexing\n",
    "size_of_list_1=int(input())\n",
    "list_1=[]\n",
    "for i in range(size_of_list_1):\n",
    "    list_1.append(int(input()))\n",
    "print(list_1)\n",
    "    "
   ]
  },
  {
   "cell_type": "code",
   "execution_count": 5,
   "id": "b440d9e7-4709-49ad-942c-a0f6a508926f",
   "metadata": {},
   "outputs": [
    {
     "name": "stdin",
     "output_type": "stream",
     "text": [
      " 4\n",
      " 7\n",
      " 19\n",
      " 10\n",
      " 23\n"
     ]
    },
    {
     "name": "stdout",
     "output_type": "stream",
     "text": [
      "[7, 19, 10, 23]\n"
     ]
    }
   ],
   "source": [
    "# write a python program to find the maximum number in a given list(for loop)\n",
    "size_of_list_2=int(input())\n",
    "list_2=[]\n",
    "for i in range(size_of_list_2):\n",
    "    list_2.append(int(input()))\n",
    "print(list_2)\n",
    "    "
   ]
  },
  {
   "cell_type": "code",
   "execution_count": 7,
   "id": "f67f99ea-97a7-4c5f-a0a2-a18f7045e9ee",
   "metadata": {},
   "outputs": [
    {
     "name": "stdin",
     "output_type": "stream",
     "text": [
      " 5 2 6 7\n"
     ]
    },
    {
     "ename": "ValueError",
     "evalue": "invalid literal for int() with base 10: '5 2 6 7'",
     "output_type": "error",
     "traceback": [
      "\u001b[1;31m---------------------------------------------------------------------------\u001b[0m",
      "\u001b[1;31mValueError\u001b[0m                                Traceback (most recent call last)",
      "Cell \u001b[1;32mIn[7], line 1\u001b[0m\n\u001b[1;32m----> 1\u001b[0m size_of_list_2\u001b[38;5;241m=\u001b[39m\u001b[38;5;28mint\u001b[39m(\u001b[38;5;28minput\u001b[39m())\n\u001b[0;32m      2\u001b[0m list_2\u001b[38;5;241m=\u001b[39m[]\n\u001b[0;32m      3\u001b[0m \u001b[38;5;28;01mfor\u001b[39;00m i \u001b[38;5;129;01min\u001b[39;00m \u001b[38;5;28mrange\u001b[39m(size_of_list_2):\n",
      "\u001b[1;31mValueError\u001b[0m: invalid literal for int() with base 10: '5 2 6 7'"
     ]
    }
   ],
   "source": [
    "size_of_list_2=int(input())\n",
    "list_2=[]\n",
    "for i in range(size_of_list_2):\n",
    "    list_2.append(int(input()))\n",
    "print(list_2)\n",
    "    \n",
    "\n"
   ]
  },
  {
   "cell_type": "code",
   "execution_count": 9,
   "id": "504c7899-b99d-4233-b3d6-1001f4c949c9",
   "metadata": {},
   "outputs": [
    {
     "data": {
      "text/plain": [
       "['hi,', 'how', 'are', 'you']"
      ]
     },
     "execution_count": 9,
     "metadata": {},
     "output_type": "execute_result"
    }
   ],
   "source": [
    "x=\"hi, how are you\"\n",
    "x.split()"
   ]
  },
  {
   "cell_type": "code",
   "execution_count": 9,
   "id": "0325e338-55ca-4279-97c0-88b41263a663",
   "metadata": {},
   "outputs": [
    {
     "name": "stdin",
     "output_type": "stream",
     "text": [
      " 2\n",
      " 3 4 \n"
     ]
    },
    {
     "name": "stdout",
     "output_type": "stream",
     "text": [
      "3\n"
     ]
    }
   ],
   "source": [
    "#write a python program to find the second largest number in the list\n",
    "a=int(input())\n",
    "b=list(map(int,input().split()))\n",
    "b.sort()\n",
    "print(b[-2])"
   ]
  },
  {
   "cell_type": "code",
   "execution_count": 7,
   "id": "20700c4d-67c7-400e-a552-4aca3f72d8e1",
   "metadata": {},
   "outputs": [
    {
     "name": "stdout",
     "output_type": "stream",
     "text": [
      "[1, 2, 3, 4, 5, 6, 7, 8, 9, 10]\n",
      "[1, 3, 5, 7, 9]\n"
     ]
    }
   ],
   "source": [
    "# write a python program  to create a list 1 to 10 elements and from the list created create another list with only odd values\n",
    "list1=list(range(1,11))\n",
    "odd=list1[::2]\n",
    "print(list1)\n",
    "print(odd)"
   ]
  },
  {
   "cell_type": "code",
   "execution_count": 5,
   "id": "863c2564-c964-47a9-94a0-e1ac03db5246",
   "metadata": {},
   "outputs": [
    {
     "name": "stdout",
     "output_type": "stream",
     "text": [
      "[0, 1, 2, 3, 4, 5, 6, 7, 8, 9, 10]\n",
      "[0, 2, 4, 6, 8, 10]\n"
     ]
    }
   ],
   "source": [
    "# write a python program to create a list of 1 to 10 elements and from the list created  create another list with only even values\n",
    "list2=list(range(0,11))\n",
    "odd=list2[::2]\n",
    "print(list2)\n",
    "print(odd)"
   ]
  },
  {
   "cell_type": "code",
   "execution_count": 17,
   "id": "be16e233-e43a-485b-82da-9b678ab584f9",
   "metadata": {},
   "outputs": [
    {
     "name": "stdin",
     "output_type": "stream",
     "text": [
      " 5\n",
      " 4 7 12 30 70\n"
     ]
    },
    {
     "name": "stdout",
     "output_type": "stream",
     "text": [
      "70\n"
     ]
    }
   ],
   "source": [
    "#write a python program to find the maximum number in the given list\n",
    "a=int(input())\n",
    "b=list(map(int,input().split()))\n",
    "print(max(b))\n"
   ]
  },
  {
   "cell_type": "code",
   "execution_count": 1,
   "id": "23fb89b0-37cc-484c-ab99-f64137223126",
   "metadata": {},
   "outputs": [
    {
     "name": "stdin",
     "output_type": "stream",
     "text": [
      " 5\n",
      " 12\n",
      " 99\n",
      " 34\n",
      " 57\n",
      " 98\n"
     ]
    },
    {
     "name": "stdout",
     "output_type": "stream",
     "text": [
      "largest even number: 98\n",
      "largest odd number: 99\n"
     ]
    }
   ],
   "source": [
    "n=int(input())\n",
    "b=[]\n",
    "for i in range(n):\n",
    "    a=int(input())\n",
    "    b.append(a)\n",
    "c=[]\n",
    "d=[]\n",
    "for i in b:\n",
    "    if(i%2==0):\n",
    "        c.append(i)\n",
    "    else:\n",
    "        d.append(i)\n",
    "c.sort()        \n",
    "d.sort()\n",
    "print(\"largest even number:\",c[-1])\n",
    "print(\"largest odd number:\",d[-1])\n",
    "        "
   ]
  },
  {
   "cell_type": "code",
   "execution_count": null,
   "id": "6469b3ff-6b93-4c96-8c4d-e1b6a4b1f72a",
   "metadata": {},
   "outputs": [],
   "source": [
    "l1=[]\n",
    "num1=int(input(\"enter size of list 1:\"))\n",
    "for n in range num"
   ]
  },
  {
   "cell_type": "code",
   "execution_count": 13,
   "id": "9462a3de-cd63-4676-8abe-48ac5b9e2be9",
   "metadata": {},
   "outputs": [
    {
     "name": "stdin",
     "output_type": "stream",
     "text": [
      " 2 3 5 6\n",
      " 7 8 9 19\n"
     ]
    },
    {
     "name": "stdout",
     "output_type": "stream",
     "text": [
      "the union of two lists is: [2, 3, 5, 6, 7, 8, 9, 19]\n"
     ]
    }
   ],
   "source": [
    "a=list(map(int,input().split()))\n",
    "b=list(map(int,input().split()))\n",
    "union=list(set().union(a,b))       \n",
    "print('the union of two lists is:',union)"
   ]
  },
  {
   "cell_type": "code",
   "execution_count": null,
   "id": "117b4c84-7597-4f2a-9478-40961ddee71d",
   "metadata": {},
   "outputs": [],
   "source": [
    "#write a program to print the number of repeated elements  n a list"
   ]
  },
  {
   "cell_type": "code",
   "execution_count": 3,
   "id": "e361c6a7-f37d-452f-9894-5eda8d64cf4d",
   "metadata": {},
   "outputs": [
    {
     "name": "stdin",
     "output_type": "stream",
     "text": [
      " 5\n",
      " 12 67 89 23 45\n"
     ]
    },
    {
     "name": "stdout",
     "output_type": "stream",
     "text": [
      "[45, 67, 89, 23, 12]\n"
     ]
    }
   ],
   "source": [
    "#WAP to swap the first and last value of the list\n",
    "size_of_list_1=int(input())\n",
    "list_1=list(map(int,input().split()))\n",
    "list_1[0]=list_1[0]+list_1[-1]\n",
    "list_1[-1]=list_1[0]-list_1[-1]\n",
    "list_1[0]=list_1[0]-list_1[-1]\n",
    "print(list_1)\n"
   ]
  },
  {
   "cell_type": "code",
   "execution_count": null,
   "id": "daabf746-664f-45b1-ab78-cd8365e25e01",
   "metadata": {},
   "outputs": [],
   "source": []
  }
 ],
 "metadata": {
  "kernelspec": {
   "display_name": "Python 3 (ipykernel)",
   "language": "python",
   "name": "python3"
  },
  "language_info": {
   "codemirror_mode": {
    "name": "ipython",
    "version": 3
   },
   "file_extension": ".py",
   "mimetype": "text/x-python",
   "name": "python",
   "nbconvert_exporter": "python",
   "pygments_lexer": "ipython3",
   "version": "3.12.4"
  }
 },
 "nbformat": 4,
 "nbformat_minor": 5
}
