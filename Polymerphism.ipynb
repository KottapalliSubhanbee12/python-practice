{
 "cells": [
  {
   "cell_type": "code",
   "execution_count": 1,
   "id": "16683fe5-58a4-4ba8-8509-edd338fd48f6",
   "metadata": {},
   "outputs": [
    {
     "name": "stdout",
     "output_type": "stream",
     "text": [
      "5\n",
      "15\n",
      "30\n"
     ]
    }
   ],
   "source": [
    "class Calc:\n",
    "    def add(self, *args):\n",
    "        return sum(args)\n",
    "def main():\n",
    "    result = Calc()\n",
    "    print(result.add(5))\n",
    "    print(result.add(5,10))\n",
    "    print(result.add(5,10,15))\n",
    "    \n",
    "main()"
   ]
  },
  {
   "cell_type": "code",
   "execution_count": 3,
   "id": "24a0552b-f25a-43d7-9c90-1c715b67af55",
   "metadata": {},
   "outputs": [
    {
     "name": "stdout",
     "output_type": "stream",
     "text": [
      "Area of Circle:  78.53975\n",
      "Area of Rectangle: 24\n"
     ]
    }
   ],
   "source": [
    "class Shape:\n",
    "    def area(self, *args):\n",
    "        if len(args) == 1:\n",
    "            radius = args[0]\n",
    "            return 3.14159 * radius * radius\n",
    "        elif len(args) == 2:\n",
    "            length, breadth = args\n",
    "            return length * breadth\n",
    "        else:\n",
    "            return \"Invalid number of arguments\"\n",
    "shape = Shape()\n",
    "\n",
    "circle_area = shape.area(5)\n",
    "print(\"Area of Circle: \",circle_area)\n",
    "rectangle_area = shape.area(4, 6)\n",
    "print(\"Area of Rectangle:\",rectangle_area)"
   ]
  },
  {
   "cell_type": "code",
   "execution_count": 9,
   "id": "b0926c12-37a6-40ea-a845-13c5229e0089",
   "metadata": {},
   "outputs": [
    {
     "name": "stdin",
     "output_type": "stream",
     "text": [
      " 45\n"
     ]
    },
    {
     "name": "stdout",
     "output_type": "stream",
     "text": [
      "529\n"
     ]
    }
   ],
   "source": [
    "#WAP program  to find the sum of odd numbers between 1 and n range using class\n",
    "class Sum_odd:\n",
    "    def calc(self):\n",
    "        __n=int(input())\n",
    "        x=0\n",
    "        for i in range(1,__n+1,2):\n",
    "            x+=i\n",
    "        print(x)\n",
    "\n",
    "m=Sum_odd()\n",
    "m.calc()"
   ]
  },
  {
   "cell_type": "code",
   "execution_count": 15,
   "id": "cf752395-f875-45f5-9823-c65a1fa8d4a6",
   "metadata": {},
   "outputs": [
    {
     "name": "stdin",
     "output_type": "stream",
     "text": [
      " 9\n"
     ]
    },
    {
     "name": "stdout",
     "output_type": "stream",
     "text": [
      "odd\n"
     ]
    }
   ],
   "source": [
    "#write a python program to find given no is odd or even using class\n",
    "class Check:\n",
    "    def odd_even(self):\n",
    "        _n=int(input())\n",
    "        if _n%2==0:\n",
    "            print(\"even\")\n",
    "        else:\n",
    "            print(\"odd\")\n",
    "\n",
    "ob=Check()\n",
    "ob.odd_even()\n"
   ]
  }
 ],
 "metadata": {
  "kernelspec": {
   "display_name": "Python 3 (ipykernel)",
   "language": "python",
   "name": "python3"
  },
  "language_info": {
   "codemirror_mode": {
    "name": "ipython",
    "version": 3
   },
   "file_extension": ".py",
   "mimetype": "text/x-python",
   "name": "python",
   "nbconvert_exporter": "python",
   "pygments_lexer": "ipython3",
   "version": "3.12.4"
  }
 },
 "nbformat": 4,
 "nbformat_minor": 5
}
