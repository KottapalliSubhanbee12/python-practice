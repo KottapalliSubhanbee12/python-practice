{
 "cells": [
  {
   "cell_type": "code",
   "execution_count": 1,
   "id": "db6148ba-2d90-48af-9433-6eee95410527",
   "metadata": {},
   "outputs": [
    {
     "name": "stdout",
     "output_type": "stream",
     "text": [
      "()\n"
     ]
    }
   ],
   "source": [
    "#creating tuples\n",
    "empty_tuple=()\n",
    "print(empty_tuple)"
   ]
  },
  {
   "cell_type": "code",
   "execution_count": 7,
   "id": "39c7bc2c-1de7-47d9-a900-a1e85ed11ce4",
   "metadata": {},
   "outputs": [
    {
     "name": "stdout",
     "output_type": "stream",
     "text": [
      "(26, 45, 32)\n"
     ]
    }
   ],
   "source": [
    "#creating tuples-1\n",
    "value_tuple=26,45,32\n",
    "print(value_tuple)"
   ]
  },
  {
   "cell_type": "code",
   "execution_count": 9,
   "id": "24a15370-4a03-4a47-bf49-032199ad6eb1",
   "metadata": {},
   "outputs": [
    {
     "name": "stdout",
     "output_type": "stream",
     "text": [
      "(26, 45, 'hello')\n"
     ]
    }
   ],
   "source": [
    "#creating tuples-2\n",
    "value_tuple=(26,45,'hello')\n",
    "print(value_tuple)"
   ]
  },
  {
   "cell_type": "code",
   "execution_count": 15,
   "id": "d384b03b-ddbb-448a-a74d-c109c9b14daa",
   "metadata": {},
   "outputs": [
    {
     "name": "stdout",
     "output_type": "stream",
     "text": [
      "hello\n"
     ]
    }
   ],
   "source": [
    "#creating tuples with 1 element\n",
    "tuple=(\"hello\")\n",
    "print(tuple)"
   ]
  },
  {
   "cell_type": "code",
   "execution_count": 25,
   "id": "35c68254-0cfd-424b-b1be-1554602465ee",
   "metadata": {},
   "outputs": [
    {
     "name": "stdout",
     "output_type": "stream",
     "text": [
      "<class 'str'>\n"
     ]
    }
   ],
   "source": [
    "\n",
    "tuple=(\"hello\")\n",
    "print (type(tuple))"
   ]
  },
  {
   "cell_type": "code",
   "execution_count": 23,
   "id": "d9e3da07-dc31-4b81-ba0d-5080c3f7cf45",
   "metadata": {},
   "outputs": [
    {
     "name": "stdout",
     "output_type": "stream",
     "text": [
      "<class 'tuple'>\n"
     ]
    }
   ],
   "source": [
    "\n",
    "tuple=(\"hello\",)\n",
    "print(type(tuple))"
   ]
  },
  {
   "cell_type": "code",
   "execution_count": 29,
   "id": "d87be55e-45db-4f2a-9876-49552898fd25",
   "metadata": {},
   "outputs": [
    {
     "ename": "TypeError",
     "evalue": "'tuple' object does not support item assignment",
     "output_type": "error",
     "traceback": [
      "\u001b[1;31m---------------------------------------------------------------------------\u001b[0m",
      "\u001b[1;31mTypeError\u001b[0m                                 Traceback (most recent call last)",
      "Cell \u001b[1;32mIn[29], line 3\u001b[0m\n\u001b[0;32m      1\u001b[0m \u001b[38;5;66;03m#immutable type error\u001b[39;00m\n\u001b[0;32m      2\u001b[0m value_tuple\u001b[38;5;241m=\u001b[39m(\u001b[38;5;241m26\u001b[39m,\u001b[38;5;241m45\u001b[39m,\u001b[38;5;124m'\u001b[39m\u001b[38;5;124mhello\u001b[39m\u001b[38;5;124m'\u001b[39m)\n\u001b[1;32m----> 3\u001b[0m value_tuple[\u001b[38;5;241m1\u001b[39m]\u001b[38;5;241m=\u001b[39m\u001b[38;5;241m7\u001b[39m\n\u001b[0;32m      4\u001b[0m \u001b[38;5;28mprint\u001b[39m(value_tuple)\n",
      "\u001b[1;31mTypeError\u001b[0m: 'tuple' object does not support item assignment"
     ]
    }
   ],
   "source": [
    "#immutable type error\n",
    "value_tuple=(26,45,'hello')\n",
    "value_tuple[1]=7\n",
    "print(value_tuple)"
   ]
  },
  {
   "cell_type": "code",
   "execution_count": 33,
   "id": "35db5687-afe9-49b8-94f8-a0fc3f59186d",
   "metadata": {},
   "outputs": [
    {
     "name": "stdout",
     "output_type": "stream",
     "text": [
      "(26, 45, 'hello', 7, 5.6, 'python')\n"
     ]
    }
   ],
   "source": [
    "#concatination\n",
    "value1_tuple=(26,45,\"hello\")\n",
    "value2_tuple=7,5.6,\"python\"\n",
    "print(value1_tuple+value2_tuple)"
   ]
  },
  {
   "cell_type": "code",
   "execution_count": 39,
   "id": "73c3a6cc-a94c-474a-8379-f4d028d6c733",
   "metadata": {},
   "outputs": [
    {
     "name": "stdout",
     "output_type": "stream",
     "text": [
      "((26, 45, 'hello'), (7, 5.6, 'python'))\n"
     ]
    }
   ],
   "source": [
    "#nesting of tuples\n",
    "value1_tuple=(26,45,\"hello\")\n",
    "value2_tuple=7,5.6,\"python\"\n",
    "value3_tuple=value1_tuple,value2_tuple\n",
    "print(value3_tuple)"
   ]
  },
  {
   "cell_type": "code",
   "execution_count": 45,
   "id": "6ba452f8-4c3e-4cb1-b182-dfdbe63320c9",
   "metadata": {},
   "outputs": [
    {
     "name": "stdout",
     "output_type": "stream",
     "text": [
      "(26, 45, 'hello', 26, 45, 'hello')\n"
     ]
    }
   ],
   "source": [
    "#repeition in tuples\n",
    "value1_tuple=(26,45,\"hello\")*2\n",
    "print(value1_tuple)"
   ]
  },
  {
   "cell_type": "code",
   "execution_count": 47,
   "id": "424b06e7-d063-4fa7-9bc9-cec6c39357df",
   "metadata": {},
   "outputs": [
    {
     "name": "stdout",
     "output_type": "stream",
     "text": [
      "7.5\n"
     ]
    }
   ],
   "source": [
    "#accessing values in tuple\n",
    "value1_tuple=(26,45,\"hello\",7.5)\n",
    "print(value1_tuple[3])"
   ]
  },
  {
   "cell_type": "code",
   "execution_count": 53,
   "id": "2815579e-64fb-42e7-a92e-3ab44b045182",
   "metadata": {},
   "outputs": [
    {
     "name": "stdout",
     "output_type": "stream",
     "text": [
      "(26, 45, 'hello', 7.5)\n"
     ]
    }
   ],
   "source": [
    "#sicing in tuples\n",
    "value1_tuple=(26,45,\"hello\",7.5)\n",
    "print(value1_tuple[0:])"
   ]
  },
  {
   "cell_type": "code",
   "execution_count": 55,
   "id": "f8a7b82d-ac25-42b1-bda6-18b32b5718c4",
   "metadata": {},
   "outputs": [
    {
     "name": "stdout",
     "output_type": "stream",
     "text": [
      "('hello', 7.5)\n"
     ]
    }
   ],
   "source": [
    "value1_tuple=(26,45,\"hello\",7.5)\n",
    "print(value1_tuple[2:])"
   ]
  },
  {
   "cell_type": "code",
   "execution_count": 57,
   "id": "03a5482d-f0ad-426c-babb-52eee48fe5d0",
   "metadata": {},
   "outputs": [
    {
     "name": "stdout",
     "output_type": "stream",
     "text": [
      "(7.5,)\n"
     ]
    }
   ],
   "source": [
    "value1_tuple=(26,45,\"hello\",7.5)\n",
    "print(value1_tuple[3:])"
   ]
  },
  {
   "cell_type": "code",
   "execution_count": 59,
   "id": "0a4f7ec3-1778-4c7f-9227-81b7ba6d074b",
   "metadata": {},
   "outputs": [
    {
     "name": "stdout",
     "output_type": "stream",
     "text": [
      "(26, 45, 'hello', 7.5)\n"
     ]
    }
   ],
   "source": [
    "value1_tuple=(26,45,\"hello\",7.5)\n",
    "print(value1_tuple[:7])"
   ]
  },
  {
   "cell_type": "code",
   "execution_count": 65,
   "id": "e9c58963-4f73-424b-88de-005d08af7b56",
   "metadata": {},
   "outputs": [
    {
     "name": "stdout",
     "output_type": "stream",
     "text": [
      "(26, 45, 'hello', 7.5)\n"
     ]
    }
   ],
   "source": [
    "value1_tuple=(26,45,\"hello\",7.5, 'z',5,6.9)\n",
    "print(value1_tuple[:4])"
   ]
  },
  {
   "cell_type": "code",
   "execution_count": 67,
   "id": "2b260781-e184-47ef-9d5b-d39ceb2975d1",
   "metadata": {},
   "outputs": [
    {
     "name": "stdout",
     "output_type": "stream",
     "text": [
      "(26, 45, 'hello')\n"
     ]
    }
   ],
   "source": [
    "value1_tuple=(26,45,\"hello\",7.5, 'z',5,6.9)\n",
    "print(value1_tuple[:-4])"
   ]
  },
  {
   "cell_type": "code",
   "execution_count": 69,
   "id": "ba72f98c-00d4-4acf-b558-ba61a5b25548",
   "metadata": {},
   "outputs": [
    {
     "name": "stdout",
     "output_type": "stream",
     "text": [
      "(7.5, 'z', 5, 6.9)\n"
     ]
    }
   ],
   "source": [
    "value1_tuple=(26,45,\"hello\",7.5, 'z',5,6.9)\n",
    "print(value1_tuple[-4:])"
   ]
  },
  {
   "cell_type": "code",
   "execution_count": 71,
   "id": "7683aeb2-15df-4edf-9024-179980c6c444",
   "metadata": {},
   "outputs": [
    {
     "name": "stdout",
     "output_type": "stream",
     "text": [
      "(26, 45, 'hello', 7.5, 'z', 5)\n"
     ]
    }
   ],
   "source": [
    "value1_tuple=(26,45,\"hello\",7.5, 'z',5,6.9)\n",
    "print(value1_tuple[:-1])"
   ]
  },
  {
   "cell_type": "code",
   "execution_count": 73,
   "id": "52206d0d-a990-4595-a837-17b1f9f12ce7",
   "metadata": {},
   "outputs": [
    {
     "name": "stdout",
     "output_type": "stream",
     "text": [
      "(26, 45, 'hello', 7.5, 'z', 5, 6.9)\n"
     ]
    }
   ],
   "source": [
    "value1_tuple=(26,45,\"hello\",7.5, 'z',5,6.9)\n",
    "print(value1_tuple[::1])"
   ]
  },
  {
   "cell_type": "code",
   "execution_count": 75,
   "id": "1598c98e-fc5e-4b08-bde0-6323fab049d7",
   "metadata": {},
   "outputs": [
    {
     "name": "stdout",
     "output_type": "stream",
     "text": [
      "(6.9, 5, 'z', 7.5, 'hello', 45, 26)\n"
     ]
    }
   ],
   "source": [
    "value1_tuple=(26,45,\"hello\",7.5, 'z',5,6.9)\n",
    "print(value1_tuple[::-1])"
   ]
  },
  {
   "cell_type": "code",
   "execution_count": 77,
   "id": "aa7a1f7a-a6e0-4ad4-8795-28ee7aac2942",
   "metadata": {},
   "outputs": [
    {
     "name": "stdout",
     "output_type": "stream",
     "text": [
      "(6.9, 'z', 'hello', 26)\n"
     ]
    }
   ],
   "source": [
    "value1_tuple=(26,45,\"hello\",7.5, 'z',5,6.9)\n",
    "print(value1_tuple[::-2])"
   ]
  },
  {
   "cell_type": "code",
   "execution_count": 79,
   "id": "02e3c06d-31ad-4488-a985-7c2f3719b822",
   "metadata": {},
   "outputs": [
    {
     "name": "stdout",
     "output_type": "stream",
     "text": [
      "(6.9, 7.5, 26)\n"
     ]
    }
   ],
   "source": [
    "value1_tuple=(26,45,\"hello\",7.5, 'z',5,6.9)\n",
    "print(value1_tuple[::-3])"
   ]
  },
  {
   "cell_type": "code",
   "execution_count": 81,
   "id": "c9673c55-4828-4a62-a2bf-07f9b16e8613",
   "metadata": {},
   "outputs": [
    {
     "name": "stdout",
     "output_type": "stream",
     "text": [
      "('z', 5, 6.9)\n"
     ]
    }
   ],
   "source": [
    "value1_tuple=(26,45,\"hello\",7.5, 'z',5,6.9)\n",
    "print(value1_tuple[-3::])"
   ]
  },
  {
   "cell_type": "code",
   "execution_count": 83,
   "id": "fcafb96d-27a8-4d1e-b1c3-d6e97eea4bbd",
   "metadata": {},
   "outputs": [
    {
     "name": "stdout",
     "output_type": "stream",
     "text": [
      "('hello', 7.5, 'z', 5, 6.9)\n"
     ]
    }
   ],
   "source": [
    "value1_tuple=(26,45,\"hello\",7.5, 'z',5,6.9)\n",
    "print(value1_tuple[2::])"
   ]
  },
  {
   "cell_type": "code",
   "execution_count": 85,
   "id": "f21718eb-a81d-40c6-9d6f-6aa41f328ef6",
   "metadata": {},
   "outputs": [
    {
     "name": "stdout",
     "output_type": "stream",
     "text": [
      "(26, 'hello', 'z', 6.9)\n"
     ]
    }
   ],
   "source": [
    "value1_tuple=(26,45,\"hello\",7.5, 'z',5,6.9)\n",
    "print(value1_tuple[::2])"
   ]
  },
  {
   "cell_type": "code",
   "execution_count": 87,
   "id": "a1d1bd6c-2051-48a2-ba10-e7f5c8658c66",
   "metadata": {},
   "outputs": [
    {
     "name": "stdout",
     "output_type": "stream",
     "text": [
      "(45, 'hello', 7.5)\n"
     ]
    }
   ],
   "source": [
    "value1_tuple=(26,45,\"hello\",7.5, 'z',5,6.9)\n",
    "print(value1_tuple[1:4])"
   ]
  },
  {
   "cell_type": "code",
   "execution_count": 89,
   "id": "e30faea1-3baf-472a-8afe-4527615c664b",
   "metadata": {},
   "outputs": [
    {
     "name": "stdout",
     "output_type": "stream",
     "text": [
      "(45, 'hello', 7.5, 'z', 5, 6.9)\n"
     ]
    }
   ],
   "source": [
    "value1_tuple=(26,45,\"hello\",7.5, 'z',5,6.9)\n",
    "print(value1_tuple[1::1])"
   ]
  },
  {
   "cell_type": "code",
   "execution_count": 91,
   "id": "0e96190b-c615-4fc1-8ebc-17747b3bcd79",
   "metadata": {},
   "outputs": [
    {
     "name": "stdout",
     "output_type": "stream",
     "text": [
      "(45, 'z')\n"
     ]
    }
   ],
   "source": [
    "value1_tuple=(26,45,\"hello\",7.5, 'z',5,6.9)\n",
    "print(value1_tuple[1::3])"
   ]
  },
  {
   "cell_type": "code",
   "execution_count": 93,
   "id": "48e30b9a-6a41-4567-9ad3-c0f7d1b97a43",
   "metadata": {},
   "outputs": [
    {
     "name": "stdout",
     "output_type": "stream",
     "text": [
      "(45, 7.5, 5)\n"
     ]
    }
   ],
   "source": [
    "value1_tuple=(26,45,\"hello\",7.5, 'z',5,6.9)\n",
    "print(value1_tuple[1:6:2])"
   ]
  },
  {
   "cell_type": "code",
   "execution_count": 95,
   "id": "4c6076b8-9669-4f1d-81e3-0b781d0d5ff4",
   "metadata": {},
   "outputs": [
    {
     "name": "stdout",
     "output_type": "stream",
     "text": [
      "(45,)\n"
     ]
    }
   ],
   "source": [
    "value1_tuple=(26,45,\"hello\",7.5, 'z',5,6.9)\n",
    "print(value1_tuple[1:3:2])"
   ]
  },
  {
   "cell_type": "code",
   "execution_count": 101,
   "id": "e7a19787-f05c-487a-a361-36773bb5b709",
   "metadata": {},
   "outputs": [
    {
     "ename": "SyntaxError",
     "evalue": "invalid syntax (2847700092.py, line 4)",
     "output_type": "error",
     "traceback": [
      "\u001b[1;36m  Cell \u001b[1;32mIn[101], line 4\u001b[1;36m\u001b[0m\n\u001b[1;33m    print(del)\u001b[0m\n\u001b[1;37m          ^\u001b[0m\n\u001b[1;31mSyntaxError\u001b[0m\u001b[1;31m:\u001b[0m invalid syntax\n"
     ]
    }
   ],
   "source": [
    "#deleting  a tuple\n",
    "value1_tuple=(26,45,\"hello\",7.5, 'z',5,6.9)\n",
    "del(value1_tuple)\n",
    "print(del)"
   ]
  },
  {
   "cell_type": "code",
   "execution_count": null,
   "id": "f18229d9-21a1-4ffa-8a6d-d72f44710588",
   "metadata": {},
   "outputs": [],
   "source": []
  },
  {
   "cell_type": "code",
   "execution_count": null,
   "id": "215840c8-7f1a-42c0-b74d-6b4d9afbee91",
   "metadata": {},
   "outputs": [],
   "source": []
  }
 ],
 "metadata": {
  "kernelspec": {
   "display_name": "Python 3 (ipykernel)",
   "language": "python",
   "name": "python3"
  },
  "language_info": {
   "codemirror_mode": {
    "name": "ipython",
    "version": 3
   },
   "file_extension": ".py",
   "mimetype": "text/x-python",
   "name": "python",
   "nbconvert_exporter": "python",
   "pygments_lexer": "ipython3",
   "version": "3.12.4"
  }
 },
 "nbformat": 4,
 "nbformat_minor": 5
}
