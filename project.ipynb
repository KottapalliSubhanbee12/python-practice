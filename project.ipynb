{
 "cells": [
  {
   "cell_type": "code",
   "execution_count": null,
   "id": "c902001a-b004-4a48-a969-8daada0f1e76",
   "metadata": {},
   "outputs": [],
   "source": [
    "import random\n",
    "\n",
    "def sorting_game():\n",
    "    print(\"Welcome to the Sorting Game!\")\n",
    "    print(\"Your goal is to sort the list in ascending order.\")\n",
    "    print(\"Type the positions (1-based index) of two items to swap them. Let's begin!\")\n",
    "\n",
    "    # Generate a random list of numbers\n",
    "    elements = random.sample(range(1, 21), 5)  # A list of 5 random numbers between 1 and 20\n",
    "    correct_order = sorted(elements)  # Store the correct order for comparison\n",
    "    \n",
    "    while elements != correct_order:\n",
    "        print(\"\\nCurrent list: \", elements)\n",
    "        try:\n",
    "            # Get user input for the swap operation\n",
    "            user_input = input(\"Enter two positions to swap (e.g., '1 3'): \")\n",
    "            pos1, pos2 = map(int, user_input.split())\n",
    "            \n",
    "            # Convert to zero-based index and perform the swap\n",
    "            pos1 -= 1\n",
    "            pos2 -= 1\n",
    "            if pos1 < 0 or pos2 < 0 or pos1 >= len(elements) or pos2 >= len(elements):\n",
    "                print(\"Invalid positions. Try again.\")\n",
    "                continue\n",
    "            \n",
    "            # Perform the swap\n",
    "            elements[pos1], elements[pos2] = elements[pos2], elements[pos1]\n",
    "        except (ValueError, IndexError):\n",
    "            print(\"Invalid input. Please enter two numbers separated by a space.\")\n",
    "\n",
    "    # Congratulate the user when the list is sorted\n",
    "    print(\"\\nCongratulations! You sorted the list:\", elements)\n",
    "\n",
    "# Run the game\n",
    "sorting_game()"
   ]
  }
 ],
 "metadata": {
  "kernelspec": {
   "display_name": "Python 3 (ipykernel)",
   "language": "python",
   "name": "python3"
  },
  "language_info": {
   "codemirror_mode": {
    "name": "ipython",
    "version": 3
   },
   "file_extension": ".py",
   "mimetype": "text/x-python",
   "name": "python",
   "nbconvert_exporter": "python",
   "pygments_lexer": "ipython3",
   "version": "3.12.4"
  }
 },
 "nbformat": 4,
 "nbformat_minor": 5
}
