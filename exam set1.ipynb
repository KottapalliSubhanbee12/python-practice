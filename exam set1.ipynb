{
 "cells": [
  {
   "cell_type": "code",
   "execution_count": 5,
   "id": "f0c04d55-e06e-4672-b469-e143f1cb60a1",
   "metadata": {},
   "outputs": [
    {
     "name": "stdin",
     "output_type": "stream",
     "text": [
      "enter your number 3\n"
     ]
    },
    {
     "name": "stdout",
     "output_type": "stream",
     "text": [
      "number is odd\n"
     ]
    }
   ],
   "source": [
    "#1\n",
    "n=int(input(\"enter your number\"))\n",
    "if n%2==0:\n",
    "    print(\"number is even\")\n",
    "else:\n",
    "    print(\"number is odd\")"
   ]
  },
  {
   "cell_type": "code",
   "execution_count": 3,
   "id": "5e8d680e-6a60-46a4-8778-4bb77dfad771",
   "metadata": {},
   "outputs": [
    {
     "name": "stdin",
     "output_type": "stream",
     "text": [
      "enter your number 6\n"
     ]
    },
    {
     "name": "stdout",
     "output_type": "stream",
     "text": [
      "number is even\n"
     ]
    }
   ],
   "source": [
    "n=int(input(\"enter your number\"))\n",
    "if n%2==0:\n",
    "    print(\"number is even\")\n",
    "else:\n",
    "    print(\"number is odd\")"
   ]
  },
  {
   "cell_type": "code",
   "execution_count": 9,
   "id": "a6884c1a-dc99-4c6c-a346-e97b2e109b24",
   "metadata": {},
   "outputs": [
    {
     "name": "stdin",
     "output_type": "stream",
     "text": [
      "enter the value of a: 2\n",
      "enter the value of b: 3\n",
      "enter the value of c: 4\n"
     ]
    },
    {
     "name": "stdout",
     "output_type": "stream",
     "text": [
      "max value is {4}\n"
     ]
    }
   ],
   "source": [
    "#2.\n",
    "def max(a,b,c):\n",
    "    if a>=b and b>=a:\n",
    "        print(\"max value is\",{a})\n",
    "    elif b>=a and b>=c:\n",
    "        print(\"max value is\",{b})\n",
    "    else:\n",
    "        print(\"max value is\",{c})\n",
    "\n",
    "a=int(input(\"enter the value of a:\"))\n",
    "b=int(input(\"enter the value of b:\"))\n",
    "c=int(input(\"enter the value of c:\"))\n",
    "max(a,b,c)"
   ]
  },
  {
   "cell_type": "code",
   "execution_count": 39,
   "id": "cab3541a-9ac6-43cf-92ee-edbd56381aa6",
   "metadata": {},
   "outputs": [
    {
     "name": "stdout",
     "output_type": "stream",
     "text": [
      "{40: ['subbu'], 50: ['harshi'], 60: ['mahesh'], 55: ['hemanth']}\n"
     ]
    }
   ],
   "source": [
    "#3.\n",
    "names_ages={\n",
    "    \"subbu\":40,\n",
    "    \"harshi\":50,\n",
    "    \"hemanth\":55,\n",
    "    \"mahesh\":60\n",
    "}\n",
    "ages_names={age:[name for name, age_val in names_ages.items() if age_val == age] for age in set(names_ages.values())}\n",
    "print(ages_names)\n"
   ]
  }
 ],
 "metadata": {
  "kernelspec": {
   "display_name": "Python 3 (ipykernel)",
   "language": "python",
   "name": "python3"
  },
  "language_info": {
   "codemirror_mode": {
    "name": "ipython",
    "version": 3
   },
   "file_extension": ".py",
   "mimetype": "text/x-python",
   "name": "python",
   "nbconvert_exporter": "python",
   "pygments_lexer": "ipython3",
   "version": "3.12.4"
  }
 },
 "nbformat": 4,
 "nbformat_minor": 5
}
