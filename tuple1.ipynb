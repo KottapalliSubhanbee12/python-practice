{
 "cells": [
  {
   "cell_type": "code",
   "execution_count": 1,
   "id": "a2fb69b5-de1d-41e4-92ba-f86ba2a48b50",
   "metadata": {},
   "outputs": [
    {
     "data": {
      "text/plain": [
       "tuple"
      ]
     },
     "execution_count": 1,
     "metadata": {},
     "output_type": "execute_result"
    }
   ],
   "source": [
    "#creating tuples\n",
    "value_tuple=(26,45,'hello')\n",
    "value=(\"a\",)\n",
    "type(value)\n"
   ]
  },
  {
   "cell_type": "code",
   "execution_count": 3,
   "id": "4fb0a159-fe6b-4adb-b8ae-e1b7ed18c1e2",
   "metadata": {},
   "outputs": [
    {
     "data": {
      "text/plain": [
       "str"
      ]
     },
     "execution_count": 3,
     "metadata": {},
     "output_type": "execute_result"
    }
   ],
   "source": [
    "value=\"b\"\n",
    "type(value)"
   ]
  },
  {
   "cell_type": "code",
   "execution_count": 5,
   "id": "0eae9b97-d840-40ca-ae23-db212dd74ae0",
   "metadata": {},
   "outputs": [
    {
     "data": {
      "text/plain": [
       "(26, 45, 'hello', 7.5)"
      ]
     },
     "execution_count": 5,
     "metadata": {},
     "output_type": "execute_result"
    }
   ],
   "source": [
    "#insertion in tuple\n",
    "value_tuple=(26,45,'hello',7.5)\n",
    "value_tuple"
   ]
  },
  {
   "cell_type": "code",
   "execution_count": 9,
   "id": "11ff402c-a403-484c-8da9-b8be0a5e9252",
   "metadata": {},
   "outputs": [
    {
     "ename": "TypeError",
     "evalue": "'tuple' object does not support item assignment",
     "output_type": "error",
     "traceback": [
      "\u001b[1;31m---------------------------------------------------------------------------\u001b[0m",
      "\u001b[1;31mTypeError\u001b[0m                                 Traceback (most recent call last)",
      "Cell \u001b[1;32mIn[9], line 1\u001b[0m\n\u001b[1;32m----> 1\u001b[0m value_tuple[\u001b[38;5;241m2\u001b[39m]\u001b[38;5;241m=\u001b[39m\u001b[38;5;124m\"\u001b[39m\u001b[38;5;124mpython\u001b[39m\u001b[38;5;124m\"\u001b[39m\n",
      "\u001b[1;31mTypeError\u001b[0m: 'tuple' object does not support item assignment"
     ]
    }
   ],
   "source": [
    "value_tuple[2]=\"python\""
   ]
  },
  {
   "cell_type": "code",
   "execution_count": 15,
   "id": "47f1b7c5-fa66-43f3-a3fe-97de7362d001",
   "metadata": {},
   "outputs": [
    {
     "data": {
      "text/plain": [
       "(26, 45, 'hello', 7, 5.6, 'python')"
      ]
     },
     "execution_count": 15,
     "metadata": {},
     "output_type": "execute_result"
    }
   ],
   "source": [
    "#concatantion\n",
    "value1_tuple=(26,45,'hello')\n",
    "value2_tuple=(7,5.6,\"python\")\n",
    "value3_tuple=value1_tuple+value2_tuple\n",
    "value3_tuple"
   ]
  },
  {
   "cell_type": "code",
   "execution_count": 17,
   "id": "f7bdd1a4-0c81-4329-a891-ec2882d163b5",
   "metadata": {},
   "outputs": [
    {
     "data": {
      "text/plain": [
       "((26, 45, 'hello'), (7, 5.6, 'python'))"
      ]
     },
     "execution_count": 17,
     "metadata": {},
     "output_type": "execute_result"
    }
   ],
   "source": [
    "value1_tuple=(26,45,'hello')\n",
    "value2_tuple=(7,5.6,\"python\")\n",
    "value3_tuple=value1_tuple,value2_tuple\n",
    "value3_tuple"
   ]
  },
  {
   "cell_type": "code",
   "execution_count": 33,
   "id": "ee92b3ba-d873-4201-9eae-151776cff78e",
   "metadata": {},
   "outputs": [
    {
     "data": {
      "text/plain": [
       "(26, 45, 'hello', 7)"
      ]
     },
     "execution_count": 33,
     "metadata": {},
     "output_type": "execute_result"
    }
   ],
   "source": [
    "value1_tuple=(26,45,\"hello\")\n",
    "value1_tuple=value1_tuple+(7,)\n",
    "value1_tuple"
   ]
  },
  {
   "cell_type": "code",
   "execution_count": 37,
   "id": "f5f83b67-afa3-4800-87e9-d98b76088a1e",
   "metadata": {},
   "outputs": [
    {
     "data": {
      "text/plain": [
       "[26, 45, 'hello', 7]"
      ]
     },
     "execution_count": 37,
     "metadata": {},
     "output_type": "execute_result"
    }
   ],
   "source": [
    "converted_list=list(value1_tuple)\n",
    "converted_list"
   ]
  },
  {
   "cell_type": "code",
   "execution_count": 39,
   "id": "5a005cbc-633f-44e6-976f-7ac5a36ae47a",
   "metadata": {},
   "outputs": [
    {
     "data": {
      "text/plain": [
       "[26, 45, 'hello', 7, 7]"
      ]
     },
     "execution_count": 39,
     "metadata": {},
     "output_type": "execute_result"
    }
   ],
   "source": [
    "converted_list.append(7)\n",
    "converted_list"
   ]
  },
  {
   "cell_type": "code",
   "execution_count": 41,
   "id": "26cf1899-fea6-4cae-8afd-d155fff55edd",
   "metadata": {},
   "outputs": [
    {
     "data": {
      "text/plain": [
       "(26, 45, 'hello', 7, 7)"
      ]
     },
     "execution_count": 41,
     "metadata": {},
     "output_type": "execute_result"
    }
   ],
   "source": [
    "value1_tuple=tuple(converted_list)\n",
    "value1_tuple"
   ]
  },
  {
   "cell_type": "code",
   "execution_count": 43,
   "id": "158f282e-ec41-42f6-b53b-acbcac56a36b",
   "metadata": {},
   "outputs": [
    {
     "name": "stdout",
     "output_type": "stream",
     "text": [
      "(26, 45, 'helo', 26, 45, 'helo', 26, 45, 'helo', 26, 45, 'helo')\n"
     ]
    }
   ],
   "source": [
    "value1_tuple=(26,45,\"helo\")*4\n",
    "print(value1_tuple)"
   ]
  },
  {
   "cell_type": "code",
   "execution_count": 47,
   "id": "4ab72a68-e813-4375-aa89-003f71186a76",
   "metadata": {},
   "outputs": [
    {
     "name": "stdin",
     "output_type": "stream",
     "text": [
      " 4\n",
      " 12\n",
      " 10\n",
      " 34\n",
      " 56\n"
     ]
    }
   ],
   "source": [
    "#WAP program to get the tuple value from the user and print it\n",
    "value=()\n",
    "n=int(input())\n",
    "list_1=[]\n",
    "for i in range(n):\n",
    "    list_1.append(int(input()))\n",
    "value=tuple(list_1)"
   ]
  },
  {
   "cell_type": "code",
   "execution_count": 3,
   "id": "02471a9f-9204-4cad-87e8-b3b0e0a3ae8f",
   "metadata": {},
   "outputs": [
    {
     "name": "stdout",
     "output_type": "stream",
     "text": [
      "[10, 20, 30]\n"
     ]
    }
   ],
   "source": [
    "a=(10,20,30)\n",
    "b=list(a)\n",
    "print(b)"
   ]
  },
  {
   "cell_type": "code",
   "execution_count": 5,
   "id": "a8afadec-0f7d-4f87-a778-5f8d56730c0c",
   "metadata": {},
   "outputs": [
    {
     "name": "stdout",
     "output_type": "stream",
     "text": [
      "[10, 20, 30, 7]\n"
     ]
    }
   ],
   "source": [
    "a=(10,20,30)\n",
    "b=list(a)\n",
    "b.append(7)\n",
    "print(b)"
   ]
  },
  {
   "cell_type": "code",
   "execution_count": 9,
   "id": "9b5e5ea5-d12b-47c9-989f-6f2c1feed024",
   "metadata": {},
   "outputs": [
    {
     "data": {
      "text/plain": [
       "(10, 20, 30, 7)"
      ]
     },
     "execution_count": 9,
     "metadata": {},
     "output_type": "execute_result"
    }
   ],
   "source": [
    "a=(10,20,30)\n",
    "b=list(a)\n",
    "b.append(7)\n",
    "#print(b)\n",
    "x=tuple(b)\n",
    "x"
   ]
  },
  {
   "cell_type": "code",
   "execution_count": 11,
   "id": "6039389d-f5e1-4dca-839a-dfd88d5f0b85",
   "metadata": {},
   "outputs": [
    {
     "name": "stdout",
     "output_type": "stream",
     "text": [
      "one\n",
      "two\n",
      "three\n",
      "four\n"
     ]
    }
   ],
   "source": [
    "#Accessing values in tuple\n",
    "number=(\"one\",\"two\",\"three\",\"four\")\n",
    "i=0\n",
    "while i<len(number):\n",
    "    print(number[i])\n",
    "    i=i+1"
   ]
  },
  {
   "cell_type": "code",
   "execution_count": 13,
   "id": "267d42dc-26e9-4b5b-82be-825cfc7a9ddb",
   "metadata": {},
   "outputs": [
    {
     "name": "stdout",
     "output_type": "stream",
     "text": [
      "one\n",
      "two\n",
      "three\n",
      "four\n"
     ]
    }
   ],
   "source": [
    "number=(\"one\",\"two\",\"three\",\"four\")\n",
    "for i in number:\n",
    "    print(i)\n"
   ]
  },
  {
   "cell_type": "code",
   "execution_count": 15,
   "id": "231aed1f-444f-49f7-bb5a-a1580ed6010d",
   "metadata": {},
   "outputs": [
    {
     "name": "stdout",
     "output_type": "stream",
     "text": [
      "45\n"
     ]
    }
   ],
   "source": [
    "#write a python program to get the element 45 from the below tuple\n",
    "value_tuple=(26,12,10,6,67,91,45,\"hello\",7.5,99,7,\"name\")\n",
    "print(value_tuple[6])"
   ]
  },
  {
   "cell_type": "code",
   "execution_count": 17,
   "id": "e873b541-0ece-45f7-9bc7-079bde3d9be4",
   "metadata": {},
   "outputs": [
    {
     "name": "stdout",
     "output_type": "stream",
     "text": [
      "one\n"
     ]
    }
   ],
   "source": [
    "#unpacking the tuples\n",
    "number=(\"one\",\"two\",\"three\",\"four\")\n",
    "(a,b,c,d)=number\n",
    "print(a)"
   ]
  },
  {
   "cell_type": "code",
   "execution_count": 19,
   "id": "ec0f0ebb-6f15-48e7-b929-f301c749ec8c",
   "metadata": {},
   "outputs": [
    {
     "name": "stdout",
     "output_type": "stream",
     "text": [
      "one\n",
      "two three\n",
      "four\n"
     ]
    }
   ],
   "source": [
    "number=(\"one\",\"two\",\"three\",\"four\")\n",
    "(a,*b,c)=number\n",
    "print(a)\n",
    "print(*b)\n",
    "print(c)"
   ]
  },
  {
   "cell_type": "code",
   "execution_count": null,
   "id": "b11ee7dd-c6a7-41d9-850a-1eae66245807",
   "metadata": {},
   "outputs": [],
   "source": []
  },
  {
   "cell_type": "code",
   "execution_count": null,
   "id": "76368681-d572-48c0-a809-930c76d8ec1e",
   "metadata": {},
   "outputs": [],
   "source": []
  }
 ],
 "metadata": {
  "kernelspec": {
   "display_name": "Python 3 (ipykernel)",
   "language": "python",
   "name": "python3"
  },
  "language_info": {
   "codemirror_mode": {
    "name": "ipython",
    "version": 3
   },
   "file_extension": ".py",
   "mimetype": "text/x-python",
   "name": "python",
   "nbconvert_exporter": "python",
   "pygments_lexer": "ipython3",
   "version": "3.12.4"
  }
 },
 "nbformat": 4,
 "nbformat_minor": 5
}
