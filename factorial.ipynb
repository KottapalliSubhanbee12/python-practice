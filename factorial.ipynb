{
 "cells": [
  {
   "cell_type": "code",
   "execution_count": 25,
   "id": "a3c83bb8-1cf2-4a45-84a3-01c9549bfd93",
   "metadata": {},
   "outputs": [
    {
     "name": "stdin",
     "output_type": "stream",
     "text": [
      "enter your number 0\n"
     ]
    },
    {
     "name": "stdout",
     "output_type": "stream",
     "text": [
      "the factorial value of is 1\n"
     ]
    }
   ],
   "source": [
    "# write  a program to the factorial number.\n",
    "n=int(input(\"enter your number\"))\n",
    "fact=1\n",
    "for i in range(1,n+1):\n",
    "    fact=fact*1\n",
    "print(\"the factorial value of is\",fact)"
   ]
  },
  {
   "cell_type": "code",
   "execution_count": 27,
   "id": "a1b3403a-5ffb-4f3d-ab7d-879b7d2c76b1",
   "metadata": {},
   "outputs": [
    {
     "name": "stdin",
     "output_type": "stream",
     "text": [
      "enter your number 11\n"
     ]
    },
    {
     "name": "stdout",
     "output_type": "stream",
     "text": [
      "the factorial value of is 1\n"
     ]
    }
   ],
   "source": [
    "n=int(input(\"enter your number\"))\n",
    "fact=1\n",
    "for i in range(1,n+1):\n",
    "    fact=fact*1\n",
    "print(\"the factorial value of is\",fact)"
   ]
  },
  {
   "cell_type": "code",
   "execution_count": null,
   "id": "fe312a53-ae6d-4907-93c0-7979acaaca7e",
   "metadata": {},
   "outputs": [],
   "source": []
  }
 ],
 "metadata": {
  "kernelspec": {
   "display_name": "Python 3 (ipykernel)",
   "language": "python",
   "name": "python3"
  },
  "language_info": {
   "codemirror_mode": {
    "name": "ipython",
    "version": 3
   },
   "file_extension": ".py",
   "mimetype": "text/x-python",
   "name": "python",
   "nbconvert_exporter": "python",
   "pygments_lexer": "ipython3",
   "version": "3.12.4"
  }
 },
 "nbformat": 4,
 "nbformat_minor": 5
}
